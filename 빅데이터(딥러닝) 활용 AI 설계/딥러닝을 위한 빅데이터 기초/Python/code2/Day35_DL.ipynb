{
 "cells": [
  {
   "cell_type": "markdown",
   "metadata": {},
   "source": [
    "## 머신러닝 프로젝트\n",
    "1. 문제 정의 <br>\n",
    "회원 증가, 카드매출 증대, 생산 비용 절감(불량 원인 추정, 소비 전력 예측), ...\n",
    "\n",
    "2. 머신러닝을 사용하지 않는 방법 검토  <br>\n",
    "자동 테스트 어려움, 데이터 의존 관계 복잡, ...  <br>\n",
    "처리 파이프 라인 구조 복잡 \n",
    "\n",
    "3. 시스템 설계 <br>\n",
    "예측 결과를 어떻게 사용 <br>\n",
    "예측 오류의 영향 고려 <br>\n",
    "목표 성능, 포기 지점 설정 <br>\n",
    "\n",
    "4. 알고리즘 선택 <br>\n",
    "군집화 → 시각화 → 알고리즘 고민\n",
    "\n",
    "5. 특징 설계\n",
    "    * 수치 벡터\n",
    "    * 특징 변환 ex) 흐림(1), 맑음(3), ... \n",
    "    * 범주 → 수치(더미 변수): LabelEncoder, OneHotEncoder, ...\n",
    "\n",
    "6. 데이터 전처리\n",
    "이상치 처리, 정규화, 빈도가 낮은 단어 제거, 더미 변수화, 잡은 제거\n",
    "\n",
    "7. 학습 및 페러미터 튜닝\n",
    "    * 과적합 방지(교차 검증)\n",
    "    * 규제화\n",
    "    * 학습 곡선\n",
    "\n",
    "8. 시스템 통합\n",
    "    * 모니터링\n",
    "\n",
    "## 머신러닝 시스템, 문제 해결\n",
    "확률 → 자동 테스트가 어렵다 <br>\n",
    "예측 성능↑ → 시스템 복잡 → 유지보수↓ <br>\n",
    "시스템 변화 → 잘 대응 ML 시스템 구축 <br>\n",
    "* 예측 모델 → 모듈화 → A/B 테스트 수행: 1개 알고리즘 → 다수의 알고리즘\n",
    "\n",
    "## 머신러닝 알고리즘 선택 방법\n",
    "분류: class - 나이브베이지안, 은닉 마르코프 <br>\n",
    "회귀: 수치 <br>\n",
    "군집화 <br>\n",
    "차원 축소 <br>\n",
    "추천 <br>\n",
    "이상탐지 <br>\n",
    "강화학습: 정답이 명확하지 않은 환경에서 앞으로 취하게 될 최적의 행동 선택 <br>\n",
    "퍼셉트론: 1.온라인 학습 방식 2. 배치 학습 방식선형 분리(초평면) 가능 문제 해결 가능 <br>\n",
    "cost 함수: (실제-예측)^2 <br>\n",
    "힌지 손실 himge=경첩 <br>\n",
    "\n",
    "규제화"
   ]
  },
  {
   "cell_type": "code",
   "execution_count": 1,
   "metadata": {},
   "outputs": [],
   "source": [
    "import numpy as np"
   ]
  },
  {
   "cell_type": "code",
   "execution_count": 3,
   "metadata": {},
   "outputs": [
    {
     "data": {
      "text/plain": [
       "32"
      ]
     },
     "execution_count": 3,
     "metadata": {},
     "output_type": "execute_result"
    }
   ],
   "source": [
    "arr = np.arange(0, 4*2*4)\n",
    "len(arr)"
   ]
  },
  {
   "cell_type": "code",
   "execution_count": 4,
   "metadata": {},
   "outputs": [
    {
     "data": {
      "text/plain": [
       "array([ 0,  1,  2,  3,  4,  5,  6,  7,  8,  9, 10, 11, 12, 13, 14, 15, 16,\n",
       "       17, 18, 19, 20, 21, 22, 23, 24, 25, 26, 27, 28, 29, 30, 31])"
      ]
     },
     "execution_count": 4,
     "metadata": {},
     "output_type": "execute_result"
    }
   ],
   "source": [
    "arr"
   ]
  },
  {
   "cell_type": "code",
   "execution_count": 7,
   "metadata": {},
   "outputs": [
    {
     "data": {
      "text/plain": [
       "array([[[ 0,  1,  2,  3],\n",
       "        [ 4,  5,  6,  7]],\n",
       "\n",
       "       [[ 8,  9, 10, 11],\n",
       "        [12, 13, 14, 15]],\n",
       "\n",
       "       [[16, 17, 18, 19],\n",
       "        [20, 21, 22, 23]],\n",
       "\n",
       "       [[24, 25, 26, 27],\n",
       "        [28, 29, 30, 31]]])"
      ]
     },
     "execution_count": 7,
     "metadata": {},
     "output_type": "execute_result"
    }
   ],
   "source": [
    "v = arr.reshape([4, 2, 4])\n",
    "v"
   ]
  },
  {
   "cell_type": "code",
   "execution_count": 10,
   "metadata": {},
   "outputs": [
    {
     "data": {
      "text/plain": [
       "array([[48, 52, 56, 60],\n",
       "       [64, 68, 72, 76]])"
      ]
     },
     "execution_count": 10,
     "metadata": {},
     "output_type": "execute_result"
    }
   ],
   "source": [
    "v.sum(axis=0) # 각 행의 요소의 합"
   ]
  },
  {
   "cell_type": "code",
   "execution_count": 11,
   "metadata": {},
   "outputs": [
    {
     "data": {
      "text/plain": [
       "array([[ 4,  6,  8, 10],\n",
       "       [20, 22, 24, 26],\n",
       "       [36, 38, 40, 42],\n",
       "       [52, 54, 56, 58]])"
      ]
     },
     "execution_count": 11,
     "metadata": {},
     "output_type": "execute_result"
    }
   ],
   "source": [
    "v.sum(axis=1) # 열"
   ]
  },
  {
   "cell_type": "code",
   "execution_count": 12,
   "metadata": {},
   "outputs": [
    {
     "data": {
      "text/plain": [
       "array([[  6,  22],\n",
       "       [ 38,  54],\n",
       "       [ 70,  86],\n",
       "       [102, 118]])"
      ]
     },
     "execution_count": 12,
     "metadata": {},
     "output_type": "execute_result"
    }
   ],
   "source": [
    "v.sum(axis=2) # 깊이"
   ]
  },
  {
   "cell_type": "code",
   "execution_count": 13,
   "metadata": {},
   "outputs": [
    {
     "data": {
      "text/plain": [
       "array([[[ 0,  1,  2,  3],\n",
       "        [ 4,  5,  6,  7],\n",
       "        [ 8,  9, 10, 11]],\n",
       "\n",
       "       [[12, 13, 14, 15],\n",
       "        [16, 17, 18, 19],\n",
       "        [20, 21, 22, 23]]])"
      ]
     },
     "execution_count": 13,
     "metadata": {},
     "output_type": "execute_result"
    }
   ],
   "source": [
    "myTensor = np.arange(2*3*4).reshape(2, 3, 4)\n",
    "myTensor"
   ]
  },
  {
   "cell_type": "code",
   "execution_count": 15,
   "metadata": {},
   "outputs": [
    {
     "data": {
      "text/plain": [
       "(2, 3, 4)"
      ]
     },
     "execution_count": 15,
     "metadata": {},
     "output_type": "execute_result"
    }
   ],
   "source": [
    "myTensor.shape"
   ]
  },
  {
   "cell_type": "code",
   "execution_count": 16,
   "metadata": {},
   "outputs": [
    {
     "data": {
      "text/plain": [
       "(4, 3, 2)"
      ]
     },
     "execution_count": 16,
     "metadata": {},
     "output_type": "execute_result"
    }
   ],
   "source": [
    "np.transpose(myTensor).shape"
   ]
  },
  {
   "cell_type": "code",
   "execution_count": 18,
   "metadata": {},
   "outputs": [
    {
     "data": {
      "text/plain": [
       "(3, 4, 2)"
      ]
     },
     "execution_count": 18,
     "metadata": {},
     "output_type": "execute_result"
    }
   ],
   "source": [
    "np.transpose(myTensor, [1, 2, 0]).shape # 2 3 4 → 3 4 2"
   ]
  },
  {
   "cell_type": "code",
   "execution_count": 24,
   "metadata": {},
   "outputs": [],
   "source": [
    "from tensorflow.examples.tutorials.mnist import input_data\n",
    "import tensorflow as tf"
   ]
  },
  {
   "cell_type": "code",
   "execution_count": 21,
   "metadata": {},
   "outputs": [
    {
     "name": "stderr",
     "output_type": "stream",
     "text": [
      "W0821 14:34:44.426371 10928 deprecation.py:323] From <ipython-input-21-6ed73525cd2b>:1: read_data_sets (from tensorflow.contrib.learn.python.learn.datasets.mnist) is deprecated and will be removed in a future version.\n",
      "Instructions for updating:\n",
      "Please use alternatives such as official/mnist/dataset.py from tensorflow/models.\n",
      "W0821 14:34:44.427368 10928 deprecation.py:323] From C:\\Users\\user\\Anaconda3\\lib\\site-packages\\tensorflow\\contrib\\learn\\python\\learn\\datasets\\mnist.py:260: maybe_download (from tensorflow.contrib.learn.python.learn.datasets.base) is deprecated and will be removed in a future version.\n",
      "Instructions for updating:\n",
      "Please write your own downloading logic.\n",
      "W0821 14:34:44.444322 10928 deprecation.py:323] From C:\\Users\\user\\Anaconda3\\lib\\site-packages\\tensorflow\\contrib\\learn\\python\\learn\\datasets\\mnist.py:262: extract_images (from tensorflow.contrib.learn.python.learn.datasets.mnist) is deprecated and will be removed in a future version.\n",
      "Instructions for updating:\n",
      "Please use tf.data to implement this functionality.\n"
     ]
    },
    {
     "name": "stdout",
     "output_type": "stream",
     "text": [
      "Extracting ./res/mnist/train-images-idx3-ubyte.gz\n"
     ]
    },
    {
     "name": "stderr",
     "output_type": "stream",
     "text": [
      "W0821 14:34:44.880156 10928 deprecation.py:323] From C:\\Users\\user\\Anaconda3\\lib\\site-packages\\tensorflow\\contrib\\learn\\python\\learn\\datasets\\mnist.py:267: extract_labels (from tensorflow.contrib.learn.python.learn.datasets.mnist) is deprecated and will be removed in a future version.\n",
      "Instructions for updating:\n",
      "Please use tf.data to implement this functionality.\n",
      "W0821 14:34:44.903096 10928 deprecation.py:323] From C:\\Users\\user\\Anaconda3\\lib\\site-packages\\tensorflow\\contrib\\learn\\python\\learn\\datasets\\mnist.py:110: dense_to_one_hot (from tensorflow.contrib.learn.python.learn.datasets.mnist) is deprecated and will be removed in a future version.\n",
      "Instructions for updating:\n",
      "Please use tf.one_hot on tensors.\n",
      "W0821 14:34:45.034758 10928 deprecation.py:323] From C:\\Users\\user\\Anaconda3\\lib\\site-packages\\tensorflow\\contrib\\learn\\python\\learn\\datasets\\mnist.py:290: DataSet.__init__ (from tensorflow.contrib.learn.python.learn.datasets.mnist) is deprecated and will be removed in a future version.\n",
      "Instructions for updating:\n",
      "Please use alternatives such as official/mnist/dataset.py from tensorflow/models.\n"
     ]
    },
    {
     "name": "stdout",
     "output_type": "stream",
     "text": [
      "Extracting ./res/mnist/train-labels-idx1-ubyte.gz\n",
      "Extracting ./res/mnist/t10k-images-idx3-ubyte.gz\n",
      "Extracting ./res/mnist/t10k-labels-idx1-ubyte.gz\n"
     ]
    }
   ],
   "source": [
    "mnist = input_data.read_data_sets(\"./res/mnist/\", one_hot=True)"
   ]
  },
  {
   "cell_type": "code",
   "execution_count": 22,
   "metadata": {},
   "outputs": [],
   "source": [
    "learning_rate = 0.001\n",
    "total_epoch = 30\n",
    "batch_size = 128"
   ]
  },
  {
   "cell_type": "code",
   "execution_count": 23,
   "metadata": {},
   "outputs": [],
   "source": [
    "n_input = 28 # 가로 픽셀수\n",
    "n_step = 28 # 세로 픽셀수(입력 단계, step)\n",
    "n_hidden = 128 \n",
    "n_class = 10"
   ]
  },
  {
   "cell_type": "code",
   "execution_count": 41,
   "metadata": {},
   "outputs": [],
   "source": [
    "tf.reset_default_graph()\n",
    "x = tf.placeholder(tf.float32, [None, n_step, n_input])\n",
    "y = tf.placeholder(tf.float32, [None, n_class])\n",
    "w = tf.Variable(tf.random_normal([n_hidden, n_class]))\n",
    "b = tf.Variable(tf.random_normal([n_class]))"
   ]
  },
  {
   "cell_type": "code",
   "execution_count": 42,
   "metadata": {},
   "outputs": [],
   "source": [
    "cell = tf.nn.rnn_cell.BasicRNNCell(n_hidden)\n",
    "outputs, states = tf.nn.dynamic_rnn(cell, x, dtype=tf.float32)\n",
    "# Y: [batch_size, nclass]\n",
    "# outputs: [batch_size, n_step, n_hidden]\n",
    "# [n_step, batch_size, n_hidden]\n",
    "# [batch_size, n_hidden]\n",
    "outputs = tf.transpose(outputs, [1, 0, 2]) # [n_step, batch_size, n_hidden]\n",
    "outputs = outputs[-1] # [batch_size, n_hidden]\n",
    "model = tf.matmul(outputs, w) + b\n",
    "# tf.matmul([batch_size, n_hidden], [n_hidden, n_class])\n",
    "\n",
    "cost = tf.reduce_mean(tf.nn.softmax_cross_entropy_with_logits_v2(logits=model, labels=y))\n",
    "optimizer = tf.train.AdamOptimizer(learning_rate).minimize(cost)"
   ]
  },
  {
   "cell_type": "code",
   "execution_count": 44,
   "metadata": {},
   "outputs": [
    {
     "name": "stdout",
     "output_type": "stream",
     "text": [
      "epoch     1 avg cost 0.529\n",
      "epoch     2 avg cost 0.233\n",
      "epoch     3 avg cost 0.173\n",
      "epoch     4 avg cost 0.148\n",
      "epoch     5 avg cost 0.132\n",
      "epoch     6 avg cost 0.117\n",
      "epoch     7 avg cost 0.126\n",
      "epoch     8 avg cost 0.107\n",
      "epoch     9 avg cost 0.105\n",
      "epoch    10 avg cost 0.103\n",
      "epoch    11 avg cost 0.094\n",
      "epoch    12 avg cost 0.089\n",
      "epoch    13 avg cost 0.086\n",
      "epoch    14 avg cost 0.089\n",
      "epoch    15 avg cost 0.081\n",
      "epoch    16 avg cost 0.080\n",
      "epoch    17 avg cost 0.078\n",
      "epoch    18 avg cost 0.075\n",
      "epoch    19 avg cost 0.073\n",
      "epoch    20 avg cost 0.065\n",
      "epoch    21 avg cost 0.067\n",
      "epoch    22 avg cost 0.074\n",
      "epoch    23 avg cost 0.062\n",
      "epoch    24 avg cost 0.068\n",
      "epoch    25 avg cost 0.057\n",
      "epoch    26 avg cost 0.060\n",
      "epoch    27 avg cost 0.064\n",
      "epoch    28 avg cost 0.065\n",
      "epoch    29 avg cost 0.060\n",
      "epoch    30 avg cost 0.057\n"
     ]
    }
   ],
   "source": [
    "sess = tf.Session()\n",
    "sess.run(tf.global_variables_initializer())\n",
    "total_batch = int(mnist.train.num_examples/batch_size)\n",
    "for epoch in range(total_epoch):\n",
    "    total_cost = 0\n",
    "    for i in range(total_batch):\n",
    "        batch_xs, batch_ys = mnist.train.next_batch(batch_size)\n",
    "        # [batch_size, n_step, n_input]\n",
    "        batch_xs = batch_xs.reshape((batch_size, n_step, n_input))\n",
    "        _, cv = sess.run([optimizer, cost], feed_dict={x: batch_xs, y: batch_ys})\n",
    "        total_cost += cv\n",
    "    print(\"epoch \", \"%4d\" % (epoch+1),\n",
    "         \"avg cost\", \"{:.3f}\".format(total_cost/total_batch))\n",
    "        "
   ]
  },
  {
   "cell_type": "code",
   "execution_count": 46,
   "metadata": {},
   "outputs": [
    {
     "name": "stdout",
     "output_type": "stream",
     "text": [
      "정확도:  0.9721\n"
     ]
    }
   ],
   "source": [
    "is_correct = tf.equal(tf.argmax(model, 1), tf.argmax(y, 1))\n",
    "accuracy = tf.reduce_mean(tf.cast(is_correct, tf.float32))\n",
    "\n",
    "test_batch_size = len(mnist.test.images)\n",
    "test_xs = mnist.test.images.reshape(test_batch_size, n_step, n_input)\n",
    "test_ys = mnist.test.labels\n",
    "\n",
    "print(\"정확도: \", sess.run(accuracy, feed_dict={x: test_xs, y: test_ys}))"
   ]
  },
  {
   "cell_type": "code",
   "execution_count": 47,
   "metadata": {},
   "outputs": [],
   "source": [
    "char_arr = ['a', 'b', 'c', 'd', 'e', 'f', 'g',\n",
    "            'h', 'i', 'j', 'k', 'l', 'm', 'n',\n",
    "            'o', 'p', 'q', 'r', 's', 't', 'u',\n",
    "            'v', 'w', 'x', 'y', 'z']"
   ]
  },
  {
   "cell_type": "code",
   "execution_count": 51,
   "metadata": {},
   "outputs": [
    {
     "data": {
      "text/plain": [
       "{'a': 0,\n",
       " 'b': 1,\n",
       " 'c': 2,\n",
       " 'd': 3,\n",
       " 'e': 4,\n",
       " 'f': 5,\n",
       " 'g': 6,\n",
       " 'h': 7,\n",
       " 'i': 8,\n",
       " 'j': 9,\n",
       " 'k': 10,\n",
       " 'l': 11,\n",
       " 'm': 12,\n",
       " 'n': 13,\n",
       " 'o': 14,\n",
       " 'p': 15,\n",
       " 'q': 16,\n",
       " 'r': 17,\n",
       " 's': 18,\n",
       " 't': 19,\n",
       " 'u': 20,\n",
       " 'v': 21,\n",
       " 'w': 22,\n",
       " 'x': 23,\n",
       " 'y': 24,\n",
       " 'z': 25}"
      ]
     },
     "execution_count": 51,
     "metadata": {},
     "output_type": "execute_result"
    }
   ],
   "source": [
    "num_dic = {n:i for i, n in enumerate(char_arr)}\n",
    "num_dic"
   ]
  },
  {
   "cell_type": "code",
   "execution_count": null,
   "metadata": {},
   "outputs": [],
   "source": []
  }
 ],
 "metadata": {
  "kernelspec": {
   "display_name": "Python 3",
   "language": "python",
   "name": "python3"
  },
  "language_info": {
   "codemirror_mode": {
    "name": "ipython",
    "version": 3
   },
   "file_extension": ".py",
   "mimetype": "text/x-python",
   "name": "python",
   "nbconvert_exporter": "python",
   "pygments_lexer": "ipython3",
   "version": "3.7.3"
  }
 },
 "nbformat": 4,
 "nbformat_minor": 2
}
