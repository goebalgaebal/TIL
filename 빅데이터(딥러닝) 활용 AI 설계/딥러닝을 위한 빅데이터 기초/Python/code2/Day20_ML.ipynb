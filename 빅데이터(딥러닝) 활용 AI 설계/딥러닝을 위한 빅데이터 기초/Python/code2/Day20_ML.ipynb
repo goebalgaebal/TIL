{
 "cells": [
  {
   "cell_type": "code",
   "execution_count": 3,
   "metadata": {},
   "outputs": [
    {
     "data": {
      "text/plain": [
       "<tf.Tensor 'range_1:0' shape=(5,) dtype=int32>"
      ]
     },
     "execution_count": 3,
     "metadata": {},
     "output_type": "execute_result"
    }
   ],
   "source": [
    "import tensorflow as tf\n",
    "tf.range(5)"
   ]
  },
  {
   "cell_type": "code",
   "execution_count": 4,
   "metadata": {},
   "outputs": [
    {
     "ename": "TypeError",
     "evalue": "Value passed to parameter 'start' has DataType int32 not in list of allowed values: bfloat16, float32, float64",
     "output_type": "error",
     "traceback": [
      "\u001b[1;31m---------------------------------------------------------------------------\u001b[0m",
      "\u001b[1;31mTypeError\u001b[0m                                 Traceback (most recent call last)",
      "\u001b[1;32m<ipython-input-4-b166f8c5ee07>\u001b[0m in \u001b[0;36m<module>\u001b[1;34m\u001b[0m\n\u001b[1;32m----> 1\u001b[1;33m \u001b[0mtf\u001b[0m\u001b[1;33m.\u001b[0m\u001b[0mlinspace\u001b[0m\u001b[1;33m(\u001b[0m\u001b[1;36m0\u001b[0m\u001b[1;33m,\u001b[0m \u001b[1;36m5\u001b[0m\u001b[1;33m,\u001b[0m \u001b[1;36m11\u001b[0m\u001b[1;33m)\u001b[0m\u001b[1;33m\u001b[0m\u001b[1;33m\u001b[0m\u001b[0m\n\u001b[0m",
      "\u001b[1;32m~\\Anaconda3\\lib\\site-packages\\tensorflow\\python\\ops\\gen_math_ops.py\u001b[0m in \u001b[0;36mlin_space\u001b[1;34m(start, stop, num, name)\u001b[0m\n\u001b[0;32m   5785\u001b[0m   \u001b[1;32mtry\u001b[0m\u001b[1;33m:\u001b[0m\u001b[1;33m\u001b[0m\u001b[1;33m\u001b[0m\u001b[0m\n\u001b[0;32m   5786\u001b[0m     _, _, _op = _op_def_lib._apply_op_helper(\n\u001b[1;32m-> 5787\u001b[1;33m         \"LinSpace\", start=start, stop=stop, num=num, name=name)\n\u001b[0m\u001b[0;32m   5788\u001b[0m   \u001b[1;32mexcept\u001b[0m \u001b[1;33m(\u001b[0m\u001b[0mTypeError\u001b[0m\u001b[1;33m,\u001b[0m \u001b[0mValueError\u001b[0m\u001b[1;33m)\u001b[0m\u001b[1;33m:\u001b[0m\u001b[1;33m\u001b[0m\u001b[1;33m\u001b[0m\u001b[0m\n\u001b[0;32m   5789\u001b[0m     result = _dispatch.dispatch(\n",
      "\u001b[1;32m~\\Anaconda3\\lib\\site-packages\\tensorflow\\python\\framework\\op_def_library.py\u001b[0m in \u001b[0;36m_apply_op_helper\u001b[1;34m(self, op_type_name, name, **keywords)\u001b[0m\n\u001b[0;32m    624\u001b[0m               _SatisfiesTypeConstraint(base_type,\n\u001b[0;32m    625\u001b[0m                                        \u001b[0m_Attr\u001b[0m\u001b[1;33m(\u001b[0m\u001b[0mop_def\u001b[0m\u001b[1;33m,\u001b[0m \u001b[0minput_arg\u001b[0m\u001b[1;33m.\u001b[0m\u001b[0mtype_attr\u001b[0m\u001b[1;33m)\u001b[0m\u001b[1;33m,\u001b[0m\u001b[1;33m\u001b[0m\u001b[1;33m\u001b[0m\u001b[0m\n\u001b[1;32m--> 626\u001b[1;33m                                        param_name=input_name)\n\u001b[0m\u001b[0;32m    627\u001b[0m             \u001b[0mattrs\u001b[0m\u001b[1;33m[\u001b[0m\u001b[0minput_arg\u001b[0m\u001b[1;33m.\u001b[0m\u001b[0mtype_attr\u001b[0m\u001b[1;33m]\u001b[0m \u001b[1;33m=\u001b[0m \u001b[0mattr_value\u001b[0m\u001b[1;33m\u001b[0m\u001b[1;33m\u001b[0m\u001b[0m\n\u001b[0;32m    628\u001b[0m             \u001b[0minferred_from\u001b[0m\u001b[1;33m[\u001b[0m\u001b[0minput_arg\u001b[0m\u001b[1;33m.\u001b[0m\u001b[0mtype_attr\u001b[0m\u001b[1;33m]\u001b[0m \u001b[1;33m=\u001b[0m \u001b[0minput_name\u001b[0m\u001b[1;33m\u001b[0m\u001b[1;33m\u001b[0m\u001b[0m\n",
      "\u001b[1;32m~\\Anaconda3\\lib\\site-packages\\tensorflow\\python\\framework\\op_def_library.py\u001b[0m in \u001b[0;36m_SatisfiesTypeConstraint\u001b[1;34m(dtype, attr_def, param_name)\u001b[0m\n\u001b[0;32m     58\u001b[0m           \u001b[1;34m\"allowed values: %s\"\u001b[0m \u001b[1;33m%\u001b[0m\u001b[1;33m\u001b[0m\u001b[1;33m\u001b[0m\u001b[0m\n\u001b[0;32m     59\u001b[0m           (param_name, dtypes.as_dtype(dtype).name,\n\u001b[1;32m---> 60\u001b[1;33m            \", \".join(dtypes.as_dtype(x).name for x in allowed_list)))\n\u001b[0m\u001b[0;32m     61\u001b[0m \u001b[1;33m\u001b[0m\u001b[0m\n\u001b[0;32m     62\u001b[0m \u001b[1;33m\u001b[0m\u001b[0m\n",
      "\u001b[1;31mTypeError\u001b[0m: Value passed to parameter 'start' has DataType int32 not in list of allowed values: bfloat16, float32, float64"
     ]
    }
   ],
   "source": [
    "tf.linspace(0, 5, 11) # 시작값은 float 형태로 줄 것"
   ]
  },
  {
   "cell_type": "code",
   "execution_count": 5,
   "metadata": {},
   "outputs": [
    {
     "data": {
      "text/plain": [
       "<tf.Tensor 'LinSpace_2:0' shape=(11,) dtype=float32>"
      ]
     },
     "execution_count": 5,
     "metadata": {},
     "output_type": "execute_result"
    }
   ],
   "source": [
    "tf.linspace(0.0, 5, 11) # 0부터 5까지 11개의 구간으로 나눔"
   ]
  },
  {
   "cell_type": "code",
   "execution_count": 6,
   "metadata": {},
   "outputs": [
    {
     "data": {
      "text/plain": [
       "<tf.Tensor 'zeros:0' shape=(2, 3) dtype=float32>"
      ]
     },
     "execution_count": 6,
     "metadata": {},
     "output_type": "execute_result"
    }
   ],
   "source": [
    "tf.zeros((2, 3))"
   ]
  },
  {
   "cell_type": "code",
   "execution_count": 7,
   "metadata": {},
   "outputs": [
    {
     "data": {
      "text/plain": [
       "<tf.Tensor 'ones:0' shape=(2, 3) dtype=float32>"
      ]
     },
     "execution_count": 7,
     "metadata": {},
     "output_type": "execute_result"
    }
   ],
   "source": [
    "tf.ones((2, 3))"
   ]
  },
  {
   "cell_type": "code",
   "execution_count": 8,
   "metadata": {},
   "outputs": [
    {
     "data": {
      "text/plain": [
       "<tf.Tensor 'Fill:0' shape=(3, 3) dtype=int32>"
      ]
     },
     "execution_count": 8,
     "metadata": {},
     "output_type": "execute_result"
    }
   ],
   "source": [
    "tf.fill([3, 3], 5) # 3x3 행렬을 모두 5로 채움"
   ]
  },
  {
   "cell_type": "code",
   "execution_count": 9,
   "metadata": {},
   "outputs": [
    {
     "data": {
      "text/plain": [
       "<tf.Tensor 'zeros_like:0' shape=(2, 3) dtype=int32>"
      ]
     },
     "execution_count": 9,
     "metadata": {},
     "output_type": "execute_result"
    }
   ],
   "source": [
    "tf.zeros_like([[3, 4, 5], [0, 0, 1]]) # 2행 3열에 0이 모두 채워진채로 배열 생성"
   ]
  },
  {
   "cell_type": "code",
   "execution_count": 11,
   "metadata": {},
   "outputs": [
    {
     "data": {
      "text/plain": [
       "<tf.Tensor 'RandomShuffle:0' shape=(4,) dtype=int32>"
      ]
     },
     "execution_count": 11,
     "metadata": {},
     "output_type": "execute_result"
    }
   ],
   "source": [
    "tf.random.shuffle([1, 1, 3, 4])"
   ]
  },
  {
   "cell_type": "code",
   "execution_count": 15,
   "metadata": {},
   "outputs": [],
   "source": [
    "tf.set_random_seed(777) # 동일 난수 생성\n",
    "tf.random.set_random_seed(777)"
   ]
  },
  {
   "cell_type": "code",
   "execution_count": null,
   "metadata": {},
   "outputs": [],
   "source": [
    "tf.reshape(x, (3, 2)) # x가 1차원 벡터 → 3행 ㅈ열\n",
    "tf.transpose(x) # 전치 행렬"
   ]
  },
  {
   "cell_type": "code",
   "execution_count": 20,
   "metadata": {},
   "outputs": [
    {
     "data": {
      "text/plain": [
       "<tf.Tensor 'Reshape_2:0' shape=(3, 4) dtype=int32>"
      ]
     },
     "execution_count": 20,
     "metadata": {},
     "output_type": "execute_result"
    }
   ],
   "source": [
    "r0 = tf.reshape(tf.range(12), (3, 4))\n",
    "r0"
   ]
  },
  {
   "cell_type": "code",
   "execution_count": 21,
   "metadata": {},
   "outputs": [
    {
     "data": {
      "text/plain": [
       "array([[ 0,  1,  2,  3],\n",
       "       [ 4,  5,  6,  7],\n",
       "       [ 8,  9, 10, 11]])"
      ]
     },
     "execution_count": 21,
     "metadata": {},
     "output_type": "execute_result"
    }
   ],
   "source": [
    "sess = tf.Session()\n",
    "sess.run(r0)"
   ]
  },
  {
   "cell_type": "code",
   "execution_count": 22,
   "metadata": {},
   "outputs": [
    {
     "data": {
      "text/plain": [
       "array([[1, 2, 3],\n",
       "       [5, 6, 7]])"
      ]
     },
     "execution_count": 22,
     "metadata": {},
     "output_type": "execute_result"
    }
   ],
   "source": [
    "r1 = tf.slice(r0, [0, 1], [2, 3]) # 0, 1 위치에서 2행 3열만큼 자른다\n",
    "sess.run(r1)"
   ]
  },
  {
   "cell_type": "code",
   "execution_count": 26,
   "metadata": {},
   "outputs": [
    {
     "name": "stdout",
     "output_type": "stream",
     "text": [
      "[[ 0  1  2  3]\n",
      " [ 4  5  6  7]\n",
      " [ 8  9 10 11]]\n",
      "[[0 1]\n",
      " [4 5]\n",
      " [8 9]]\n"
     ]
    },
    {
     "data": {
      "text/plain": [
       "array([[ 2,  3],\n",
       "       [ 6,  7],\n",
       "       [10, 11]])"
      ]
     },
     "execution_count": 26,
     "metadata": {},
     "output_type": "execute_result"
    }
   ],
   "source": [
    "s1, s2 = tf.split(r0, num_or_size_splits=2, axis=1)\n",
    "print(sess.run(r0))\n",
    "print(sess.run(s1))\n",
    "sess.run(s2)"
   ]
  },
  {
   "cell_type": "code",
   "execution_count": 32,
   "metadata": {},
   "outputs": [
    {
     "data": {
      "text/plain": [
       "array([0, 1, 2, 3, 4, 5])"
      ]
     },
     "execution_count": 32,
     "metadata": {},
     "output_type": "execute_result"
    }
   ],
   "source": [
    "a = tf.range(6, dtype=tf.int32)\n",
    "sess.run(a)"
   ]
  },
  {
   "cell_type": "code",
   "execution_count": 33,
   "metadata": {},
   "outputs": [
    {
     "data": {
      "text/plain": [
       "array([2, 2, 2, 2, 2, 2])"
      ]
     },
     "execution_count": 33,
     "metadata": {},
     "output_type": "execute_result"
    }
   ],
   "source": [
    "b = 2*tf.ones(6, dtype=tf.int32)\n",
    "sess.run(b)"
   ]
  },
  {
   "cell_type": "code",
   "execution_count": 34,
   "metadata": {},
   "outputs": [
    {
     "data": {
      "text/plain": [
       "array([2, 3, 4, 5, 6, 7])"
      ]
     },
     "execution_count": 34,
     "metadata": {},
     "output_type": "execute_result"
    }
   ],
   "source": [
    "sess.run(tf.add(a, b))"
   ]
  },
  {
   "cell_type": "code",
   "execution_count": 35,
   "metadata": {},
   "outputs": [
    {
     "data": {
      "text/plain": [
       "array([-2, -1,  0,  1,  2,  3])"
      ]
     },
     "execution_count": 35,
     "metadata": {},
     "output_type": "execute_result"
    }
   ],
   "source": [
    "sess.run(tf.subtract(a, b))"
   ]
  },
  {
   "cell_type": "code",
   "execution_count": 36,
   "metadata": {},
   "outputs": [
    {
     "data": {
      "text/plain": [
       "array([ 0,  2,  4,  6,  8, 10])"
      ]
     },
     "execution_count": 36,
     "metadata": {},
     "output_type": "execute_result"
    }
   ],
   "source": [
    "sess.run(tf.multiply(a, b))"
   ]
  },
  {
   "cell_type": "code",
   "execution_count": 37,
   "metadata": {},
   "outputs": [
    {
     "data": {
      "text/plain": [
       "array([0. , 0.5, 1. , 1.5, 2. , 2.5])"
      ]
     },
     "execution_count": 37,
     "metadata": {},
     "output_type": "execute_result"
    }
   ],
   "source": [
    "sess.run(tf.divide(a, b))"
   ]
  },
  {
   "cell_type": "markdown",
   "metadata": {},
   "source": [
    "tf.abs(): 절대값 <br>\n",
    "tf.square(): 제곱 <br>\n",
    "tf.cumsum(): 누적합 <br>\n",
    "tf.sqrt(): 제곱근 <br>\n",
    "tf.maxinum(): 최대 <br>\n",
    "tf.minimum(): 최소 <br> <br>\n",
    "\n",
    "* reduce = 차원을 줄인다 <br>\n",
    "tf.reduce_mean(): axis 설정, 설정된 축을 기준으로 평균을 구한다 <br>\n",
    "tf.reduce_sum() <br>\n",
    "tf.reduce_min() <br>\n",
    "tf.reduce_max() <br>"
   ]
  },
  {
   "cell_type": "code",
   "execution_count": 39,
   "metadata": {},
   "outputs": [
    {
     "data": {
      "text/plain": [
       "array([[2., 2.],\n",
       "       [1., 1.]], dtype=float32)"
      ]
     },
     "execution_count": 39,
     "metadata": {},
     "output_type": "execute_result"
    }
   ],
   "source": [
    "x = tf.constant([[2, 0], [0, 1]], dtype=tf.float32)\n",
    "y = tf.constant([[1, 1], [1, 1]], dtype=tf.float32)\n",
    "z = tf.matmul(x, y)\n",
    "sess.run(z)"
   ]
  },
  {
   "cell_type": "code",
   "execution_count": 41,
   "metadata": {},
   "outputs": [
    {
     "data": {
      "text/plain": [
       "array([[0.5, 0. ],\n",
       "       [0. , 1. ]], dtype=float32)"
      ]
     },
     "execution_count": 41,
     "metadata": {},
     "output_type": "execute_result"
    }
   ],
   "source": [
    "xinv = tf.linalg.inv(x) # 역행렬\n",
    "sess.run(xinv)"
   ]
  },
  {
   "cell_type": "markdown",
   "metadata": {},
   "source": [
    "tf.nn.sigmoid() : 대표적인 로지스틱 함수"
   ]
  },
  {
   "cell_type": "markdown",
   "metadata": {},
   "source": [
    "## 단순 회귀 모델 hf = wx + b\n",
    "hf = 예측값, 오류 = hf - ytrain"
   ]
  },
  {
   "cell_type": "code",
   "execution_count": 59,
   "metadata": {},
   "outputs": [
    {
     "name": "stdout",
     "output_type": "stream",
     "text": [
      "0 1.4947616 [0.5790615] [-0.33142415]\n",
      "20 0.015489479 [1.0061576] [-0.13667043]\n",
      "40 0.0018995497 [1.0446523] [-0.11318623]\n",
      "60 0.0016148664 [1.0462469] [-0.10624231]\n",
      "80 0.0014656521 [1.0444251] [-0.1010946]\n",
      "100 0.0013311212 [1.0423708] [-0.09632881]\n",
      "120 0.0012089462 [1.0403826] [-0.09180031]\n",
      "140 0.0010979838 [1.038485] [-0.08748588]\n",
      "160 0.0009972078 [1.0366765] [-0.08337433]\n",
      "180 0.00090567657 [1.0349528] [-0.07945601]\n",
      "200 0.0008225474 [1.0333102] [-0.07572186]\n",
      "220 0.00074705086 [1.0317447] [-0.07216324]\n",
      "240 0.00067848363 [1.0302528] [-0.06877183]\n",
      "260 0.00061620935 [1.028831] [-0.06553975]\n",
      "280 0.000559649 [1.0274762] [-0.06245962]\n",
      "300 0.0005082847 [1.0261849] [-0.0595243]\n",
      "320 0.0004616345 [1.0249543] [-0.05672692]\n",
      "340 0.00041926492 [1.0237815] [-0.054061]\n",
      "360 0.0003807815 [1.022664] [-0.05152034]\n",
      "380 0.00034583 [1.0215987] [-0.04909911]\n",
      "400 0.0003140949 [1.0205841] [-0.04679178]\n",
      "420 0.00028526734 [1.0196165] [-0.04459295]\n",
      "440 0.0002590824 [1.0186944] [-0.04249713]\n",
      "460 0.00023530125 [1.0178158] [-0.04049985]\n",
      "480 0.00021370397 [1.0169786] [-0.03859643]\n",
      "500 0.00019409055 [1.0161808] [-0.03678255]\n",
      "520 0.00017627464 [1.0154203] [-0.03505392]\n",
      "540 0.00016009601 [1.0146955] [-0.03340654]\n",
      "560 0.00014540272 [1.014005] [-0.03183655]\n",
      "580 0.00013205751 [1.0133468] [-0.0303404]\n",
      "600 0.000119935175 [1.0127195] [-0.02891447]\n",
      "620 0.000108928536 [1.0121218] [-0.02755564]\n",
      "640 9.8930286e-05 [1.0115521] [-0.02626062]\n",
      "660 8.985017e-05 [1.0110092] [-0.02502651]\n",
      "680 8.160195e-05 [1.0104917] [-0.02385035]\n",
      "700 7.411252e-05 [1.0099987] [-0.02272943]\n",
      "720 6.731046e-05 [1.0095288] [-0.02166119]\n",
      "740 6.113199e-05 [1.0090809] [-0.02064316]\n",
      "760 5.5521738e-05 [1.0086541] [-0.01967297]\n",
      "780 5.04246e-05 [1.0082474] [-0.01874841]\n",
      "800 4.5797136e-05 [1.0078598] [-0.01786729]\n",
      "820 4.1593292e-05 [1.0074905] [-0.01702762]\n",
      "840 3.7775615e-05 [1.0071385] [-0.01622739]\n",
      "860 3.4308072e-05 [1.0068029] [-0.01546475]\n",
      "880 3.1160107e-05 [1.0064832] [-0.01473792]\n",
      "900 2.8300055e-05 [1.0061785] [-0.01404529]\n",
      "920 2.5702087e-05 [1.0058882] [-0.01338521]\n",
      "940 2.3343222e-05 [1.0056114] [-0.01275615]\n",
      "960 2.1200112e-05 [1.0053477] [-0.01215663]\n",
      "980 1.9254378e-05 [1.0050963] [-0.01158531]\n",
      "1000 1.7486756e-05 [1.004857] [-0.01104083]\n",
      "1020 1.5882697e-05 [1.0046287] [-0.01052199]\n",
      "1040 1.4424557e-05 [1.0044112] [-0.01002754]\n",
      "1060 1.31013585e-05 [1.0042039] [-0.00955632]\n",
      "1080 1.189848e-05 [1.0040063] [-0.00910721]\n",
      "1100 1.0806473e-05 [1.003818] [-0.00867921]\n",
      "1120 9.814708e-06 [1.0036385] [-0.00827133]\n",
      "1140 8.914166e-06 [1.0034677] [-0.00788264]\n",
      "1160 8.095589e-06 [1.0033047] [-0.00751224]\n",
      "1180 7.3526367e-06 [1.0031494] [-0.00715924]\n",
      "1200 6.6781663e-06 [1.0030013] [-0.0068228]\n",
      "1220 6.064956e-06 [1.0028604] [-0.00650217]\n",
      "1240 5.508165e-06 [1.002726] [-0.00619664]\n",
      "1260 5.0029817e-06 [1.0025978] [-0.00590542]\n",
      "1280 4.544035e-06 [1.0024759] [-0.00562792]\n",
      "1300 4.1267654e-06 [1.0023594] [-0.00536348]\n",
      "1320 3.7480713e-06 [1.0022485] [-0.00511144]\n",
      "1340 3.4042248e-06 [1.0021429] [-0.00487125]\n",
      "1360 3.0918789e-06 [1.0020423] [-0.00464236]\n",
      "1380 2.807792e-06 [1.0019463] [-0.00442423]\n",
      "1400 2.5501904e-06 [1.0018548] [-0.0042164]\n",
      "1420 2.3162575e-06 [1.0017676] [-0.00401827]\n",
      "1440 2.1037165e-06 [1.0016847] [-0.00382945]\n",
      "1460 1.9106255e-06 [1.0016054] [-0.00364951]\n",
      "1480 1.7354287e-06 [1.0015302] [-0.00347805]\n",
      "1500 1.5761494e-06 [1.0014582] [-0.00331468]\n",
      "1520 1.4315452e-06 [1.0013899] [-0.00315899]\n",
      "1540 1.3001682e-06 [1.0013245] [-0.00301065]\n",
      "1560 1.1809799e-06 [1.0012621] [-0.00286922]\n",
      "1580 1.0726849e-06 [1.0012031] [-0.00273441]\n",
      "1600 9.743801e-07 [1.0011466] [-0.00260602]\n",
      "1620 8.8493886e-07 [1.0010928] [-0.00248364]\n",
      "1640 8.038835e-07 [1.0010415] [-0.00236704]\n",
      "1660 7.3008005e-07 [1.0009927] [-0.00225592]\n",
      "1680 6.6316744e-07 [1.000946] [-0.00215001]\n",
      "1700 6.023784e-07 [1.0009016] [-0.00204906]\n",
      "1720 5.470719e-07 [1.0008591] [-0.00195286]\n",
      "1740 4.969218e-07 [1.0008186] [-0.00186119]\n",
      "1760 4.5136653e-07 [1.0007805] [-0.00177383]\n",
      "1780 4.1008408e-07 [1.000744] [-0.00169057]\n",
      "1800 3.7240784e-07 [1.0007089] [-0.00161121]\n",
      "1820 3.3826782e-07 [1.0006756] [-0.00153567]\n",
      "1840 3.0727418e-07 [1.0006441] [-0.00146358]\n",
      "1860 2.791645e-07 [1.0006137] [-0.00139486]\n",
      "1880 2.536485e-07 [1.0005851] [-0.00132952]\n",
      "1900 2.3032074e-07 [1.0005577] [-0.0012671]\n",
      "1920 2.092682e-07 [1.0005314] [-0.00120778]\n",
      "1940 1.9011286e-07 [1.0005066] [-0.00115106]\n",
      "1960 1.7271611e-07 [1.0004828] [-0.00109721]\n",
      "1980 1.568613e-07 [1.0004601] [-0.00104567]\n",
      "2000 1.4253548e-07 [1.0004387] [-0.00099674]\n"
     ]
    }
   ],
   "source": [
    "# 그래프 정의\n",
    "xtrain = [1, 2, 3] # 입력 값\n",
    "ytrain = [1, 2, 3] # 실제 결과 값\n",
    "# 변수 생성\n",
    "b = tf.Variable(tf.random_normal([1])) # normal-정규분포를 따르는 난수, uniform - 균등분포를 따르는 난수\n",
    "w = tf.Variable(tf.random_normal([1]))\n",
    "\n",
    "hf = xtrain*w+b\n",
    "cost = tf.reduce_mean(tf.square(hf - ytrain)) # 제곱의 합의 평균\n",
    "\n",
    "# opt = tf.train.GradientDescentOptimizer(learning_rate=0.01)\n",
    "# train = opt.minimize(cost)\n",
    "train = tf.train.GradientDescentOptimizer(learning_rate=0.01).minimize(cost)\n",
    "\n",
    "# 그래프 실행\n",
    "# 세션 생성\n",
    "sess = tf.Session()\n",
    "# 변수 초기화\n",
    "sess.run(tf.global_variables_initializer())\n",
    "# 트레이닝\n",
    "for step in range(2001):\n",
    "    sess.run(train)\n",
    "    if step % 20 == 0:\n",
    "        print(step, sess.run(cost), sess.run(w), sess.run(b))"
   ]
  },
  {
   "cell_type": "markdown",
   "metadata": {},
   "source": [
    "### placeholder를 이용한 학습"
   ]
  },
  {
   "cell_type": "code",
   "execution_count": 62,
   "metadata": {},
   "outputs": [],
   "source": [
    "w = tf.Variable(tf.random_normal([1]), name=\"weight\") # 이름을 주면 텐서보드 사용 시, 변수 식별이 편해짐\n",
    "b = tf.Variable(tf.random_normal([1]), name=\"bias\")"
   ]
  },
  {
   "cell_type": "code",
   "execution_count": 101,
   "metadata": {},
   "outputs": [
    {
     "name": "stdout",
     "output_type": "stream",
     "text": [
      "0 69.956665 4.6386666 [-0.454]\n",
      "20 1.018396 1.9960705 [-1.5199213]\n",
      "40 0.35809603 1.7139157 [-1.5520184]\n",
      "60 0.32008934 1.657955 [-1.4889373]\n",
      "80 0.2906637 1.6248997 [-1.4199014]\n",
      "100 0.26398507 1.5953287 [-1.3532609]\n",
      "120 0.23975551 1.5673312 [-1.2896711]\n",
      "140 0.21774988 1.5406669 [-1.2290626]\n",
      "160 0.19776392 1.5152574 [-1.1713012]\n",
      "180 0.17961246 1.4910424 [-1.1162546]\n",
      "200 0.16312689 1.4679652 [-1.0637945]\n",
      "220 0.14815442 1.4459724 [-1.0138001]\n",
      "240 0.13455613 1.4250134 [-0.9661552]\n",
      "260 0.122206055 1.4050392 [-0.9207494]\n",
      "280 0.11098948 1.3860039 [-0.8774775]\n",
      "300 0.10080246 1.3678632 [-0.83623934]\n",
      "320 0.09155044 1.350575 [-0.7969393]\n",
      "340 0.08314756 1.3340992 [-0.759486]\n",
      "360 0.07551593 1.3183978 [-0.7237929]\n",
      "380 0.06858481 1.3034343 [-0.6897774]\n",
      "400 0.062289793 1.289174 [-0.6573603]\n",
      "420 0.056572586 1.2755837 [-0.6264669]\n",
      "440 0.051380154 1.2626325 [-0.5970253]\n",
      "460 0.046664286 1.2502897 [-0.5689673]\n",
      "480 0.042381242 1.2385269 [-0.542228]\n",
      "500 0.038491342 1.2273172 [-0.5167453]\n",
      "520 0.034958467 1.2166342 [-0.49246022]\n",
      "540 0.031749833 1.2064532 [-0.46931636]\n",
      "560 0.0288357 1.1967505 [-0.4472603]\n",
      "580 0.02618905 1.187504 [-0.42624065]\n",
      "600 0.023785338 1.178692 [-0.40620893]\n",
      "620 0.021602197 1.1702942 [-0.38711858]\n",
      "640 0.019619482 1.1622909 [-0.36892548]\n",
      "660 0.017818725 1.1546639 [-0.35158736]\n",
      "680 0.016183244 1.1473953 [-0.33506405]\n",
      "700 0.014697854 1.140468 [-0.31931716]\n",
      "720 0.013348836 1.1338665 [-0.30431038]\n",
      "740 0.012123626 1.1275754 [-0.29000887]\n",
      "760 0.011010868 1.1215798 [-0.27637956]\n",
      "780 0.010000246 1.1158661 [-0.26339066]\n",
      "800 0.009082381 1.1104207 [-0.25101227]\n",
      "820 0.008248764 1.1052314 [-0.23921563]\n",
      "840 0.007491647 1.1002856 [-0.2279733]\n",
      "860 0.0068040327 1.0955727 [-0.21725933]\n",
      "880 0.006179539 1.0910811 [-0.20704892]\n",
      "900 0.005612355 1.0868007 [-0.19731842]\n",
      "920 0.005097238 1.0827216 [-0.18804522]\n",
      "940 0.004629389 1.0788338 [-0.17920786]\n",
      "960 0.0042044823 1.075129 [-0.17078577]\n",
      "980 0.00381859 1.0715983 [-0.1627595]\n",
      "1000 0.0034680997 1.0682333 [-0.15511034]\n",
      "1020 0.0031497888 1.0650266 [-0.14782074]\n",
      "1040 0.002860682 1.0619705 [-0.14087375]\n",
      "1060 0.0025981118 1.059058 [-0.13425307]\n",
      "1080 0.0023596415 1.0562826 [-0.12794362]\n",
      "1100 0.002143074 1.0536376 [-0.12193076]\n",
      "1120 0.0019463763 1.051117 [-0.11620052]\n",
      "1140 0.0017677285 1.0487145 [-0.11073959]\n",
      "1160 0.0016054763 1.0464251 [-0.10553522]\n",
      "1180 0.0014581193 1.0442433 [-0.10057545]\n",
      "1200 0.0013242885 1.0421642 [-0.09584882]\n",
      "1220 0.001202747 1.040183 [-0.09134447]\n",
      "1240 0.0010923529 1.0382941 [-0.08705161]\n",
      "1260 0.000992094 1.0364945 [-0.08296047]\n",
      "1280 0.0009010353 1.0347794 [-0.07906169]\n",
      "1300 0.0008183364 1.033145 [-0.07534613]\n",
      "1320 0.0007432268 1.0315872 [-0.07180516]\n",
      "1340 0.0006750122 1.0301028 [-0.06843068]\n",
      "1360 0.00061306095 1.0286881 [-0.06521472]\n",
      "1380 0.00055678684 1.0273398 [-0.06214987]\n",
      "1400 0.00050568563 1.026055 [-0.05922906]\n",
      "1420 0.0004592728 1.0248306 [-0.05644557]\n",
      "1440 0.00041711735 1.0236636 [-0.05379285]\n",
      "1460 0.00037883528 1.0225517 [-0.05126486]\n",
      "1480 0.00034406641 1.0214918 [-0.04885571]\n",
      "1500 0.00031248896 1.0204821 [-0.04655987]\n",
      "1520 0.0002838086 1.0195192 [-0.04437192]\n",
      "1540 0.00025775656 1.0186018 [-0.04228649]\n",
      "1560 0.00023409934 1.0177276 [-0.04029911]\n",
      "1580 0.00021261245 1.0168945 [-0.03840518]\n",
      "1600 0.00019309891 1.0161005 [-0.03660024]\n",
      "1620 0.00017537388 1.0153439 [-0.03488017]\n",
      "1640 0.00015927725 1.0146227 [-0.03324093]\n",
      "1660 0.00014465953 1.0139356 [-0.03167872]\n",
      "1680 0.00013138122 1.0132806 [-0.03018997]\n",
      "1700 0.00011932254 1.0126565 [-0.02877112]\n",
      "1720 0.00010836979 1.0120616 [-0.02741896]\n",
      "1740 9.842381e-05 1.0114949 [-0.02613037]\n",
      "1760 8.9389505e-05 1.0109546 [-0.02490238]\n",
      "1780 8.118671e-05 1.0104398 [-0.02373208]\n",
      "1800 7.373325e-05 1.009949 [-0.02261672]\n",
      "1820 6.696558e-05 1.0094814 [-0.02155371]\n",
      "1840 6.0819515e-05 1.0090358 [-0.02054074]\n",
      "1860 5.5236993e-05 1.0086112 [-0.01957539]\n",
      "1880 5.016729e-05 1.0082066 [-0.0186554]\n",
      "1900 4.5562134e-05 1.0078208 [-0.01777863]\n",
      "1920 4.1380466e-05 1.0074533 [-0.0169431]\n",
      "1940 3.7582475e-05 1.007103 [-0.01614684]\n",
      "1960 3.4133776e-05 1.0067692 [-0.01538799]\n",
      "1980 3.1000043e-05 1.006451 [-0.01466478]\n",
      "2000 2.8154473e-05 1.0061479 [-0.01397556]\n"
     ]
    }
   ],
   "source": [
    "x = tf.placeholder(tf.float32, shape=[None])\n",
    "y = tf.placeholder(tf.float32, shape=[None])\n",
    "hf = x*w+b\n",
    "cost = tf.reduce_mean(tf.square(hf-y))\n",
    "train = tf.train.GradientDescentOptimizer(0.01).minimize(cost)\n",
    "\n",
    "sess = tf.Session()\n",
    "sess.run(tf.global_variables_initializer())\n",
    "for step in range(2001):\n",
    "    cv, wv, bv, _ = sess.run([cost, w, b, train], feed_dict={x: [1, 2, 3], y: [1, 2, 3]})\n",
    "    if step%20 == 0:\n",
    "        print(step, cv, wv, bv)"
   ]
  },
  {
   "cell_type": "code",
   "execution_count": 110,
   "metadata": {},
   "outputs": [
    {
     "data": {
      "image/png": "[encoded data removed]",
      "text/plain": [
       "<Figure size 640x480 with 1 Axes>"
      ]
     },
     "metadata": {},
     "output_type": "display_data"
    }
   ],
   "source": [
    "import matplotlib.pyplot as plt\n",
    "xtrain = [1,2,3] # 입력값\n",
    "ytrain = [1,2,3] # hf(예측값)과 비교할 실제 결과값\n",
    "w = tf.placeholder(tf.float32)\n",
    "hf = xtrain*w+b \n",
    "cost = tf.reduce_mean(tf.square(hf-ytrain)) \n",
    "\n",
    "sess = tf.Session()\n",
    "sess.run(tf.global_variables_initializer())  \n",
    "\n",
    "wvList = []\n",
    "cvList = []\n",
    "\n",
    "for step in range(-50,50):\n",
    "    fw = step*0.1\n",
    "    cv,wv = sess.run([cost,w], feed_dict={w:fw})\n",
    "    wvList.append(wv)\n",
    "    cvList.append(cv)\n",
    "plt.style.use(\"default\")\n",
    "plt.plot(wvList, cvList)\n",
    "plt.show()"
   ]
  },
  {
   "cell_type": "code",
   "execution_count": 92,
   "metadata": {},
   "outputs": [
    {
     "name": "stdout",
     "output_type": "stream",
     "text": [
      "step: 0, w: [100.], b:[-0.30000022], loss:303410.75\n",
      "step: 20, w: [100.], b:[-0.3000044], loss:303410.75\n",
      "step: 40, w: [100.], b:[-0.30000857], loss:303410.75\n",
      "step: 60, w: [100.], b:[-0.30001274], loss:303410.75\n",
      "step: 80, w: [100.], b:[-0.3000169], loss:303410.75\n",
      "step: 100, w: [100.], b:[-0.30002108], loss:303410.75\n",
      "step: 120, w: [100.], b:[-0.30002525], loss:303410.75\n",
      "step: 140, w: [100.], b:[-0.30002943], loss:303410.72\n",
      "step: 160, w: [100.], b:[-0.3000336], loss:303410.7\n",
      "step: 180, w: [100.], b:[-0.30003777], loss:303410.7\n",
      "step: 200, w: [100.], b:[-0.30004194], loss:303410.66\n",
      "step: 220, w: [100.], b:[-0.30004612], loss:303410.66\n",
      "step: 240, w: [100.], b:[-0.3000503], loss:303410.66\n",
      "step: 260, w: [100.], b:[-0.30005446], loss:303410.66\n",
      "step: 280, w: [100.], b:[-0.30005863], loss:303410.66\n",
      "step: 300, w: [100.], b:[-0.3000628], loss:303410.66\n",
      "step: 320, w: [100.], b:[-0.30006698], loss:303410.62\n",
      "step: 340, w: [100.], b:[-0.30007115], loss:303410.6\n",
      "step: 360, w: [100.], b:[-0.30007532], loss:303410.6\n",
      "step: 380, w: [100.], b:[-0.3000795], loss:303410.6\n",
      "step: 400, w: [100.], b:[-0.30008367], loss:303410.6\n",
      "step: 420, w: [100.], b:[-0.30008784], loss:303410.6\n",
      "step: 440, w: [100.], b:[-0.300092], loss:303410.6\n",
      "step: 460, w: [100.], b:[-0.30009618], loss:303410.56\n",
      "step: 480, w: [100.], b:[-0.30010036], loss:303410.56\n",
      "step: 500, w: [100.], b:[-0.30010453], loss:303410.56\n",
      "step: 520, w: [100.], b:[-0.3001087], loss:303410.56\n",
      "step: 540, w: [100.], b:[-0.30011287], loss:303410.56\n",
      "step: 560, w: [100.], b:[-0.30011705], loss:303410.53\n",
      "step: 580, w: [100.], b:[-0.30012122], loss:303410.53\n",
      "step: 600, w: [100.], b:[-0.3001254], loss:303410.5\n",
      "step: 620, w: [100.], b:[-0.30012956], loss:303410.5\n",
      "step: 640, w: [100.], b:[-0.30013373], loss:303410.47\n",
      "step: 660, w: [100.], b:[-0.3001379], loss:303410.47\n",
      "step: 680, w: [100.], b:[-0.30014208], loss:303410.47\n",
      "step: 700, w: [100.], b:[-0.30014625], loss:303410.47\n",
      "step: 720, w: [100.], b:[-0.30015042], loss:303410.44\n",
      "step: 740, w: [100.], b:[-0.3001546], loss:303410.44\n",
      "step: 760, w: [100.], b:[-0.30015877], loss:303410.44\n",
      "step: 780, w: [100.], b:[-0.30016294], loss:303410.44\n",
      "step: 800, w: [100.], b:[-0.3001671], loss:303410.44\n",
      "step: 820, w: [100.], b:[-0.3001713], loss:303410.44\n",
      "step: 840, w: [100.], b:[-0.30017546], loss:303410.44\n",
      "step: 860, w: [100.], b:[-0.30017963], loss:303410.4\n",
      "step: 880, w: [100.], b:[-0.3001838], loss:303410.4\n",
      "step: 900, w: [100.], b:[-0.30018798], loss:303410.38\n",
      "step: 920, w: [100.], b:[-0.30019215], loss:303410.38\n",
      "step: 940, w: [100.], b:[-0.30019632], loss:303410.34\n",
      "step: 960, w: [100.], b:[-0.3002005], loss:303410.34\n",
      "step: 980, w: [100.], b:[-0.30020466], loss:303410.34\n",
      "step: 1000, w: [100.], b:[-0.30020884], loss:303410.34\n",
      "step: 1020, w: [100.], b:[-0.300213], loss:303410.34\n",
      "step: 1040, w: [100.], b:[-0.30021718], loss:303410.3\n",
      "step: 1060, w: [100.], b:[-0.30022135], loss:303410.3\n",
      "step: 1080, w: [100.], b:[-0.30022553], loss:303410.3\n",
      "step: 1100, w: [100.], b:[-0.3002297], loss:303410.3\n",
      "step: 1120, w: [100.], b:[-0.30023387], loss:303410.3\n",
      "step: 1140, w: [100.], b:[-0.30023804], loss:303410.3\n",
      "step: 1160, w: [100.], b:[-0.30024222], loss:303410.3\n",
      "step: 1180, w: [100.], b:[-0.3002464], loss:303410.3\n",
      "step: 1200, w: [100.], b:[-0.30025056], loss:303410.25\n",
      "step: 1220, w: [100.], b:[-0.30025473], loss:303410.25\n",
      "step: 1240, w: [100.], b:[-0.3002589], loss:303410.25\n",
      "step: 1260, w: [100.], b:[-0.30026308], loss:303410.25\n",
      "step: 1280, w: [100.], b:[-0.30026725], loss:303410.25\n",
      "step: 1300, w: [100.], b:[-0.30027142], loss:303410.25\n",
      "step: 1320, w: [100.], b:[-0.3002756], loss:303410.25\n",
      "step: 1340, w: [100.], b:[-0.30027977], loss:303410.2\n",
      "step: 1360, w: [100.], b:[-0.30028394], loss:303410.2\n",
      "step: 1380, w: [100.], b:[-0.3002881], loss:303410.2\n",
      "step: 1400, w: [100.], b:[-0.30029228], loss:303410.16\n",
      "step: 1420, w: [100.], b:[-0.30029646], loss:303410.16\n",
      "step: 1440, w: [100.], b:[-0.30030063], loss:303410.16\n",
      "step: 1460, w: [100.], b:[-0.3003048], loss:303410.16\n",
      "step: 1480, w: [100.], b:[-0.30030897], loss:303410.12\n",
      "step: 1500, w: [100.], b:[-0.30031314], loss:303410.12\n",
      "step: 1520, w: [100.], b:[-0.30031732], loss:303410.12\n",
      "step: 1540, w: [100.], b:[-0.3003215], loss:303410.12\n",
      "step: 1560, w: [100.], b:[-0.30032566], loss:303410.12\n",
      "step: 1580, w: [100.], b:[-0.30032983], loss:303410.12\n",
      "step: 1600, w: [100.], b:[-0.300334], loss:303410.12\n",
      "step: 1620, w: [100.], b:[-0.30033818], loss:303410.12\n",
      "step: 1640, w: [100.], b:[-0.30034235], loss:303410.06\n",
      "step: 1660, w: [100.], b:[-0.30034652], loss:303410.06\n",
      "step: 1680, w: [100.], b:[-0.3003507], loss:303410.06\n",
      "step: 1700, w: [100.], b:[-0.30035487], loss:303410.06\n",
      "step: 1720, w: [100.], b:[-0.30035904], loss:303410.06\n",
      "step: 1740, w: [100.], b:[-0.3003632], loss:303410.03\n",
      "step: 1760, w: [100.], b:[-0.3003674], loss:303410.03\n",
      "step: 1780, w: [100.], b:[-0.30037156], loss:303410.0\n",
      "step: 1800, w: [100.], b:[-0.30037573], loss:303410.0\n",
      "step: 1820, w: [100.], b:[-0.3003799], loss:303410.0\n",
      "step: 1840, w: [100.], b:[-0.30038407], loss:303410.0\n",
      "step: 1860, w: [100.], b:[-0.30038825], loss:303410.0\n",
      "step: 1880, w: [100.], b:[-0.30039242], loss:303410.0\n",
      "step: 1900, w: [100.], b:[-0.3003966], loss:303410.0\n",
      "step: 1920, w: [100.], b:[-0.30040076], loss:303409.94\n",
      "step: 1940, w: [100.], b:[-0.30040494], loss:303409.94\n",
      "step: 1960, w: [100.], b:[-0.3004091], loss:303409.94\n",
      "step: 1980, w: [100.], b:[-0.30041328], loss:303409.94\n",
      "step: 2000, w: [100.], b:[-0.30041745], loss:303409.94\n",
      "w: [100.], b:[-0.30041745], loss:303409.94\n"
     ]
    }
   ],
   "source": [
    "x = tf.placeholder(tf.float32)\n",
    "y = tf.placeholder(tf.float32)\n",
    "b = tf.Variable([-.3], tf.float32)\n",
    "w = tf.Variable([100.], tf.float32)\n",
    "\n",
    "hf = x*w+b\n",
    "loss = tf.reduce_sum(tf.square(hf-y))\n",
    "# train = tf.train.GradientDescentOptimizer(0.01).minimize(loss)\n",
    "# train = tf.train.GradientDescentOptimizer(1).minimize(loss)\n",
    "train = tf.train.GradientDescentOptimizer(1e-10).minimize(loss)\n",
    "xtrain = [1, 2, 3, 4]\n",
    "ytrain = [0, -1, -2, -3]\n",
    "\n",
    "sess = tf.Session()\n",
    "sess.run(tf.global_variables_initializer())\n",
    "for step in range(2001):\n",
    "    sess.run(train, {x: xtrain, y:ytrain})\n",
    "    if step%20 == 0:\n",
    "        wv, bv, lv = sess.run([w, b, loss], feed_dict={x:xtrain, y: ytrain})\n",
    "        print(\"step: %d, w: %s, b:%s, loss:%s\" % (step, wv, bv, lv))\n",
    "wv, bv, lv = sess.run([w, b, loss], feed_dict={x:xtrain, y: ytrain})\n",
    "print(\"w: %s, b:%s, loss:%s\" % (wv, bv, lv))"
   ]
  },
  {
   "cell_type": "code",
   "execution_count": 100,
   "metadata": {},
   "outputs": [
    {
     "name": "stdout",
     "output_type": "stream",
     "text": [
      "0 33.032196\n",
      "1 30.031977\n",
      "2 27.305252\n",
      "3 24.827078\n",
      "4 22.5748\n",
      "5 20.52783\n",
      "6 18.667458\n",
      "7 16.976671\n",
      "8 15.440003\n",
      "9 14.043416\n",
      "10 12.774129\n",
      "11 11.620548\n",
      "12 10.572125\n",
      "13 9.619267\n",
      "14 8.753268\n",
      "15 7.966211\n",
      "16 7.250899\n",
      "17 6.600792\n",
      "18 6.0099435\n",
      "19 5.472954\n"
     ]
    }
   ],
   "source": [
    "xtrain = [1, 2, 3]\n",
    "ytrain = [2, 4, 7]\n",
    "w = tf.Variable(5.0)\n",
    "x = tf.placeholder(tf.float32)\n",
    "y = tf.placeholder(tf.float32)\n",
    "\n",
    "hf = x*w\n",
    "cost = tf.reduce_mean(tf.square(hf-y))\n",
    "\n",
    "lr = 0.01\n",
    "gradient = tf.reduce_mean((w*x-y)*x) # gradient 라는 node\n",
    "descent = w-lr*gradient\n",
    "update = w.assign(descent) # update 라는 node\n",
    "# = train = tf.train.GradientDescentOptimizer(0.01).minimize(cost)\n",
    "\n",
    "sess = tf.Session()\n",
    "sess.run(tf.global_variables_initializer())\n",
    "# for step in range(100):\n",
    "#     print(step, sess.run(w))\n",
    "#     sess.run(train)\n",
    "\n",
    "for step in range(20):\n",
    "    sess.run(update, feed_dict={x: xtrain, y: ytrain})\n",
    "    print(step, sess.run(cost, feed_dict={x: xtrain, y: ytrain}))\n"
   ]
  },
  {
   "cell_type": "code",
   "execution_count": 107,
   "metadata": {},
   "outputs": [],
   "source": [
    "import numpy as np\n",
    "num_points = 200\n",
    "vectors_set = []\n",
    "for i in range(num_points):\n",
    "    x = np.random.normal(5, 5) + 15\n",
    "    y = x*1000+np.random.normal(0, 3)*1000 # 랜덤한 함수\n",
    "    vectors_set.append([x, y])\n",
    "\n",
    "xdata = [v[0] for v in vectors_set]\n",
    "ydata = [v[1] for v in vectors_set]"
   ]
  },
  {
   "cell_type": "code",
   "execution_count": 114,
   "metadata": {},
   "outputs": [
    {
     "name": "stderr",
     "output_type": "stream",
     "text": [
      "W0729 14:45:33.149897 22648 legend.py:1289] No handles with labels found to put in legend.\n"
     ]
    },
    {
     "data": {
      "text/plain": [
       "<matplotlib.legend.Legend at 0x1fb4fe1ebe0>"
      ]
     },
     "execution_count": 114,
     "metadata": {},
     "output_type": "execute_result"
    },
    {
     "data": {
      "image/png": "[encoded data removed]",
      "text/plain": [
       "<Figure size 640x480 with 1 Axes>"
      ]
     },
     "metadata": {},
     "output_type": "display_data"
    }
   ],
   "source": [
    "plt.plot(xdata, ydata, \"ro\")\n",
    "plt.xlabel(\"x\")\n",
    "plt.ylabel(\"y\")\n",
    "plt.xlim([0, 40])\n",
    "plt.ylim([0, 40000])\n",
    "plt.legend()"
   ]
  },
  {
   "cell_type": "code",
   "execution_count": 124,
   "metadata": {},
   "outputs": [
    {
     "name": "stdout",
     "output_type": "stream",
     "text": [
      "0 [828.684] [39.037815]\n",
      "0 18977474.0\n",
      "1 [955.79004] [44.924816]\n",
      "1 9641257.0\n",
      "2 [975.2784] [45.730194]\n",
      "2 9421870.0\n",
      "3 [978.2703] [45.756634]\n",
      "3 9416702.0\n",
      "4 [978.7336] [45.663685]\n",
      "4 9416568.0\n",
      "5 [978.80914] [45.55244]\n",
      "5 9416552.0\n",
      "6 [978.8253] [45.438408]\n",
      "6 9416539.0\n",
      "7 [978.8324] [45.32396]\n",
      "7 9416526.0\n",
      "8 [978.838] [45.209454]\n",
      "8 9416513.0\n",
      "9 [978.8435] [45.094955]\n",
      "9 9416500.0\n"
     ]
    },
    {
     "data": {
      "image/png": "[encoded data removed]",
      "text/plain": [
       "<Figure size 640x480 with 1 Axes>"
      ]
     },
     "metadata": {},
     "output_type": "display_data"
    }
   ],
   "source": [
    "w = tf.Variable(tf.random_uniform([1], -1.0, 1.0))\n",
    "b = tf.Variable(tf.zeros([1]))\n",
    "y = w*xdata+b\n",
    "loss = tf.reduce_mean(tf.square(y-ydata))\n",
    "train = tf.train.GradientDescentOptimizer(0.001).minimize(loss)\n",
    "# train = tf.train.GradientDescentOptimizer(0.01).minimize(loss)\n",
    "sess.run(tf.initialize_all_variables()) # 변수 초기화\n",
    "\n",
    "for step in range(10):\n",
    "    sess.run(train)\n",
    "    print(step, sess.run(w), sess.run(b))\n",
    "    print(step, sess.run(loss))\n",
    "    plt.plot(xdata, ydata, \"ro\")\n",
    "    plt.plot(xdata, sess.run(w)*xdata+sess.run(b))\n",
    "    # plt.show() # 새롭게 만들어짐"
   ]
  },
  {
   "cell_type": "markdown",
   "metadata": {},
   "source": [
    "## keras 패키지\n",
    "tensorflow를 엔진으로 사용하는 python 패키지 <br>\n",
    "신경망을 쉽게 구현 <br>\n",
    "엽슨용 데이터셋 제공 (CIFAR10(class가 10개), CIFAR100)"
   ]
  },
  {
   "cell_type": "code",
   "execution_count": 151,
   "metadata": {},
   "outputs": [],
   "source": [
    "from tensorflow import keras\n",
    "mnist = keras.datasets.mnist\n",
    "(xtrain, ytrain), (xtest, ytest) = mnist.load_data() # data download"
   ]
  },
  {
   "cell_type": "code",
   "execution_count": 152,
   "metadata": {},
   "outputs": [
    {
     "data": {
      "text/plain": [
       "<function matplotlib.pyplot.show(*args, **kw)>"
      ]
     },
     "execution_count": 152,
     "metadata": {},
     "output_type": "execute_result"
    },
    {
     "data": {
      "image/png": "[encoded data removed]",
      "text/plain": [
       "<Figure size 800x100 with 36 Axes>"
      ]
     },
     "metadata": {},
     "output_type": "display_data"
    }
   ],
   "source": [
    "plt.figure(figsize=(8, 1))\n",
    "for i in range(36):\n",
    "    plt.subplot(3, 12, i+1)\n",
    "    plt.imshow(xtrain[i], cmap=\"gray\")\n",
    "    plt.axis(\"off\")\n",
    "plt.show\n",
    "# [5 0 4 1 9 2 1 3 1 4 ]"
   ]
  },
  {
   "cell_type": "code",
   "execution_count": 131,
   "metadata": {},
   "outputs": [
    {
     "data": {
      "text/plain": [
       "(60000, 28, 28)"
      ]
     },
     "execution_count": 131,
     "metadata": {},
     "output_type": "execute_result"
    }
   ],
   "source": [
    "xtrain.shape"
   ]
  },
  {
   "cell_type": "code",
   "execution_count": 132,
   "metadata": {},
   "outputs": [
    {
     "name": "stdout",
     "output_type": "stream",
     "text": [
      "(60000, 28, 28)\n",
      "(60000,)\n",
      "(10000, 28, 28)\n",
      "(10000,)\n"
     ]
    }
   ],
   "source": [
    "print(xtrain.shape)\n",
    "print(ytrain.shape)\n",
    "print(xtest.shape)\n",
    "print(ytest.shape)"
   ]
  },
  {
   "cell_type": "code",
   "execution_count": 153,
   "metadata": {},
   "outputs": [],
   "source": [
    "xtrain = xtrain.reshape(60000, 28*28).astype(\"float32\")/255.0"
   ]
  },
  {
   "cell_type": "code",
   "execution_count": 154,
   "metadata": {},
   "outputs": [],
   "source": [
    "xtest = xtest.reshape(10000, 28*28).astype(\"float32\")/255.0"
   ]
  },
  {
   "cell_type": "code",
   "execution_count": 155,
   "metadata": {},
   "outputs": [
    {
     "name": "stdout",
     "output_type": "stream",
     "text": [
      "(60000, 784) float32\n"
     ]
    }
   ],
   "source": [
    "print(xtrain.shape, xtrain.dtype)"
   ]
  },
  {
   "cell_type": "code",
   "execution_count": 156,
   "metadata": {},
   "outputs": [
    {
     "name": "stdout",
     "output_type": "stream",
     "text": [
      "(10000, 784) float32\n"
     ]
    }
   ],
   "source": [
    "print(xtest.shape, xtest.dtype)"
   ]
  },
  {
   "cell_type": "code",
   "execution_count": 157,
   "metadata": {},
   "outputs": [
    {
     "name": "stdout",
     "output_type": "stream",
     "text": [
      "[5 0 4 1 9 2 1 3 1 4]\n"
     ]
    }
   ],
   "source": [
    "print(ytrain[:10])"
   ]
  },
  {
   "cell_type": "code",
   "execution_count": 158,
   "metadata": {},
   "outputs": [
    {
     "data": {
      "text/plain": [
       "array([[0., 0., 0., 0., 0., 1., 0., 0., 0., 0.],\n",
       "       [1., 0., 0., 0., 0., 0., 0., 0., 0., 0.],\n",
       "       [0., 0., 0., 0., 1., 0., 0., 0., 0., 0.],\n",
       "       [0., 1., 0., 0., 0., 0., 0., 0., 0., 0.],\n",
       "       [0., 0., 0., 0., 0., 0., 0., 0., 0., 1.],\n",
       "       [0., 0., 1., 0., 0., 0., 0., 0., 0., 0.],\n",
       "       [0., 1., 0., 0., 0., 0., 0., 0., 0., 0.],\n",
       "       [0., 0., 0., 1., 0., 0., 0., 0., 0., 0.],\n",
       "       [0., 1., 0., 0., 0., 0., 0., 0., 0., 0.],\n",
       "       [0., 0., 0., 0., 1., 0., 0., 0., 0., 0.]], dtype=float32)"
      ]
     },
     "execution_count": 158,
     "metadata": {},
     "output_type": "execute_result"
    }
   ],
   "source": [
    "from tensorflow.keras.utils import to_categorical\n",
    "ytrain = to_categorical(ytrain, 10)\n",
    "ytest = to_categorical(ytest, 10)\n",
    "ytrain[:10]"
   ]
  },
  {
   "cell_type": "markdown",
   "metadata": {},
   "source": [
    "### keras로 신경망 구성하는 순서\n",
    "1. Sequential class → 객체 생성\n",
    "\n",
    "2. add method → 층layer 추가\n",
    "    * 입력부터 순서대로 추가\n",
    "    * shape 체크\n",
    "    * activation 활성 함수 활성화 설정\n",
    "    \n",
    "3. compile (모델 생성)\n",
    "    * loss, optimizer(알고리즘), 성능기준 설정\n",
    "    \n",
    "4. fit method → training\n",
    "    * 에폭 설정 (6만개 data가 있다면 1에폭 = 6만개 training) \n",
    "    * 배치 크기 설정 (분할 모델링, 큐 러너 등 사용)\n",
    "    "
   ]
  },
  {
   "cell_type": "code",
   "execution_count": 160,
   "metadata": {},
   "outputs": [],
   "source": [
    "# from tensorflow.keras import *\n",
    "from tensorflow.keras.models import Sequential\n",
    "from tensorflow.keras.layers import Dense\n",
    "from tensorflow.keras.optimizers import SGD\n",
    "np.random.seed(0)"
   ]
  },
  {
   "cell_type": "code",
   "execution_count": 166,
   "metadata": {},
   "outputs": [
    {
     "name": "stdout",
     "output_type": "stream",
     "text": [
      "Model: \"sequential_5\"\n",
      "_________________________________________________________________\n",
      "Layer (type)                 Output Shape              Param #   \n",
      "=================================================================\n",
      "dense_10 (Dense)             (None, 15)                11775     \n",
      "_________________________________________________________________\n",
      "dense_11 (Dense)             (None, 10)                160       \n",
      "=================================================================\n",
      "Total params: 11,935\n",
      "Trainable params: 11,935\n",
      "Non-trainable params: 0\n",
      "_________________________________________________________________\n"
     ]
    }
   ],
   "source": [
    "model = Sequential()\n",
    "# Dense 객체로 층 추가\n",
    "# input_dim은 맨 처음 입력받는 계층에서만 존재하고\n",
    "# 그 이후에는 이전 층의 출력 개수가 입력 차원으로 들어간다\n",
    "model.add(Dense(15, input_dim=28*28, activation=\"sigmoid\")) # 출력 개수, 입력 차원, 활성 함수 \n",
    "model.add(Dense(10, activation=\"sigmoid\"))\n",
    "model.compile(optimizer=SGD(lr=0.1), \n",
    "              loss=\"mean_squared_error\", \n",
    "              metrics=[\"accuracy\"])\n",
    "model.summary()"
   ]
  }
 ],
 "metadata": {
  "kernelspec": {
   "display_name": "Python 3",
   "language": "python",
   "name": "python3"
  },
  "language_info": {
   "codemirror_mode": {
    "name": "ipython",
    "version": 3
   },
   "file_extension": ".py",
   "mimetype": "text/x-python",
   "name": "python",
   "nbconvert_exporter": "python",
   "pygments_lexer": "ipython3",
   "version": "3.7.3"
  }
 },
 "nbformat": 4,
 "nbformat_minor": 2
}
