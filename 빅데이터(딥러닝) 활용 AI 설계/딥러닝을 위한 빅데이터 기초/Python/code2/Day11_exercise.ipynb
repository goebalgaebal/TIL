{
 "cells": [
  {
   "cell_type": "code",
   "execution_count": 6,
   "metadata": {},
   "outputs": [],
   "source": [
    "import requests\n",
    "from bs4 import BeautifulSoup"
   ]
  },
  {
   "cell_type": "markdown",
   "metadata": {},
   "source": [
    "### 1. 위키피디아에서 '윤동주' 시인의 '하늘과 바람과 별과 시' 시집에 수록된 모든 시 제목을 추출"
   ]
  },
  {
   "cell_type": "code",
   "execution_count": 25,
   "metadata": {},
   "outputs": [
    {
     "data": {
      "text/plain": [
       "['자화상',\n",
       " '새로운 길',\n",
       " '슬픈 족속',\n",
       " '소년',\n",
       " '병원',\n",
       " '무서운 시간',\n",
       " '눈 오는 지도',\n",
       " '태초의 아침',\n",
       " '또 태초의 아침',\n",
       " '새벽이 올 때까지',\n",
       " '십자가',\n",
       " '눈 감고 간다',\n",
       " '돌아와 보는 밤',\n",
       " '간판 없는 거리',\n",
       " '바람이 불어',\n",
       " '또 다른 고향',\n",
       " '길',\n",
       " '별 헤는 밤',\n",
       " '서시']"
      ]
     },
     "execution_count": 25,
     "metadata": {},
     "output_type": "execute_result"
    }
   ],
   "source": [
    "url = \"https://ko.wikipedia.org/wiki/%ED%95%98%EB%8A%98%EA%B3%BC_%EB%B0%94%EB%9E%8C%EA%B3%BC_%EB%B3%84%EA%B3%BC_%EC%8B%9C\"\n",
    "html = requests.get(url)\n",
    "soup = BeautifulSoup(html.text)\n",
    "poem = soup.select(\"div.mw-parser-output li a.extiw\")\n",
    "list(map(lambda x: x.string, poem))"
   ]
  },
  {
   "cell_type": "markdown",
   "metadata": {},
   "source": [
    "### 2. 네이버 환율 페이지에서 현재 원/달러 환율을 추출"
   ]
  },
  {
   "cell_type": "code",
   "execution_count": 46,
   "metadata": {},
   "outputs": [
    {
     "name": "stdout",
     "output_type": "stream",
     "text": [
      "[<span class=\"value\">1,178.00</span>]\n",
      "1,178.00\n"
     ]
    }
   ],
   "source": [
    "url = \"https://finance.naver.com/marketindex/?tabSel=exchange#tab_section\"\n",
    "html = requests.get(url)\n",
    "soup = BeautifulSoup(html.text)\n",
    "exchange_rate = soup.select(\"a.head.usd > div.head_info.point_dn > span.value\")\n",
    "print(exchange_rate )\n",
    "print(exchange_rate[0].string)"
   ]
  }
 ],
 "metadata": {
  "kernelspec": {
   "display_name": "Python 3",
   "language": "python",
   "name": "python3"
  },
  "language_info": {
   "codemirror_mode": {
    "name": "ipython",
    "version": 3
   },
   "file_extension": ".py",
   "mimetype": "text/x-python",
   "name": "python",
   "nbconvert_exporter": "python",
   "pygments_lexer": "ipython3",
   "version": "3.7.3"
  }
 },
 "nbformat": 4,
 "nbformat_minor": 2
}
