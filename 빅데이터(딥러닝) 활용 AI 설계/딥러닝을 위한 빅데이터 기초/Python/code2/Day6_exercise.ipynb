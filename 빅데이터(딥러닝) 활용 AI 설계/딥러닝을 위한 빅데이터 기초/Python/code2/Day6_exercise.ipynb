{
 "cells": [
  {
   "cell_type": "code",
   "execution_count": 31,
   "metadata": {},
   "outputs": [],
   "source": [
    "import pandas as pd\n",
    "import numpy as np\n",
    "import matplotlib.pyplot as plt\n",
    "%matplotlib inline \n",
    "import re\n",
    "import seaborn as sns\n",
    "\n",
    "# https://matplotlib.org/3.1.1/tutorials/introductory/customizing.html\n",
    "sns.set(rc={\"axes.facecolor\":\"white\", \"axes.edgecolor\":\"black\"})"
   ]
  },
  {
   "cell_type": "code",
   "execution_count": 32,
   "metadata": {
    "scrolled": true
   },
   "outputs": [
    {
     "name": "stdout",
     "output_type": "stream",
     "text": [
      "<class 'pandas.core.frame.DataFrame'>\n",
      "RangeIndex: 891 entries, 0 to 890\n",
      "Data columns (total 12 columns):\n",
      "PassengerId    891 non-null int64\n",
      "Survived       891 non-null int64\n",
      "Pclass         891 non-null int64\n",
      "Name           891 non-null object\n",
      "Sex            891 non-null object\n",
      "Age            714 non-null float64\n",
      "SibSp          891 non-null int64\n",
      "Parch          891 non-null int64\n",
      "Ticket         891 non-null object\n",
      "Fare           891 non-null float64\n",
      "Cabin          204 non-null object\n",
      "Embarked       889 non-null object\n",
      "dtypes: float64(2), int64(5), object(5)\n",
      "memory usage: 83.6+ KB\n"
     ]
    }
   ],
   "source": [
    "titanic = pd.read_csv(\"./res/titanic/train.csv\")\n",
    "titanic.info()"
   ]
  },
  {
   "cell_type": "code",
   "execution_count": 33,
   "metadata": {},
   "outputs": [
    {
     "data": {
      "text/plain": [
       "PassengerId      0\n",
       "Survived         0\n",
       "Pclass           0\n",
       "Name             0\n",
       "Sex              0\n",
       "Age            177\n",
       "SibSp            0\n",
       "Parch            0\n",
       "Ticket           0\n",
       "Fare             0\n",
       "Cabin          687\n",
       "Embarked         2\n",
       "dtype: int64"
      ]
     },
     "execution_count": 33,
     "metadata": {},
     "output_type": "execute_result"
    }
   ],
   "source": [
    "numMissing = titanic.shape[0] - titanic.count()\n",
    "numMissing"
   ]
  },
  {
   "cell_type": "markdown",
   "metadata": {},
   "source": [
    "## 시각화"
   ]
  },
  {
   "cell_type": "markdown",
   "metadata": {},
   "source": [
    "### Pclass - Survived"
   ]
  },
  {
   "cell_type": "code",
   "execution_count": 145,
   "metadata": {
    "scrolled": true
   },
   "outputs": [
    {
     "data": {
      "text/plain": [
       "Pclass  Survived\n",
       "1       1           136\n",
       "        0            80\n",
       "2       0            97\n",
       "        1            87\n",
       "3       0           372\n",
       "        1           119\n",
       "Name: Survived, dtype: int64"
      ]
     },
     "execution_count": 145,
     "metadata": {},
     "output_type": "execute_result"
    }
   ],
   "source": [
    "titanic.groupby(\"Pclass\")[\"Survived\"].value_counts()"
   ]
  },
  {
   "cell_type": "code",
   "execution_count": 146,
   "metadata": {
    "scrolled": false
   },
   "outputs": [
    {
     "data": {
      "text/html": [
       "<div>\n",
       "<style scoped>\n",
       "    .dataframe tbody tr th:only-of-type {\n",
       "        vertical-align: middle;\n",
       "    }\n",
       "\n",
       "    .dataframe tbody tr th {\n",
       "        vertical-align: top;\n",
       "    }\n",
       "\n",
       "    .dataframe thead th {\n",
       "        text-align: right;\n",
       "    }\n",
       "</style>\n",
       "<table border=\"1\" class=\"dataframe\">\n",
       "  <thead>\n",
       "    <tr style=\"text-align: right;\">\n",
       "      <th>Survived</th>\n",
       "      <th>0</th>\n",
       "      <th>1</th>\n",
       "    </tr>\n",
       "    <tr>\n",
       "      <th>Pclass</th>\n",
       "      <th></th>\n",
       "      <th></th>\n",
       "    </tr>\n",
       "  </thead>\n",
       "  <tbody>\n",
       "    <tr>\n",
       "      <th>1</th>\n",
       "      <td>80</td>\n",
       "      <td>136</td>\n",
       "    </tr>\n",
       "    <tr>\n",
       "      <th>2</th>\n",
       "      <td>97</td>\n",
       "      <td>87</td>\n",
       "    </tr>\n",
       "    <tr>\n",
       "      <th>3</th>\n",
       "      <td>372</td>\n",
       "      <td>119</td>\n",
       "    </tr>\n",
       "  </tbody>\n",
       "</table>\n",
       "</div>"
      ],
      "text/plain": [
       "Survived    0    1\n",
       "Pclass            \n",
       "1          80  136\n",
       "2          97   87\n",
       "3         372  119"
      ]
     },
     "execution_count": 146,
     "metadata": {},
     "output_type": "execute_result"
    }
   ],
   "source": [
    "pclass = titanic.groupby(\"Pclass\")[\"Survived\"].value_counts().unstack()\n",
    "pclass"
   ]
  },
  {
   "cell_type": "code",
   "execution_count": 158,
   "metadata": {},
   "outputs": [
    {
     "data": {
      "text/html": [
       "<style  type=\"text/css\" >\n",
       "    #T_386f18c6_a223_11e9_8b95_24f5aaeb50c3row0_col0 {\n",
       "            background-color:  #00441b;\n",
       "            color:  #f1f1f1;\n",
       "        }    #T_386f18c6_a223_11e9_8b95_24f5aaeb50c3row0_col1 {\n",
       "            background-color:  #137d39;\n",
       "            color:  #f1f1f1;\n",
       "        }    #T_386f18c6_a223_11e9_8b95_24f5aaeb50c3row0_col2 {\n",
       "            background-color:  #005221;\n",
       "            color:  #f1f1f1;\n",
       "        }    #T_386f18c6_a223_11e9_8b95_24f5aaeb50c3row1_col0 {\n",
       "            background-color:  #005020;\n",
       "            color:  #f1f1f1;\n",
       "        }    #T_386f18c6_a223_11e9_8b95_24f5aaeb50c3row1_col1 {\n",
       "            background-color:  #00441b;\n",
       "            color:  #f1f1f1;\n",
       "        }    #T_386f18c6_a223_11e9_8b95_24f5aaeb50c3row1_col2 {\n",
       "            background-color:  #00441b;\n",
       "            color:  #f1f1f1;\n",
       "        }    #T_386f18c6_a223_11e9_8b95_24f5aaeb50c3row2_col0 {\n",
       "            background-color:  #98d8c9;\n",
       "            color:  #000000;\n",
       "        }    #T_386f18c6_a223_11e9_8b95_24f5aaeb50c3row2_col1 {\n",
       "            background-color:  #006d2c;\n",
       "            color:  #f1f1f1;\n",
       "        }    #T_386f18c6_a223_11e9_8b95_24f5aaeb50c3row2_col2 {\n",
       "            background-color:  #53b88c;\n",
       "            color:  #000000;\n",
       "        }    #T_386f18c6_a223_11e9_8b95_24f5aaeb50c3row3_col0 {\n",
       "            background-color:  #f7fcfd;\n",
       "            color:  #000000;\n",
       "        }    #T_386f18c6_a223_11e9_8b95_24f5aaeb50c3row3_col1 {\n",
       "            background-color:  #f7fcfd;\n",
       "            color:  #000000;\n",
       "        }    #T_386f18c6_a223_11e9_8b95_24f5aaeb50c3row3_col2 {\n",
       "            background-color:  #f7fcfd;\n",
       "            color:  #000000;\n",
       "        }</style><table id=\"T_386f18c6_a223_11e9_8b95_24f5aaeb50c3\" ><thead>    <tr>        <th class=\"index_name level0\" >Survived</th>        <th class=\"col_heading level0 col0\" >0</th>        <th class=\"col_heading level0 col1\" >1</th>        <th class=\"col_heading level0 col2\" >All</th>    </tr>    <tr>        <th class=\"index_name level0\" >Pclass</th>        <th class=\"blank\" ></th>        <th class=\"blank\" ></th>        <th class=\"blank\" ></th>    </tr></thead><tbody>\n",
       "                <tr>\n",
       "                        <th id=\"T_386f18c6_a223_11e9_8b95_24f5aaeb50c3level0_row0\" class=\"row_heading level0 row0\" >1</th>\n",
       "                        <td id=\"T_386f18c6_a223_11e9_8b95_24f5aaeb50c3row0_col0\" class=\"data row0 col0\" >80</td>\n",
       "                        <td id=\"T_386f18c6_a223_11e9_8b95_24f5aaeb50c3row0_col1\" class=\"data row0 col1\" >136</td>\n",
       "                        <td id=\"T_386f18c6_a223_11e9_8b95_24f5aaeb50c3row0_col2\" class=\"data row0 col2\" >216</td>\n",
       "            </tr>\n",
       "            <tr>\n",
       "                        <th id=\"T_386f18c6_a223_11e9_8b95_24f5aaeb50c3level0_row1\" class=\"row_heading level0 row1\" >2</th>\n",
       "                        <td id=\"T_386f18c6_a223_11e9_8b95_24f5aaeb50c3row1_col0\" class=\"data row1 col0\" >97</td>\n",
       "                        <td id=\"T_386f18c6_a223_11e9_8b95_24f5aaeb50c3row1_col1\" class=\"data row1 col1\" >87</td>\n",
       "                        <td id=\"T_386f18c6_a223_11e9_8b95_24f5aaeb50c3row1_col2\" class=\"data row1 col2\" >184</td>\n",
       "            </tr>\n",
       "            <tr>\n",
       "                        <th id=\"T_386f18c6_a223_11e9_8b95_24f5aaeb50c3level0_row2\" class=\"row_heading level0 row2\" >3</th>\n",
       "                        <td id=\"T_386f18c6_a223_11e9_8b95_24f5aaeb50c3row2_col0\" class=\"data row2 col0\" >372</td>\n",
       "                        <td id=\"T_386f18c6_a223_11e9_8b95_24f5aaeb50c3row2_col1\" class=\"data row2 col1\" >119</td>\n",
       "                        <td id=\"T_386f18c6_a223_11e9_8b95_24f5aaeb50c3row2_col2\" class=\"data row2 col2\" >491</td>\n",
       "            </tr>\n",
       "            <tr>\n",
       "                        <th id=\"T_386f18c6_a223_11e9_8b95_24f5aaeb50c3level0_row3\" class=\"row_heading level0 row3\" >All</th>\n",
       "                        <td id=\"T_386f18c6_a223_11e9_8b95_24f5aaeb50c3row3_col0\" class=\"data row3 col0\" >549</td>\n",
       "                        <td id=\"T_386f18c6_a223_11e9_8b95_24f5aaeb50c3row3_col1\" class=\"data row3 col1\" >342</td>\n",
       "                        <td id=\"T_386f18c6_a223_11e9_8b95_24f5aaeb50c3row3_col2\" class=\"data row3 col2\" >891</td>\n",
       "            </tr>\n",
       "    </tbody></table>"
      ],
      "text/plain": [
       "<pandas.io.formats.style.Styler at 0x25d815868d0>"
      ]
     },
     "execution_count": 158,
     "metadata": {},
     "output_type": "execute_result"
    }
   ],
   "source": [
    "# margins=True: All 출력\n",
    "pd.crosstab(titanic[\"Pclass\"], \n",
    "            titanic[\"Survived\"], \n",
    "            margins=True).style.background_gradient(cmap=\"BuGn_r\")"
   ]
  },
  {
   "cell_type": "code",
   "execution_count": 162,
   "metadata": {
    "scrolled": true
   },
   "outputs": [
    {
     "data": {
      "text/plain": [
       "<matplotlib.legend.Legend at 0x25d81ceb780>"
      ]
     },
     "execution_count": 162,
     "metadata": {},
     "output_type": "execute_result"
    },
    {
     "data": {
      "image/png": "[encoded data removed]",
      "text/plain": [
       "<Figure size 720x432 with 2 Axes>"
      ]
     },
     "metadata": {},
     "output_type": "display_data"
    }
   ],
   "source": [
    "sns.set(palette=\"Pastel1\")\n",
    "fig, axes = plt.subplots(1, 2, figsize=(10, 6))\n",
    "\n",
    "# Pclass에 따른 생존자 수 그래프\n",
    "axes[0].set(xlabel=\"Pclass\", ylabel=\"count\", title=\"Pclass : Survived vs Dead\")\n",
    "pclass.plot.bar(rot=0, ax=axes[0])\n",
    "\n",
    "# 전체 생존자 중 Pclass에따른 생존율\n",
    "axes[1].set(ylabel=\"\", title=\"Pclass : Survival rate\")\n",
    "axes[1].axis(\"off\")\n",
    "\n",
    "labels = [\"1st\", \"2nd\", \"3rd\"]\n",
    "pclass[1].plot.pie(labels=labels, explode=[0.1, 0, 0], shadow=True, autopct=\"%1.1f%%\", subplots=True)\n",
    "# bbox_to_anchor=(x, y, width, height)\n",
    "axes[1].legend(title=\"Pclass\", loc=\"center left\", bbox_to_anchor=(-0.1, 0))"
   ]
  },
  {
   "cell_type": "code",
   "execution_count": 151,
   "metadata": {
    "scrolled": true
   },
   "outputs": [
    {
     "data": {
      "text/html": [
       "<div>\n",
       "<style scoped>\n",
       "    .dataframe tbody tr th:only-of-type {\n",
       "        vertical-align: middle;\n",
       "    }\n",
       "\n",
       "    .dataframe tbody tr th {\n",
       "        vertical-align: top;\n",
       "    }\n",
       "\n",
       "    .dataframe thead th {\n",
       "        text-align: right;\n",
       "    }\n",
       "</style>\n",
       "<table border=\"1\" class=\"dataframe\">\n",
       "  <thead>\n",
       "    <tr style=\"text-align: right;\">\n",
       "      <th></th>\n",
       "      <th>Survived</th>\n",
       "    </tr>\n",
       "    <tr>\n",
       "      <th>Pclass</th>\n",
       "      <th></th>\n",
       "    </tr>\n",
       "  </thead>\n",
       "  <tbody>\n",
       "    <tr>\n",
       "      <th>1</th>\n",
       "      <td>0.629630</td>\n",
       "    </tr>\n",
       "    <tr>\n",
       "      <th>2</th>\n",
       "      <td>0.472826</td>\n",
       "    </tr>\n",
       "    <tr>\n",
       "      <th>3</th>\n",
       "      <td>0.242363</td>\n",
       "    </tr>\n",
       "  </tbody>\n",
       "</table>\n",
       "</div>"
      ],
      "text/plain": [
       "        Survived\n",
       "Pclass          \n",
       "1       0.629630\n",
       "2       0.472826\n",
       "3       0.242363"
      ]
     },
     "execution_count": 151,
     "metadata": {},
     "output_type": "execute_result"
    }
   ],
   "source": [
    "# 각 class별 생존율\n",
    "titanic[[\"Pclass\", \"Survived\"]].groupby(\"Pclass\").mean()"
   ]
  },
  {
   "cell_type": "code",
   "execution_count": 152,
   "metadata": {},
   "outputs": [
    {
     "data": {
      "text/plain": [
       "<matplotlib.axes._subplots.AxesSubplot at 0x25d8108e4a8>"
      ]
     },
     "execution_count": 152,
     "metadata": {},
     "output_type": "execute_result"
    },
    {
     "data": {
      "image/png": "[encoded data removed]",
      "text/plain": [
       "<Figure size 432x288 with 1 Axes>"
      ]
     },
     "metadata": {},
     "output_type": "display_data"
    }
   ],
   "source": [
    "titanic[[\"Pclass\", \"Survived\"]].groupby(\"Pclass\").mean().plot.bar()"
   ]
  },
  {
   "cell_type": "markdown",
   "metadata": {},
   "source": [
    "### Sex - Survived"
   ]
  },
  {
   "cell_type": "code",
   "execution_count": 166,
   "metadata": {
    "scrolled": false
   },
   "outputs": [
    {
     "data": {
      "text/plain": [
       "Sex     Survived\n",
       "female  1           233\n",
       "        0            81\n",
       "male    0           468\n",
       "        1           109\n",
       "Name: Survived, dtype: int64"
      ]
     },
     "execution_count": 166,
     "metadata": {},
     "output_type": "execute_result"
    }
   ],
   "source": [
    "titanic.groupby(\"Sex\")[\"Survived\"].value_counts()"
   ]
  },
  {
   "cell_type": "code",
   "execution_count": 168,
   "metadata": {},
   "outputs": [
    {
     "data": {
      "text/html": [
       "<div>\n",
       "<style scoped>\n",
       "    .dataframe tbody tr th:only-of-type {\n",
       "        vertical-align: middle;\n",
       "    }\n",
       "\n",
       "    .dataframe tbody tr th {\n",
       "        vertical-align: top;\n",
       "    }\n",
       "\n",
       "    .dataframe thead th {\n",
       "        text-align: right;\n",
       "    }\n",
       "</style>\n",
       "<table border=\"1\" class=\"dataframe\">\n",
       "  <thead>\n",
       "    <tr style=\"text-align: right;\">\n",
       "      <th></th>\n",
       "      <th>Survived</th>\n",
       "    </tr>\n",
       "    <tr>\n",
       "      <th>Sex</th>\n",
       "      <th></th>\n",
       "    </tr>\n",
       "  </thead>\n",
       "  <tbody>\n",
       "    <tr>\n",
       "      <th>female</th>\n",
       "      <td>0.742038</td>\n",
       "    </tr>\n",
       "    <tr>\n",
       "      <th>male</th>\n",
       "      <td>0.188908</td>\n",
       "    </tr>\n",
       "  </tbody>\n",
       "</table>\n",
       "</div>"
      ],
      "text/plain": [
       "        Survived\n",
       "Sex             \n",
       "female  0.742038\n",
       "male    0.188908"
      ]
     },
     "execution_count": 168,
     "metadata": {},
     "output_type": "execute_result"
    }
   ],
   "source": [
    "# 성별에 따른 생존율\n",
    "sex = titanic[[\"Sex\", \"Survived\"]].groupby([\"Sex\"]).mean()\n",
    "sex"
   ]
  },
  {
   "cell_type": "code",
   "execution_count": 174,
   "metadata": {},
   "outputs": [
    {
     "data": {
      "text/plain": [
       "Text(0.5, 1.0, 'Sex: Survived vs Dead')"
      ]
     },
     "execution_count": 174,
     "metadata": {},
     "output_type": "execute_result"
    },
    {
     "data": {
      "image/png": "[encoded data removed]",
      "text/plain": [
       "<Figure size 720x432 with 2 Axes>"
      ]
     },
     "metadata": {},
     "output_type": "display_data"
    }
   ],
   "source": [
    "fig, axes = plt.subplots(1, 2, figsize=(10, 6))\n",
    "\n",
    "axes[0].set_title(\"Sex : Survival rate\")\n",
    "sex.plot.bar(ax=axes[0], rot=0)\n",
    "\n",
    "sns.countplot(data=titanic, x=\"Sex\", hue=\"Survived\", ax=axes[1])\n",
    "axes[1].set_title(\"Sex: Survived vs Dead\")"
   ]
  },
  {
   "cell_type": "markdown",
   "metadata": {},
   "source": [
    "### Cabin - Survived"
   ]
  },
  {
   "cell_type": "code",
   "execution_count": 175,
   "metadata": {
    "scrolled": true
   },
   "outputs": [
    {
     "data": {
      "text/plain": [
       "PassengerId      0\n",
       "Survived         0\n",
       "Pclass           0\n",
       "Name             0\n",
       "Sex              0\n",
       "Age            177\n",
       "SibSp            0\n",
       "Parch            0\n",
       "Ticket           0\n",
       "Fare             0\n",
       "Cabin          687\n",
       "Embarked         2\n",
       "dtype: int64"
      ]
     },
     "execution_count": 175,
     "metadata": {},
     "output_type": "execute_result"
    }
   ],
   "source": [
    "numMissing"
   ]
  },
  {
   "cell_type": "code",
   "execution_count": 180,
   "metadata": {
    "scrolled": true
   },
   "outputs": [
    {
     "data": {
      "text/html": [
       "<div>\n",
       "<style scoped>\n",
       "    .dataframe tbody tr th:only-of-type {\n",
       "        vertical-align: middle;\n",
       "    }\n",
       "\n",
       "    .dataframe tbody tr th {\n",
       "        vertical-align: top;\n",
       "    }\n",
       "\n",
       "    .dataframe thead th {\n",
       "        text-align: right;\n",
       "    }\n",
       "</style>\n",
       "<table border=\"1\" class=\"dataframe\">\n",
       "  <thead>\n",
       "    <tr style=\"text-align: right;\">\n",
       "      <th></th>\n",
       "      <th>Cabin</th>\n",
       "      <th>Survived</th>\n",
       "    </tr>\n",
       "  </thead>\n",
       "  <tbody>\n",
       "    <tr>\n",
       "      <th>1</th>\n",
       "      <td>C85</td>\n",
       "      <td>1</td>\n",
       "    </tr>\n",
       "    <tr>\n",
       "      <th>3</th>\n",
       "      <td>C123</td>\n",
       "      <td>1</td>\n",
       "    </tr>\n",
       "    <tr>\n",
       "      <th>6</th>\n",
       "      <td>E46</td>\n",
       "      <td>0</td>\n",
       "    </tr>\n",
       "    <tr>\n",
       "      <th>10</th>\n",
       "      <td>G6</td>\n",
       "      <td>1</td>\n",
       "    </tr>\n",
       "    <tr>\n",
       "      <th>11</th>\n",
       "      <td>C103</td>\n",
       "      <td>1</td>\n",
       "    </tr>\n",
       "    <tr>\n",
       "      <th>21</th>\n",
       "      <td>D56</td>\n",
       "      <td>1</td>\n",
       "    </tr>\n",
       "    <tr>\n",
       "      <th>23</th>\n",
       "      <td>A6</td>\n",
       "      <td>1</td>\n",
       "    </tr>\n",
       "    <tr>\n",
       "      <th>27</th>\n",
       "      <td>C23 C25 C27</td>\n",
       "      <td>0</td>\n",
       "    </tr>\n",
       "    <tr>\n",
       "      <th>31</th>\n",
       "      <td>B78</td>\n",
       "      <td>1</td>\n",
       "    </tr>\n",
       "    <tr>\n",
       "      <th>52</th>\n",
       "      <td>D33</td>\n",
       "      <td>1</td>\n",
       "    </tr>\n",
       "  </tbody>\n",
       "</table>\n",
       "</div>"
      ],
      "text/plain": [
       "          Cabin  Survived\n",
       "1           C85         1\n",
       "3          C123         1\n",
       "6           E46         0\n",
       "10           G6         1\n",
       "11         C103         1\n",
       "21          D56         1\n",
       "23           A6         1\n",
       "27  C23 C25 C27         0\n",
       "31          B78         1\n",
       "52          D33         1"
      ]
     },
     "execution_count": 180,
     "metadata": {},
     "output_type": "execute_result"
    }
   ],
   "source": [
    "cabinDf = titanic[titanic[\"Cabin\"].notnull()][[\"Cabin\", \"Survived\"]]\n",
    "cabinDf.head(10)"
   ]
  },
  {
   "cell_type": "code",
   "execution_count": 183,
   "metadata": {
    "scrolled": true
   },
   "outputs": [
    {
     "data": {
      "text/plain": [
       "Cabin  Survived\n",
       "A10    0           1\n",
       "A14    0           1\n",
       "A16    1           1\n",
       "A19    0           1\n",
       "A20    1           1\n",
       "A23    1           1\n",
       "A24    0           1\n",
       "A26    1           1\n",
       "A31    1           1\n",
       "A32    0           1\n",
       "A34    1           1\n",
       "A36    0           1\n",
       "A5     0           1\n",
       "A6     1           1\n",
       "A7     0           1\n",
       "B101   1           1\n",
       "B102   0           1\n",
       "B18    1           2\n",
       "B19    0           1\n",
       "B20    1           2\n",
       "B22    0           1\n",
       "       1           1\n",
       "B28    1           2\n",
       "B3     1           1\n",
       "B30    0           1\n",
       "B35    1           2\n",
       "B37    0           1\n",
       "B38    0           1\n",
       "B39    1           1\n",
       "B4     1           1\n",
       "                  ..\n",
       "E25    1           2\n",
       "E31    0           1\n",
       "E33    1           2\n",
       "E34    1           1\n",
       "E36    1           1\n",
       "E38    0           1\n",
       "E40    1           1\n",
       "E44    0           1\n",
       "       1           1\n",
       "E46    0           1\n",
       "E49    1           1\n",
       "E50    1           1\n",
       "E58    0           1\n",
       "E63    0           1\n",
       "E67    0           1\n",
       "       1           1\n",
       "E68    1           1\n",
       "E77    0           1\n",
       "E8     1           2\n",
       "F E69  1           1\n",
       "F G63  0           1\n",
       "F G73  0           2\n",
       "F2     1           2\n",
       "       0           1\n",
       "F33    1           3\n",
       "F38    0           1\n",
       "F4     1           2\n",
       "G6     0           2\n",
       "       1           2\n",
       "T      0           1\n",
       "Name: Survived, Length: 163, dtype: int64"
      ]
     },
     "execution_count": 183,
     "metadata": {},
     "output_type": "execute_result"
    }
   ],
   "source": [
    "cabinDf.groupby(\"Cabin\")[\"Survived\"].value_counts()"
   ]
  },
  {
   "cell_type": "markdown",
   "metadata": {},
   "source": [
    "### Embarked - Survived"
   ]
  },
  {
   "cell_type": "code",
   "execution_count": 187,
   "metadata": {
    "scrolled": true
   },
   "outputs": [
    {
     "data": {
      "text/html": [
       "<div>\n",
       "<style scoped>\n",
       "    .dataframe tbody tr th:only-of-type {\n",
       "        vertical-align: middle;\n",
       "    }\n",
       "\n",
       "    .dataframe tbody tr th {\n",
       "        vertical-align: top;\n",
       "    }\n",
       "\n",
       "    .dataframe thead th {\n",
       "        text-align: right;\n",
       "    }\n",
       "</style>\n",
       "<table border=\"1\" class=\"dataframe\">\n",
       "  <thead>\n",
       "    <tr style=\"text-align: right;\">\n",
       "      <th></th>\n",
       "      <th>Survived</th>\n",
       "    </tr>\n",
       "    <tr>\n",
       "      <th>Embarked</th>\n",
       "      <th></th>\n",
       "    </tr>\n",
       "  </thead>\n",
       "  <tbody>\n",
       "    <tr>\n",
       "      <th>C</th>\n",
       "      <td>0.553571</td>\n",
       "    </tr>\n",
       "    <tr>\n",
       "      <th>Q</th>\n",
       "      <td>0.389610</td>\n",
       "    </tr>\n",
       "    <tr>\n",
       "      <th>S</th>\n",
       "      <td>0.336957</td>\n",
       "    </tr>\n",
       "  </tbody>\n",
       "</table>\n",
       "</div>"
      ],
      "text/plain": [
       "          Survived\n",
       "Embarked          \n",
       "C         0.553571\n",
       "Q         0.389610\n",
       "S         0.336957"
      ]
     },
     "execution_count": 187,
     "metadata": {},
     "output_type": "execute_result"
    }
   ],
   "source": [
    "embarked = titanic[[\"Embarked\", \"Survived\"]].groupby(\"Embarked\").mean()\n",
    "embarked"
   ]
  },
  {
   "cell_type": "code",
   "execution_count": 205,
   "metadata": {},
   "outputs": [
    {
     "data": {
      "text/plain": [
       "<matplotlib.axes._subplots.AxesSubplot at 0x25d8844db70>"
      ]
     },
     "execution_count": 205,
     "metadata": {},
     "output_type": "execute_result"
    },
    {
     "data": {
      "image/png": "[encoded data removed]",
      "text/plain": [
       "<Figure size 1080x360 with 3 Axes>"
      ]
     },
     "metadata": {},
     "output_type": "display_data"
    }
   ],
   "source": [
    "fig, axes = plt.subplots(1, 3, figsize=(15, 5))\n",
    "axes[0].set_title(\"Embarked passengers\")\n",
    "sns.countplot(\"Embarked\", data=titanic, ax=axes[0])\n",
    "\n",
    "axes[1].set_title(\"Embarked : Survival rate\")\n",
    "embarked.plot.bar(rot=0, ax=axes[1])\n",
    "\n",
    "axes[0].set_title(\"Embarked: Survived vs Dead\")\n",
    "sns.countplot(\"Embarked\", data=titanic, hue=\"Survived\", ax=axes[2])"
   ]
  },
  {
   "cell_type": "markdown",
   "metadata": {},
   "source": [
    "### Age(bins) - Survived\n",
    "* 나이구간 <br>\n",
    "0  :  0 ~ 20 <br>\n",
    "1 : 20 ~ 40 <br>\n",
    "2 : 40 ~ 60 <br>\n",
    "3 : 60 ~ 80 <br>\n",
    "4 : 80 ~"
   ]
  },
  {
   "cell_type": "code",
   "execution_count": 206,
   "metadata": {
    "scrolled": true
   },
   "outputs": [
    {
     "data": {
      "text/plain": [
       "False    714\n",
       "True     177\n",
       "Name: Age, dtype: int64"
      ]
     },
     "execution_count": 206,
     "metadata": {},
     "output_type": "execute_result"
    }
   ],
   "source": [
    "titanic[\"Age\"].isna().value_counts() "
   ]
  },
  {
   "cell_type": "code",
   "execution_count": 218,
   "metadata": {
    "scrolled": true
   },
   "outputs": [
    {
     "data": {
      "text/plain": [
       "<matplotlib.legend.Legend at 0x25d888650b8>"
      ]
     },
     "execution_count": 218,
     "metadata": {},
     "output_type": "execute_result"
    },
    {
     "data": {
      "image/png": "[encoded data removed]",
      "text/plain": [
       "<Figure size 432x360 with 1 Axes>"
      ]
     },
     "metadata": {},
     "output_type": "display_data"
    }
   ],
   "source": [
    "fig, axes = plt.subplots(1, 1, figsize=(6, 5))\n",
    "sns.kdeplot(titanic[titanic['Survived'] == 1][\"Age\"], ax=axes)\n",
    "sns.kdeplot(titanic[titanic['Survived'] == 0][\"Age\"], ax=axes)\n",
    "plt.legend([\"Survivor\", \"Dead\"])"
   ]
  },
  {
   "cell_type": "code",
   "execution_count": 222,
   "metadata": {},
   "outputs": [
    {
     "data": {
      "text/plain": [
       "Text(0.5, 0, 'Range of Age')"
      ]
     },
     "execution_count": 222,
     "metadata": {},
     "output_type": "execute_result"
    },
    {
     "data": {
      "image/png": "[encoded data removed]",
      "text/plain": [
       "<Figure size 504x504 with 1 Axes>"
      ]
     },
     "metadata": {},
     "output_type": "display_data"
    }
   ],
   "source": [
    "survivalRatio = []\n",
    "for age in range(1, 80):\n",
    "    survivalRatio.append(titanic[titanic[\"Age\"] < age][\"Survived\"].sum() / len(titanic[titanic[\"Age\"] < age][\"Survived\"]))\n",
    "    \n",
    "plt.figure(figsize=(7, 7))\n",
    "plt.plot(survivalRatio)\n",
    "plt.title(\"Survival rate depending on range of Age\", y=1.0)\n",
    "plt.ylabel(\"Survival rate\")\n",
    "plt.xlabel(\"Range of Age\")\n"
   ]
  },
  {
   "cell_type": "code",
   "execution_count": 259,
   "metadata": {},
   "outputs": [
    {
     "data": {
      "text/plain": [
       "80.0"
      ]
     },
     "execution_count": 259,
     "metadata": {},
     "output_type": "execute_result"
    }
   ],
   "source": [
    "titanic[\"Age\"].max()"
   ]
  },
  {
   "cell_type": "code",
   "execution_count": 211,
   "metadata": {
    "scrolled": true
   },
   "outputs": [
    {
     "data": {
      "text/plain": [
       "array([ 0, 10, 20, 30, 40, 50, 60, 70, 80], dtype=uint32)"
      ]
     },
     "execution_count": 211,
     "metadata": {},
     "output_type": "execute_result"
    }
   ],
   "source": [
    "bins = np.linspace(titanic[\"Age\"].min(), titanic[\"Age\"].max() , 9 ,dtype = np.uint32)\n",
    "bins"
   ]
  },
  {
   "cell_type": "code",
   "execution_count": 212,
   "metadata": {
    "scrolled": true
   },
   "outputs": [
    {
     "data": {
      "text/plain": [
       "array([3, 4, 3, 4, 4, 9, 6, 1, 3, 2, 1, 6, 3, 4, 2, 6, 1, 9, 4, 9, 4, 4,\n",
       "       2, 3, 1, 4, 9, 2, 9, 9, 5, 9, 9, 7, 3, 5, 9, 3, 2, 2, 5, 3, 9, 1,\n",
       "       2, 9, 9, 9, 9, 2, 1, 3, 5, 3, 7, 9, 3, 3, 1, 2, 3, 4, 5, 1, 9, 9,\n",
       "       3, 2, 2, 3, 4, 2, 3, 3, 4, 3, 9, 9, 1, 4, 3, 3, 9, 3, 2, 4, 2, 9,\n",
       "       3, 3, 3, 3, 5, 3, 6, 9, 8, 3, 4, 4, 3, 9, 3, 4, 4, 3, 3, 9, 4, 9,\n",
       "       5, 2, 3, 3, 2, 3, 8, 3, 3, 1, 3, 9, 4, 4, 6, 2, 9, 3, 9, 5, 4, 3,\n",
       "       5, 3, 3, 3, 2, 4, 2, 3, 9, 3, 3, 2, 2, 2, 3, 1, 4, 5, 6, 3, 6, 5,\n",
       "       9, 6, 2, 4, 9, 9, 5, 5, 3, 2, 1, 1, 9, 5, 9, 3, 7, 1, 1, 3, 6, 2,\n",
       "       9, 6, 4, 4, 9, 9, 1, 1, 1, 9, 9, 5, 5, 4, 4, 2, 2, 1, 5, 6, 9, 5,\n",
       "       9, 3, 3, 9, 4, 5, 2, 1, 4, 3, 2, 5, 3, 4, 3, 4, 9, 4, 3, 5, 4, 4,\n",
       "       2, 3, 6, 9, 4, 3, 2, 3, 2, 9, 4, 3, 6, 1, 3, 9, 5, 1, 2, 4, 9, 9,\n",
       "       3, 3, 4, 5, 3, 3, 4, 6, 9, 3, 7, 4, 5, 3, 9, 4, 4, 6, 9, 1, 6, 5,\n",
       "       9, 4, 2, 3, 6, 4, 9, 3, 5, 4, 9, 7, 5, 9, 1, 4, 7, 3, 2, 2, 9, 4,\n",
       "       4, 3, 5, 3, 3, 2, 4, 3, 3, 9, 3, 1, 9, 6, 9, 9, 2, 9, 9, 1, 9, 2,\n",
       "       4, 4, 3, 2, 3, 3, 5, 3, 3, 6, 4, 5, 3, 3, 4, 3, 9, 4, 7, 4, 4, 2,\n",
       "       9, 5, 4, 2, 9, 9, 3, 5, 5, 5, 1, 3, 3, 3, 4, 3, 5, 9, 1, 5, 3, 9,\n",
       "       2, 3, 9, 3, 3, 4, 9, 9, 5, 3, 5, 4, 9, 4, 7, 9, 9, 3, 3, 2, 2, 3,\n",
       "       1, 9, 3, 3, 3, 2, 5, 1, 4, 4, 9, 2, 1, 4, 9, 2, 4, 3, 3, 3, 3, 3,\n",
       "       4, 5, 3, 3, 4, 3, 3, 3, 3, 4, 6, 1, 3, 9, 9, 9, 4, 9, 5, 9, 4, 2,\n",
       "       4, 2, 9, 3, 3, 3, 2, 9, 3, 2, 9, 4, 3, 9, 5, 2, 6, 2, 3, 3, 7, 4,\n",
       "       5, 3, 3, 3, 9, 1, 2, 4, 1, 6, 4, 9, 4, 5, 9, 3, 7, 9, 6, 9, 5, 4,\n",
       "       5, 5, 9, 4, 9, 6, 9, 1, 9, 4, 4, 3, 3, 9, 4, 3, 3, 1, 1, 9, 6, 7,\n",
       "       3, 9, 4, 6, 4, 1, 9, 3, 6, 8, 3, 9, 6, 9, 3, 3, 2, 3, 9, 4, 2, 2,\n",
       "       4, 9, 3, 3, 3, 9, 4, 6, 3, 5, 4, 9, 4, 4, 4, 3, 9, 5, 9, 5, 6, 9,\n",
       "       4, 3, 1, 9, 2, 9, 4, 1, 5, 4, 9, 3, 4, 1, 2, 4, 6, 7, 2, 9, 4, 1,\n",
       "       2, 3, 9, 3, 3, 7, 5, 9, 4, 4, 9, 5, 3, 9, 9, 3, 2, 3, 9, 4, 7, 6,\n",
       "       4, 9, 2, 2, 4, 4, 9, 4, 3, 4, 6, 4, 9, 2, 5, 7, 3, 9, 4, 6, 5, 9,\n",
       "       4, 4, 9, 5, 9, 5, 3, 9, 9, 5, 4, 4, 4, 3, 3, 5, 4, 9, 9, 9, 4, 3,\n",
       "       4, 3, 1, 3, 3, 5, 3, 3, 3, 7, 6, 3, 3, 9, 9, 6, 4, 9, 1, 3, 4, 4,\n",
       "       5, 9, 3, 3, 1, 9, 1, 5, 2, 6, 9, 3, 9, 2, 3, 9, 2, 3, 9, 4, 3, 6,\n",
       "       6, 5, 5, 4, 3, 4, 3, 9, 5, 9, 5, 4, 8, 4, 9, 2, 3, 2, 5, 4, 9, 3,\n",
       "       3, 2, 7, 3, 2, 2, 2, 2, 4, 1, 9, 3, 7, 6, 5, 9, 5, 5, 2, 4, 2, 3,\n",
       "       3, 4, 5, 5, 3, 9, 3, 9, 5, 3, 6, 2, 4, 3, 9, 4, 1, 2, 4, 6, 3, 3,\n",
       "       4, 9, 3, 3, 3, 2, 9, 3, 3, 3, 5, 4, 9, 9, 9, 4, 3, 3, 4, 8, 2, 4,\n",
       "       2, 4, 1, 1, 4, 3, 5, 1, 3, 2, 4, 4, 9, 5, 3, 4, 2, 6, 9, 4, 9, 4,\n",
       "       3, 5, 6, 9, 6, 2, 9, 1, 9, 5, 2, 2, 3, 9, 3, 3, 2, 1, 1, 5, 9, 2,\n",
       "       9, 9, 3, 4, 5, 4, 4, 4, 4, 4, 2, 1, 3, 4, 4, 2, 4, 4, 3, 4, 4, 1,\n",
       "       4, 9, 3, 4, 5, 2, 6, 3, 4, 3, 1, 9, 9, 1, 9, 7, 2, 1, 9, 3, 2, 4,\n",
       "       3, 9, 4, 9, 3, 2, 4, 4, 2, 5, 9, 4, 3, 9, 1, 8, 1, 2, 5, 2, 5, 6,\n",
       "       3, 9, 5, 3, 5, 9, 3, 5, 3, 4, 9, 1, 3, 5, 4, 5, 3, 2, 3, 2, 9, 6,\n",
       "       3, 4, 3, 3, 3, 4, 3, 2, 9, 3, 4], dtype=int64)"
      ]
     },
     "execution_count": 212,
     "metadata": {},
     "output_type": "execute_result"
    }
   ],
   "source": [
    "np.digitize( titanic[\"Age\"], bins)"
   ]
  },
  {
   "cell_type": "code",
   "execution_count": 215,
   "metadata": {},
   "outputs": [
    {
     "data": {
      "text/html": [
       "<div>\n",
       "<style scoped>\n",
       "    .dataframe tbody tr th:only-of-type {\n",
       "        vertical-align: middle;\n",
       "    }\n",
       "\n",
       "    .dataframe tbody tr th {\n",
       "        vertical-align: top;\n",
       "    }\n",
       "\n",
       "    .dataframe thead th {\n",
       "        text-align: right;\n",
       "    }\n",
       "</style>\n",
       "<table border=\"1\" class=\"dataframe\">\n",
       "  <thead>\n",
       "    <tr style=\"text-align: right;\">\n",
       "      <th></th>\n",
       "      <th>Age</th>\n",
       "      <th>AgeGroup</th>\n",
       "    </tr>\n",
       "  </thead>\n",
       "  <tbody>\n",
       "    <tr>\n",
       "      <th>0</th>\n",
       "      <td>22.0</td>\n",
       "      <td>2</td>\n",
       "    </tr>\n",
       "    <tr>\n",
       "      <th>1</th>\n",
       "      <td>38.0</td>\n",
       "      <td>3</td>\n",
       "    </tr>\n",
       "    <tr>\n",
       "      <th>2</th>\n",
       "      <td>26.0</td>\n",
       "      <td>2</td>\n",
       "    </tr>\n",
       "    <tr>\n",
       "      <th>3</th>\n",
       "      <td>35.0</td>\n",
       "      <td>3</td>\n",
       "    </tr>\n",
       "    <tr>\n",
       "      <th>4</th>\n",
       "      <td>35.0</td>\n",
       "      <td>3</td>\n",
       "    </tr>\n",
       "    <tr>\n",
       "      <th>5</th>\n",
       "      <td>NaN</td>\n",
       "      <td>8</td>\n",
       "    </tr>\n",
       "    <tr>\n",
       "      <th>6</th>\n",
       "      <td>54.0</td>\n",
       "      <td>5</td>\n",
       "    </tr>\n",
       "    <tr>\n",
       "      <th>7</th>\n",
       "      <td>2.0</td>\n",
       "      <td>0</td>\n",
       "    </tr>\n",
       "    <tr>\n",
       "      <th>8</th>\n",
       "      <td>27.0</td>\n",
       "      <td>2</td>\n",
       "    </tr>\n",
       "    <tr>\n",
       "      <th>9</th>\n",
       "      <td>14.0</td>\n",
       "      <td>1</td>\n",
       "    </tr>\n",
       "  </tbody>\n",
       "</table>\n",
       "</div>"
      ],
      "text/plain": [
       "    Age  AgeGroup\n",
       "0  22.0         2\n",
       "1  38.0         3\n",
       "2  26.0         2\n",
       "3  35.0         3\n",
       "4  35.0         3\n",
       "5   NaN         8\n",
       "6  54.0         5\n",
       "7   2.0         0\n",
       "8  27.0         2\n",
       "9  14.0         1"
      ]
     },
     "execution_count": 215,
     "metadata": {},
     "output_type": "execute_result"
    }
   ],
   "source": [
    "titanic[\"AgeGroup\"] = np.digitize( titanic[\"Age\"], bins) - 1\n",
    "titanic[[\"Age\", \"AgeGroup\"]].head(10)"
   ]
  },
  {
   "cell_type": "code",
   "execution_count": 225,
   "metadata": {
    "scrolled": true
   },
   "outputs": [
    {
     "data": {
      "text/html": [
       "<div>\n",
       "<style scoped>\n",
       "    .dataframe tbody tr th:only-of-type {\n",
       "        vertical-align: middle;\n",
       "    }\n",
       "\n",
       "    .dataframe tbody tr th {\n",
       "        vertical-align: top;\n",
       "    }\n",
       "\n",
       "    .dataframe thead th {\n",
       "        text-align: right;\n",
       "    }\n",
       "</style>\n",
       "<table border=\"1\" class=\"dataframe\">\n",
       "  <thead>\n",
       "    <tr style=\"text-align: right;\">\n",
       "      <th></th>\n",
       "      <th>Survived</th>\n",
       "    </tr>\n",
       "    <tr>\n",
       "      <th>AgeGroup</th>\n",
       "      <th></th>\n",
       "    </tr>\n",
       "  </thead>\n",
       "  <tbody>\n",
       "    <tr>\n",
       "      <th>0</th>\n",
       "      <td>0.612903</td>\n",
       "    </tr>\n",
       "    <tr>\n",
       "      <th>1</th>\n",
       "      <td>0.401961</td>\n",
       "    </tr>\n",
       "    <tr>\n",
       "      <th>2</th>\n",
       "      <td>0.350000</td>\n",
       "    </tr>\n",
       "    <tr>\n",
       "      <th>3</th>\n",
       "      <td>0.437126</td>\n",
       "    </tr>\n",
       "    <tr>\n",
       "      <th>4</th>\n",
       "      <td>0.382022</td>\n",
       "    </tr>\n",
       "    <tr>\n",
       "      <th>5</th>\n",
       "      <td>0.416667</td>\n",
       "    </tr>\n",
       "    <tr>\n",
       "      <th>6</th>\n",
       "      <td>0.315789</td>\n",
       "    </tr>\n",
       "    <tr>\n",
       "      <th>7</th>\n",
       "      <td>0.000000</td>\n",
       "    </tr>\n",
       "    <tr>\n",
       "      <th>8</th>\n",
       "      <td>0.297753</td>\n",
       "    </tr>\n",
       "  </tbody>\n",
       "</table>\n",
       "</div>"
      ],
      "text/plain": [
       "          Survived\n",
       "AgeGroup          \n",
       "0         0.612903\n",
       "1         0.401961\n",
       "2         0.350000\n",
       "3         0.437126\n",
       "4         0.382022\n",
       "5         0.416667\n",
       "6         0.315789\n",
       "7         0.000000\n",
       "8         0.297753"
      ]
     },
     "execution_count": 225,
     "metadata": {},
     "output_type": "execute_result"
    }
   ],
   "source": [
    "titanic[[\"AgeGroup\", \"Survived\"]].groupby(\"AgeGroup\").mean()"
   ]
  },
  {
   "cell_type": "code",
   "execution_count": 241,
   "metadata": {},
   "outputs": [
    {
     "name": "stdout",
     "output_type": "stream",
     "text": [
      "<class 'pandas.core.frame.DataFrame'>\n",
      "Int64Index: 714 entries, 0 to 890\n",
      "Data columns (total 13 columns):\n",
      "PassengerId    714 non-null int64\n",
      "Survived       714 non-null int64\n",
      "Pclass         714 non-null int64\n",
      "Name           714 non-null object\n",
      "Sex            714 non-null object\n",
      "Age            714 non-null float64\n",
      "SibSp          714 non-null int64\n",
      "Parch          714 non-null int64\n",
      "Ticket         714 non-null object\n",
      "Fare           714 non-null float64\n",
      "Cabin          185 non-null object\n",
      "Embarked       712 non-null object\n",
      "AgeGroup       714 non-null int64\n",
      "dtypes: float64(2), int64(6), object(5)\n",
      "memory usage: 78.1+ KB\n"
     ]
    }
   ],
   "source": [
    "age = titanic[titanic[\"Age\"].notnull()]\n",
    "age.info()"
   ]
  },
  {
   "cell_type": "code",
   "execution_count": 244,
   "metadata": {},
   "outputs": [
    {
     "data": {
      "text/html": [
       "<div>\n",
       "<style scoped>\n",
       "    .dataframe tbody tr th:only-of-type {\n",
       "        vertical-align: middle;\n",
       "    }\n",
       "\n",
       "    .dataframe tbody tr th {\n",
       "        vertical-align: top;\n",
       "    }\n",
       "\n",
       "    .dataframe thead th {\n",
       "        text-align: right;\n",
       "    }\n",
       "</style>\n",
       "<table border=\"1\" class=\"dataframe\">\n",
       "  <thead>\n",
       "    <tr style=\"text-align: right;\">\n",
       "      <th>Survived</th>\n",
       "      <th>0</th>\n",
       "      <th>1</th>\n",
       "    </tr>\n",
       "    <tr>\n",
       "      <th>AgeGroup</th>\n",
       "      <th></th>\n",
       "      <th></th>\n",
       "    </tr>\n",
       "  </thead>\n",
       "  <tbody>\n",
       "    <tr>\n",
       "      <th>0</th>\n",
       "      <td>24</td>\n",
       "      <td>38</td>\n",
       "    </tr>\n",
       "    <tr>\n",
       "      <th>1</th>\n",
       "      <td>61</td>\n",
       "      <td>41</td>\n",
       "    </tr>\n",
       "    <tr>\n",
       "      <th>2</th>\n",
       "      <td>143</td>\n",
       "      <td>77</td>\n",
       "    </tr>\n",
       "    <tr>\n",
       "      <th>3</th>\n",
       "      <td>94</td>\n",
       "      <td>73</td>\n",
       "    </tr>\n",
       "    <tr>\n",
       "      <th>4</th>\n",
       "      <td>55</td>\n",
       "      <td>34</td>\n",
       "    </tr>\n",
       "    <tr>\n",
       "      <th>5</th>\n",
       "      <td>28</td>\n",
       "      <td>20</td>\n",
       "    </tr>\n",
       "    <tr>\n",
       "      <th>6</th>\n",
       "      <td>13</td>\n",
       "      <td>6</td>\n",
       "    </tr>\n",
       "    <tr>\n",
       "      <th>7</th>\n",
       "      <td>6</td>\n",
       "      <td>0</td>\n",
       "    </tr>\n",
       "    <tr>\n",
       "      <th>8</th>\n",
       "      <td>0</td>\n",
       "      <td>1</td>\n",
       "    </tr>\n",
       "  </tbody>\n",
       "</table>\n",
       "</div>"
      ],
      "text/plain": [
       "Survived    0   1\n",
       "AgeGroup         \n",
       "0          24  38\n",
       "1          61  41\n",
       "2         143  77\n",
       "3          94  73\n",
       "4          55  34\n",
       "5          28  20\n",
       "6          13   6\n",
       "7           6   0\n",
       "8           0   1"
      ]
     },
     "execution_count": 244,
     "metadata": {},
     "output_type": "execute_result"
    }
   ],
   "source": [
    "ageGroup = age.pivot_table(index=\"AgeGroup\", columns=\"Survived\", aggfunc=\"size\", fill_value=0)\n",
    "ageGroup"
   ]
  },
  {
   "cell_type": "code",
   "execution_count": 250,
   "metadata": {},
   "outputs": [
    {
     "data": {
      "text/plain": [
       "<matplotlib.axes._subplots.AxesSubplot at 0x25d8b10f6d8>"
      ]
     },
     "execution_count": 250,
     "metadata": {},
     "output_type": "execute_result"
    },
    {
     "data": {
      "image/png": "[encoded data removed]",
      "text/plain": [
       "<Figure size 432x288 with 2 Axes>"
      ]
     },
     "metadata": {},
     "output_type": "display_data"
    }
   ],
   "source": [
    "sns.heatmap(ageGroup, annot=True, fmt=\"d\", cmap=sns.light_palette((260, 75, 60), input=\"husl\"))"
   ]
  },
  {
   "cell_type": "code",
   "execution_count": 256,
   "metadata": {},
   "outputs": [
    {
     "data": {
      "text/plain": [
       "[<matplotlib.axis.YTick at 0x25d89ca3518>,\n",
       " <matplotlib.axis.YTick at 0x25d89400a58>,\n",
       " <matplotlib.axis.YTick at 0x25d8b36a898>,\n",
       " <matplotlib.axis.YTick at 0x25d86b8ec50>,\n",
       " <matplotlib.axis.YTick at 0x25d86b8e8d0>,\n",
       " <matplotlib.axis.YTick at 0x25d86b935f8>,\n",
       " <matplotlib.axis.YTick at 0x25d86b93ac8>,\n",
       " <matplotlib.axis.YTick at 0x25d86b8ecf8>,\n",
       " <matplotlib.axis.YTick at 0x25d86b93048>,\n",
       " <matplotlib.axis.YTick at 0x25d86baa438>,\n",
       " <matplotlib.axis.YTick at 0x25d86baa940>]"
      ]
     },
     "execution_count": 256,
     "metadata": {},
     "output_type": "execute_result"
    },
    {
     "data": {
      "image/png": "[encoded data removed]",
      "text/plain": [
       "<Figure size 864x504 with 2 Axes>"
      ]
     },
     "metadata": {},
     "output_type": "display_data"
    }
   ],
   "source": [
    "fig, axes = plt.subplots(1,2,figsize=(12,7))\n",
    "sns.violinplot(\"Pclass\",\"Age\", hue=\"Survived\", data=titanic, scale=\"count\", split=True, ax=axes[0])\n",
    "axes[0].set_title(\"Pclass and Age\")\n",
    "axes[0].set_yticks(range(0,110,10))\n",
    "\n",
    "sns.violinplot(\"Sex\",\"Age\", hue=\"Survived\", data=titanic, scale=\"count\", split=True,ax=axes[1])\n",
    "axes[1].set_title(\"Sex and Age\")\n",
    "axes[1].set_yticks(range(0,110,10))"
   ]
  }
 ],
 "metadata": {
  "kernelspec": {
   "display_name": "Python 3",
   "language": "python",
   "name": "python3"
  },
  "language_info": {
   "codemirror_mode": {
    "name": "ipython",
    "version": 3
   },
   "file_extension": ".py",
   "mimetype": "text/x-python",
   "name": "python",
   "nbconvert_exporter": "python",
   "pygments_lexer": "ipython3",
   "version": "3.7.3"
  }
 },
 "nbformat": 4,
 "nbformat_minor": 2
}
