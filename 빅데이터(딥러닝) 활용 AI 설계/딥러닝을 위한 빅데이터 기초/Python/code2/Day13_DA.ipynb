{
 "cells": [
  {
   "cell_type": "markdown",
   "metadata": {},
   "source": [
    "단어 → 수치화(DTM, Word2Vec) <br>\n",
    "문서간 단어들의 차이를 계산? 유클리드, 코사인 유사도 등  <br><br>\n",
    "\n",
    "유사도 = 두 객체가 얼마나 닮았는지를 나타내는 수치(측정)값 <br>\n",
    "비유사도 = 두 객체가 얼마나 다른지를 나타내는 수치(측정)값 <br><br>\n",
    "\n",
    "유클리디안 거리의 정의 <br>\n",
    "n = 열의 수 = feature의 수 <br>\n",
    "pk, qk = k 차원의 값 <br>\n",
    "두 점사이의 거리가 가까우면 유사도 ↑ <br>\n",
    "\n",
    "유클리디안 거리의 한계 <br>\n",
    "(x=\"사랑\", y = \"돈\") <br>\n",
    "p1 (10, 0) <br>\n",
    "p2 (1, 0) <br>\n",
    "p3 (9, 5) <br>\n",
    "p1과 p2 > p1과 p3: 더 가깝다 → 유사도가 더 높게 나온다  <br>\n",
    "그럼 두 점사이의 **각도**도 따져보자 → **같은** 방향인지 <br><br>\n",
    "\n",
    "코사인 유사도 <br>\n",
    "두 벡터의 방향이 완전이 동일 : 1 <br>\n",
    "90도 : 0 <br>\n",
    "180 : -1 <br>\n",
    "\n",
    "1에 가까우면 가까울수룩 유사도가 높다  <br>\n",
    "분모 = 두 벡터의 길이 곱 <br>\n",
    "분자 = 두 벡터의 내적(요소간 곱셈) <br> <br>\n",
    "\n",
    "문서1 : 저는 파이썬 좋아요 <br>\n",
    "문서2 : 저는 자바 좋아요 <br>\n",
    "문서3 : 저는 자바 좋아요 저는 자바 좋아요 <br>\n",
    "\n",
    "| <center>문서</center> |  <center>저는</center> |  <center>파이썬</center> |   <center>자바</center> |  <center>좋아요</center> |\n",
    "|:--------|:--------:|--------:|--------:|--------:|\n",
    "|**문서 1** | <center>1</center> | <center>1</center> | <center>0</center> | <center>1</center> |\n",
    "|**문서 2** | <center>1</center> | <center>0</center> | <center>1</center> | <center>1</center> |\n",
    "|**문서 3** | <center>2</center> | <center>0</center> | <center>2</center> | <center>2</center> |\n",
    "\n",
    "문서1문서2 = (1+0+0+1) / 3 = 2/3 = 0.67  <br> \n",
    "문서1문서3 = (2+0+0+2) / 루트3*루트12 = 4/6 = 0.67  <br>\n",
    "문서2문서3 = (2+0+2+2) / 6 = 6 / 6 = 1  <br> <br>\n",
    "\n",
    "문서2와 문서3의 유사도가 제일 높다 → 서로 크기만 다르고 방향이 같은 벡터  <br> <br>\n",
    "\n",
    "\"토이스토리4\" 영화와 가장 유사한 영화 검색  <br>\n",
    "→ 줄거리, 코사인 유사도 기반  <br>\n",
    "→ 각 영화에 대한 DTM 필요 <br> \n",
    "→ 유의어는 어떻게 처리할 것인가? <br>"
   ]
  },
  {
   "cell_type": "code",
   "execution_count": 2,
   "metadata": {},
   "outputs": [
    {
     "name": "stdout",
     "output_type": "stream",
     "text": [
      "0.6666666666666667\n",
      "0.6666666666666667\n",
      "1.0000000000000002\n"
     ]
    }
   ],
   "source": [
    "import numpy as np\n",
    "from numpy.linalg import norm # norm에도 종류가 여러가지가 있지만 보통 l2 norm\n",
    "\n",
    "def cos_sim(x, y):\n",
    "    return np.dot(x, y) / (norm(x)*norm(y))\n",
    "    \n",
    "doc1 = np.array([1, 1, 0, 1])\n",
    "doc2 = np.array([1, 0, 1, 1])\n",
    "doc3 = np.array([2, 0, 2, 2])\n",
    "\n",
    "print(cos_sim(doc1, doc2))\n",
    "print(cos_sim(doc1, doc3))\n",
    "print(cos_sim(doc3, doc2))"
   ]
  },
  {
   "cell_type": "markdown",
   "metadata": {},
   "source": [
    "## 영화 줄거리를 이용한 유사도 분석 및 영화 추천\n",
    "[[영화 데이터 출처]](https://www.kaggle.com/rounakbanik/the-movies-dataset)"
   ]
  },
  {
   "cell_type": "code",
   "execution_count": 3,
   "metadata": {},
   "outputs": [
    {
     "name": "stderr",
     "output_type": "stream",
     "text": [
      "C:\\Users\\user\\Anaconda3\\lib\\site-packages\\IPython\\core\\interactiveshell.py:3049: DtypeWarning: Columns (10) have mixed types. Specify dtype option on import or set low_memory=False.\n",
      "  interactivity=interactivity, compiler=compiler, result=result)\n"
     ]
    },
    {
     "data": {
      "text/html": [
       "<div>\n",
       "<style scoped>\n",
       "    .dataframe tbody tr th:only-of-type {\n",
       "        vertical-align: middle;\n",
       "    }\n",
       "\n",
       "    .dataframe tbody tr th {\n",
       "        vertical-align: top;\n",
       "    }\n",
       "\n",
       "    .dataframe thead th {\n",
       "        text-align: right;\n",
       "    }\n",
       "</style>\n",
       "<table border=\"1\" class=\"dataframe\">\n",
       "  <thead>\n",
       "    <tr style=\"text-align: right;\">\n",
       "      <th></th>\n",
       "      <th>adult</th>\n",
       "      <th>belongs_to_collection</th>\n",
       "      <th>budget</th>\n",
       "      <th>genres</th>\n",
       "      <th>homepage</th>\n",
       "      <th>id</th>\n",
       "      <th>imdb_id</th>\n",
       "      <th>original_language</th>\n",
       "      <th>original_title</th>\n",
       "      <th>overview</th>\n",
       "      <th>...</th>\n",
       "      <th>release_date</th>\n",
       "      <th>revenue</th>\n",
       "      <th>runtime</th>\n",
       "      <th>spoken_languages</th>\n",
       "      <th>status</th>\n",
       "      <th>tagline</th>\n",
       "      <th>title</th>\n",
       "      <th>video</th>\n",
       "      <th>vote_average</th>\n",
       "      <th>vote_count</th>\n",
       "    </tr>\n",
       "  </thead>\n",
       "  <tbody>\n",
       "    <tr>\n",
       "      <th>0</th>\n",
       "      <td>False</td>\n",
       "      <td>{'id': 10194, 'name': 'Toy Story Collection', ...</td>\n",
       "      <td>30000000</td>\n",
       "      <td>[{'id': 16, 'name': 'Animation'}, {'id': 35, '...</td>\n",
       "      <td>http://toystory.disney.com/toy-story</td>\n",
       "      <td>862</td>\n",
       "      <td>tt0114709</td>\n",
       "      <td>en</td>\n",
       "      <td>Toy Story</td>\n",
       "      <td>Led by Woody, Andy's toys live happily in his ...</td>\n",
       "      <td>...</td>\n",
       "      <td>1995-10-30</td>\n",
       "      <td>373554033.0</td>\n",
       "      <td>81.0</td>\n",
       "      <td>[{'iso_639_1': 'en', 'name': 'English'}]</td>\n",
       "      <td>Released</td>\n",
       "      <td>NaN</td>\n",
       "      <td>Toy Story</td>\n",
       "      <td>False</td>\n",
       "      <td>7.7</td>\n",
       "      <td>5415.0</td>\n",
       "    </tr>\n",
       "    <tr>\n",
       "      <th>1</th>\n",
       "      <td>False</td>\n",
       "      <td>NaN</td>\n",
       "      <td>65000000</td>\n",
       "      <td>[{'id': 12, 'name': 'Adventure'}, {'id': 14, '...</td>\n",
       "      <td>NaN</td>\n",
       "      <td>8844</td>\n",
       "      <td>tt0113497</td>\n",
       "      <td>en</td>\n",
       "      <td>Jumanji</td>\n",
       "      <td>When siblings Judy and Peter discover an encha...</td>\n",
       "      <td>...</td>\n",
       "      <td>1995-12-15</td>\n",
       "      <td>262797249.0</td>\n",
       "      <td>104.0</td>\n",
       "      <td>[{'iso_639_1': 'en', 'name': 'English'}, {'iso...</td>\n",
       "      <td>Released</td>\n",
       "      <td>Roll the dice and unleash the excitement!</td>\n",
       "      <td>Jumanji</td>\n",
       "      <td>False</td>\n",
       "      <td>6.9</td>\n",
       "      <td>2413.0</td>\n",
       "    </tr>\n",
       "    <tr>\n",
       "      <th>2</th>\n",
       "      <td>False</td>\n",
       "      <td>{'id': 119050, 'name': 'Grumpy Old Men Collect...</td>\n",
       "      <td>0</td>\n",
       "      <td>[{'id': 10749, 'name': 'Romance'}, {'id': 35, ...</td>\n",
       "      <td>NaN</td>\n",
       "      <td>15602</td>\n",
       "      <td>tt0113228</td>\n",
       "      <td>en</td>\n",
       "      <td>Grumpier Old Men</td>\n",
       "      <td>A family wedding reignites the ancient feud be...</td>\n",
       "      <td>...</td>\n",
       "      <td>1995-12-22</td>\n",
       "      <td>0.0</td>\n",
       "      <td>101.0</td>\n",
       "      <td>[{'iso_639_1': 'en', 'name': 'English'}]</td>\n",
       "      <td>Released</td>\n",
       "      <td>Still Yelling. Still Fighting. Still Ready for...</td>\n",
       "      <td>Grumpier Old Men</td>\n",
       "      <td>False</td>\n",
       "      <td>6.5</td>\n",
       "      <td>92.0</td>\n",
       "    </tr>\n",
       "    <tr>\n",
       "      <th>3</th>\n",
       "      <td>False</td>\n",
       "      <td>NaN</td>\n",
       "      <td>16000000</td>\n",
       "      <td>[{'id': 35, 'name': 'Comedy'}, {'id': 18, 'nam...</td>\n",
       "      <td>NaN</td>\n",
       "      <td>31357</td>\n",
       "      <td>tt0114885</td>\n",
       "      <td>en</td>\n",
       "      <td>Waiting to Exhale</td>\n",
       "      <td>Cheated on, mistreated and stepped on, the wom...</td>\n",
       "      <td>...</td>\n",
       "      <td>1995-12-22</td>\n",
       "      <td>81452156.0</td>\n",
       "      <td>127.0</td>\n",
       "      <td>[{'iso_639_1': 'en', 'name': 'English'}]</td>\n",
       "      <td>Released</td>\n",
       "      <td>Friends are the people who let you be yourself...</td>\n",
       "      <td>Waiting to Exhale</td>\n",
       "      <td>False</td>\n",
       "      <td>6.1</td>\n",
       "      <td>34.0</td>\n",
       "    </tr>\n",
       "    <tr>\n",
       "      <th>4</th>\n",
       "      <td>False</td>\n",
       "      <td>{'id': 96871, 'name': 'Father of the Bride Col...</td>\n",
       "      <td>0</td>\n",
       "      <td>[{'id': 35, 'name': 'Comedy'}]</td>\n",
       "      <td>NaN</td>\n",
       "      <td>11862</td>\n",
       "      <td>tt0113041</td>\n",
       "      <td>en</td>\n",
       "      <td>Father of the Bride Part II</td>\n",
       "      <td>Just when George Banks has recovered from his ...</td>\n",
       "      <td>...</td>\n",
       "      <td>1995-02-10</td>\n",
       "      <td>76578911.0</td>\n",
       "      <td>106.0</td>\n",
       "      <td>[{'iso_639_1': 'en', 'name': 'English'}]</td>\n",
       "      <td>Released</td>\n",
       "      <td>Just When His World Is Back To Normal... He's ...</td>\n",
       "      <td>Father of the Bride Part II</td>\n",
       "      <td>False</td>\n",
       "      <td>5.7</td>\n",
       "      <td>173.0</td>\n",
       "    </tr>\n",
       "  </tbody>\n",
       "</table>\n",
       "<p>5 rows × 24 columns</p>\n",
       "</div>"
      ],
      "text/plain": [
       "   adult                              belongs_to_collection    budget  \\\n",
       "0  False  {'id': 10194, 'name': 'Toy Story Collection', ...  30000000   \n",
       "1  False                                                NaN  65000000   \n",
       "2  False  {'id': 119050, 'name': 'Grumpy Old Men Collect...         0   \n",
       "3  False                                                NaN  16000000   \n",
       "4  False  {'id': 96871, 'name': 'Father of the Bride Col...         0   \n",
       "\n",
       "                                              genres  \\\n",
       "0  [{'id': 16, 'name': 'Animation'}, {'id': 35, '...   \n",
       "1  [{'id': 12, 'name': 'Adventure'}, {'id': 14, '...   \n",
       "2  [{'id': 10749, 'name': 'Romance'}, {'id': 35, ...   \n",
       "3  [{'id': 35, 'name': 'Comedy'}, {'id': 18, 'nam...   \n",
       "4                     [{'id': 35, 'name': 'Comedy'}]   \n",
       "\n",
       "                               homepage     id    imdb_id original_language  \\\n",
       "0  http://toystory.disney.com/toy-story    862  tt0114709                en   \n",
       "1                                   NaN   8844  tt0113497                en   \n",
       "2                                   NaN  15602  tt0113228                en   \n",
       "3                                   NaN  31357  tt0114885                en   \n",
       "4                                   NaN  11862  tt0113041                en   \n",
       "\n",
       "                original_title  \\\n",
       "0                    Toy Story   \n",
       "1                      Jumanji   \n",
       "2             Grumpier Old Men   \n",
       "3            Waiting to Exhale   \n",
       "4  Father of the Bride Part II   \n",
       "\n",
       "                                            overview  ... release_date  \\\n",
       "0  Led by Woody, Andy's toys live happily in his ...  ...   1995-10-30   \n",
       "1  When siblings Judy and Peter discover an encha...  ...   1995-12-15   \n",
       "2  A family wedding reignites the ancient feud be...  ...   1995-12-22   \n",
       "3  Cheated on, mistreated and stepped on, the wom...  ...   1995-12-22   \n",
       "4  Just when George Banks has recovered from his ...  ...   1995-02-10   \n",
       "\n",
       "       revenue runtime                                   spoken_languages  \\\n",
       "0  373554033.0    81.0           [{'iso_639_1': 'en', 'name': 'English'}]   \n",
       "1  262797249.0   104.0  [{'iso_639_1': 'en', 'name': 'English'}, {'iso...   \n",
       "2          0.0   101.0           [{'iso_639_1': 'en', 'name': 'English'}]   \n",
       "3   81452156.0   127.0           [{'iso_639_1': 'en', 'name': 'English'}]   \n",
       "4   76578911.0   106.0           [{'iso_639_1': 'en', 'name': 'English'}]   \n",
       "\n",
       "     status                                            tagline  \\\n",
       "0  Released                                                NaN   \n",
       "1  Released          Roll the dice and unleash the excitement!   \n",
       "2  Released  Still Yelling. Still Fighting. Still Ready for...   \n",
       "3  Released  Friends are the people who let you be yourself...   \n",
       "4  Released  Just When His World Is Back To Normal... He's ...   \n",
       "\n",
       "                         title  video vote_average vote_count  \n",
       "0                    Toy Story  False          7.7     5415.0  \n",
       "1                      Jumanji  False          6.9     2413.0  \n",
       "2             Grumpier Old Men  False          6.5       92.0  \n",
       "3            Waiting to Exhale  False          6.1       34.0  \n",
       "4  Father of the Bride Part II  False          5.7      173.0  \n",
       "\n",
       "[5 rows x 24 columns]"
      ]
     },
     "execution_count": 3,
     "metadata": {},
     "output_type": "execute_result"
    }
   ],
   "source": [
    "import pandas as pd\n",
    "data = pd.read_csv(\"./res/the-movies-dataset/movies_metadata.csv\")\n",
    "data.head()"
   ]
  },
  {
   "cell_type": "code",
   "execution_count": 4,
   "metadata": {},
   "outputs": [
    {
     "data": {
      "text/plain": [
       "Index(['adult', 'belongs_to_collection', 'budget', 'genres', 'homepage', 'id',\n",
       "       'imdb_id', 'original_language', 'original_title', 'overview',\n",
       "       'popularity', 'poster_path', 'production_companies',\n",
       "       'production_countries', 'release_date', 'revenue', 'runtime',\n",
       "       'spoken_languages', 'status', 'tagline', 'title', 'video',\n",
       "       'vote_average', 'vote_count'],\n",
       "      dtype='object')"
      ]
     },
     "execution_count": 4,
     "metadata": {},
     "output_type": "execute_result"
    }
   ],
   "source": [
    "data.columns"
   ]
  },
  {
   "cell_type": "code",
   "execution_count": 6,
   "metadata": {},
   "outputs": [
    {
     "data": {
      "text/html": [
       "<div>\n",
       "<style scoped>\n",
       "    .dataframe tbody tr th:only-of-type {\n",
       "        vertical-align: middle;\n",
       "    }\n",
       "\n",
       "    .dataframe tbody tr th {\n",
       "        vertical-align: top;\n",
       "    }\n",
       "\n",
       "    .dataframe thead th {\n",
       "        text-align: right;\n",
       "    }\n",
       "</style>\n",
       "<table border=\"1\" class=\"dataframe\">\n",
       "  <thead>\n",
       "    <tr style=\"text-align: right;\">\n",
       "      <th></th>\n",
       "      <th>title</th>\n",
       "      <th>overview</th>\n",
       "    </tr>\n",
       "  </thead>\n",
       "  <tbody>\n",
       "    <tr>\n",
       "      <th>0</th>\n",
       "      <td>Toy Story</td>\n",
       "      <td>Led by Woody, Andy's toys live happily in his ...</td>\n",
       "    </tr>\n",
       "    <tr>\n",
       "      <th>1</th>\n",
       "      <td>Jumanji</td>\n",
       "      <td>When siblings Judy and Peter discover an encha...</td>\n",
       "    </tr>\n",
       "    <tr>\n",
       "      <th>2</th>\n",
       "      <td>Grumpier Old Men</td>\n",
       "      <td>A family wedding reignites the ancient feud be...</td>\n",
       "    </tr>\n",
       "    <tr>\n",
       "      <th>3</th>\n",
       "      <td>Waiting to Exhale</td>\n",
       "      <td>Cheated on, mistreated and stepped on, the wom...</td>\n",
       "    </tr>\n",
       "    <tr>\n",
       "      <th>4</th>\n",
       "      <td>Father of the Bride Part II</td>\n",
       "      <td>Just when George Banks has recovered from his ...</td>\n",
       "    </tr>\n",
       "  </tbody>\n",
       "</table>\n",
       "</div>"
      ],
      "text/plain": [
       "                         title  \\\n",
       "0                    Toy Story   \n",
       "1                      Jumanji   \n",
       "2             Grumpier Old Men   \n",
       "3            Waiting to Exhale   \n",
       "4  Father of the Bride Part II   \n",
       "\n",
       "                                            overview  \n",
       "0  Led by Woody, Andy's toys live happily in his ...  \n",
       "1  When siblings Judy and Peter discover an encha...  \n",
       "2  A family wedding reignites the ancient feud be...  \n",
       "3  Cheated on, mistreated and stepped on, the wom...  \n",
       "4  Just when George Banks has recovered from his ...  "
      ]
     },
     "execution_count": 6,
     "metadata": {},
     "output_type": "execute_result"
    }
   ],
   "source": [
    "data.head()[[\"title\", \"overview\"]]"
   ]
  },
  {
   "cell_type": "code",
   "execution_count": 18,
   "metadata": {},
   "outputs": [],
   "source": [
    "data = data.head(20000) # 데이터량이 너무 많아서 2만개로만 실습"
   ]
  },
  {
   "cell_type": "code",
   "execution_count": 19,
   "metadata": {},
   "outputs": [
    {
     "data": {
      "text/plain": [
       "TfidfVectorizer(analyzer='word', binary=False, decode_error='strict',\n",
       "        dtype=<class 'numpy.float64'>, encoding='utf-8', input='content',\n",
       "        lowercase=True, max_df=1.0, max_features=None, min_df=1,\n",
       "        ngram_range=(1, 1), norm='l2', preprocessor=None, smooth_idf=True,\n",
       "        stop_words=None, strip_accents=None, sublinear_tf=False,\n",
       "        token_pattern='(?u)\\\\b\\\\w\\\\w+\\\\b', tokenizer=None, use_idf=True,\n",
       "        vocabulary=None)"
      ]
     },
     "execution_count": 19,
     "metadata": {},
     "output_type": "execute_result"
    }
   ],
   "source": [
    "from sklearn.feature_extraction.text import TfidfVectorizer\n",
    "\n",
    "# 단순 코사인 유사도 기반 계산\n",
    "tfidf = TfidfVectorizer()\n",
    "tfidf # stop_words=None"
   ]
  },
  {
   "cell_type": "code",
   "execution_count": 20,
   "metadata": {},
   "outputs": [
    {
     "data": {
      "text/plain": [
       "TfidfVectorizer(analyzer='word', binary=False, decode_error='strict',\n",
       "        dtype=<class 'numpy.float64'>, encoding='utf-8', input='content',\n",
       "        lowercase=True, max_df=1.0, max_features=None, min_df=1,\n",
       "        ngram_range=(1, 1), norm='l2', preprocessor=None, smooth_idf=True,\n",
       "        stop_words='english', strip_accents=None, sublinear_tf=False,\n",
       "        token_pattern='(?u)\\\\b\\\\w\\\\w+\\\\b', tokenizer=None, use_idf=True,\n",
       "        vocabulary=None)"
      ]
     },
     "execution_count": 20,
     "metadata": {},
     "output_type": "execute_result"
    }
   ],
   "source": [
    "tfidf = TfidfVectorizer(stop_words=\"english\")\n",
    "tfidf"
   ]
  },
  {
   "cell_type": "code",
   "execution_count": 21,
   "metadata": {},
   "outputs": [
    {
     "data": {
      "text/plain": [
       "False    20000\n",
       "Name: overview, dtype: int64"
      ]
     },
     "execution_count": 21,
     "metadata": {},
     "output_type": "execute_result"
    }
   ],
   "source": [
    "data[\"overview\"].isnull().value_counts() "
   ]
  },
  {
   "cell_type": "markdown",
   "metadata": {},
   "source": [
    "tfidf 작업 시 NaN이 있으면 error 발생"
   ]
  },
  {
   "cell_type": "code",
   "execution_count": 22,
   "metadata": {},
   "outputs": [
    {
     "data": {
      "text/plain": [
       "False    20000\n",
       "Name: overview, dtype: int64"
      ]
     },
     "execution_count": 22,
     "metadata": {},
     "output_type": "execute_result"
    }
   ],
   "source": [
    "data[\"overview\"] = data[\"overview\"].fillna(\"\") # NaN의 경우 \"\"로 대체\n",
    "data[\"overview\"].isnull().value_counts()"
   ]
  },
  {
   "cell_type": "code",
   "execution_count": 23,
   "metadata": {},
   "outputs": [
    {
     "data": {
      "text/plain": [
       "(20000, 47487)"
      ]
     },
     "execution_count": 23,
     "metadata": {},
     "output_type": "execute_result"
    }
   ],
   "source": [
    "tfidf_mat = tfidf.fit_transform(data[\"overview\"]) # 영화의 줄거리로 tfidf 생성\n",
    "tfidf_mat.shape"
   ]
  },
  {
   "cell_type": "code",
   "execution_count": 24,
   "metadata": {},
   "outputs": [],
   "source": [
    "from sklearn.metrics.pairwise import linear_kernel # 코사인 유사도 함수\n",
    "cos_sim = linear_kernel(tfidf_mat,tfidf_mat)"
   ]
  },
  {
   "cell_type": "code",
   "execution_count": 25,
   "metadata": {},
   "outputs": [
    {
     "data": {
      "text/plain": [
       "<20000x47487 sparse matrix of type '<class 'numpy.float64'>'\n",
       "\twith 535909 stored elements in Compressed Sparse Row format>"
      ]
     },
     "execution_count": 25,
     "metadata": {},
     "output_type": "execute_result"
    }
   ],
   "source": [
    "tfidf_mat"
   ]
  },
  {
   "cell_type": "code",
   "execution_count": 26,
   "metadata": {},
   "outputs": [
    {
     "data": {
      "text/plain": [
       "array([[0., 0., 0., ..., 0., 0., 0.],\n",
       "       [0., 0., 0., ..., 0., 0., 0.],\n",
       "       [0., 0., 0., ..., 0., 0., 0.],\n",
       "       ...,\n",
       "       [0., 0., 0., ..., 0., 0., 0.],\n",
       "       [0., 0., 0., ..., 0., 0., 0.],\n",
       "       [0., 0., 0., ..., 0., 0., 0.]])"
      ]
     },
     "execution_count": 26,
     "metadata": {},
     "output_type": "execute_result"
    }
   ],
   "source": [
    "tfidf_mat.toarray() # array로 확인하기 위해 변환, 각 행은 영화 1개에 대한 값 출력"
   ]
  },
  {
   "cell_type": "code",
   "execution_count": 27,
   "metadata": {},
   "outputs": [
    {
     "data": {
      "text/plain": [
       "array([[1.        , 0.01575748, 0.        , ..., 0.        , 0.        ,\n",
       "        0.        ],\n",
       "       [0.01575748, 1.        , 0.04907345, ..., 0.        , 0.        ,\n",
       "        0.        ],\n",
       "       [0.        , 0.04907345, 1.        , ..., 0.        , 0.        ,\n",
       "        0.        ],\n",
       "       ...,\n",
       "       [0.        , 0.        , 0.        , ..., 1.        , 0.        ,\n",
       "        0.08375766],\n",
       "       [0.        , 0.        , 0.        , ..., 0.        , 1.        ,\n",
       "        0.        ],\n",
       "       [0.        , 0.        , 0.        , ..., 0.08375766, 0.        ,\n",
       "        1.        ]])"
      ]
     },
     "execution_count": 27,
     "metadata": {},
     "output_type": "execute_result"
    }
   ],
   "source": [
    "cos_sim"
   ]
  },
  {
   "cell_type": "code",
   "execution_count": 28,
   "metadata": {},
   "outputs": [
    {
     "data": {
      "text/plain": [
       "(20000, 24)"
      ]
     },
     "execution_count": 28,
     "metadata": {},
     "output_type": "execute_result"
    }
   ],
   "source": [
    "data.shape"
   ]
  },
  {
   "cell_type": "code",
   "execution_count": 29,
   "metadata": {},
   "outputs": [
    {
     "data": {
      "text/plain": [
       "title\n",
       "Toy Story                      0\n",
       "Jumanji                        1\n",
       "Grumpier Old Men               2\n",
       "Waiting to Exhale              3\n",
       "Father of the Bride Part II    4\n",
       "dtype: int64"
      ]
     },
     "execution_count": 29,
     "metadata": {},
     "output_type": "execute_result"
    }
   ],
   "source": [
    "idx = pd.Series(data.index, index=data[\"title\"]).drop_duplicates() # 중복된 영화 제거\n",
    "idx.head()"
   ]
  },
  {
   "cell_type": "code",
   "execution_count": 30,
   "metadata": {},
   "outputs": [
    {
     "name": "stdout",
     "output_type": "stream",
     "text": [
      "12356\n",
      "[0.02696439 0.         0.02085587 ... 0.         0.         0.        ]\n",
      "<class 'numpy.ndarray'>\n"
     ]
    }
   ],
   "source": [
    "print(idx[\"Rambo\"])\n",
    "print(cos_sim[12356]) #rambo 영화에 대한 코사인 유사도 \n",
    "# 0값은 분자에 0이 있다는 의미로 둘 중에 0이 있다는 것으로 유사한 영화로 보기 어려움\n",
    "# 0이 아닌 값은 유사도가 있다는 의미\n",
    "print(type(cos_sim[12356]))"
   ]
  },
  {
   "cell_type": "code",
   "execution_count": 33,
   "metadata": {},
   "outputs": [],
   "source": [
    "# 코사인 유사도를 활용해 유사한 영화 10편 출력\n",
    "def get_recommendations(title, cos_sim=cos_sim): #cos_sim 변수에 들어가는 값은 cos_sim 함수를 쓰겠다는 의미\n",
    "    idx_title = idx[title] #12356=idx['Rambo']\n",
    "    sim_score = list(enumerate(cos_sim[idx_title])) # 열거형으로 변환\n",
    "    sim_score = sorted(sim_score, key=lambda x:x[1], reverse=True) \n",
    "    #튜플에서 유사도 값을 가지고 내림차순 정렬하기 위해 튜플 인덱스 1을 가지고 정렬하겠다는 의미\n",
    "    mi = sim_score[1:11]\n",
    "    res = [i[0] for i in mi]\n",
    "    print(data[\"title\"].iloc[res])"
   ]
  },
  {
   "cell_type": "code",
   "execution_count": 34,
   "metadata": {},
   "outputs": [
    {
     "name": "stdout",
     "output_type": "stream",
     "text": [
      "2290                         First Blood\n",
      "2291                           Rambo III\n",
      "2289          Rambo: First Blood Part II\n",
      "2693                   Universal Soldier\n",
      "3832                          Billy Jack\n",
      "9632     Strawberries in the Supermarket\n",
      "1165                      Apocalypse Now\n",
      "12252              Journey from the Fall\n",
      "16638                     Little Soldier\n",
      "10030                         The Search\n",
      "Name: title, dtype: object\n"
     ]
    }
   ],
   "source": [
    "get_recommendations(\"Rambo\") # 람보와 다른 영화 사이의 코사인 유사도 "
   ]
  },
  {
   "cell_type": "markdown",
   "metadata": {},
   "source": [
    "## POST 방식을 이용한 스크래핑\n",
    "http://www.hanbit.co.kr/"
   ]
  },
  {
   "cell_type": "code",
   "execution_count": 43,
   "metadata": {},
   "outputs": [
    {
     "data": {
      "text/plain": [
       "<Response [200]>"
      ]
     },
     "execution_count": 43,
     "metadata": {},
     "output_type": "execute_result"
    }
   ],
   "source": [
    "import requests\n",
    "\n",
    "login_info = {\"m_id\": \"ID\",\n",
    "              \"m_passwd\": \"비밀번호\"}\n",
    "url_login = \"http://www.hanbit.co.kr/member/login_proc.php\"\n",
    "\n",
    "# POST 방식으로 서버에 연결\n",
    "session = requests.session()\n",
    "res = session.post(url_login, data=login_info)\n",
    "res"
   ]
  },
  {
   "cell_type": "code",
   "execution_count": 55,
   "metadata": {},
   "outputs": [
    {
     "data": {
      "text/plain": [
       "<Response [200]>"
      ]
     },
     "execution_count": 55,
     "metadata": {},
     "output_type": "execute_result"
    }
   ],
   "source": [
    "url_mypage = \"http://www.hanbit.co.kr/myhanbit/myhanbit.html\"\n",
    "res = session.get(url_mypage)\n",
    "res"
   ]
  },
  {
   "cell_type": "code",
   "execution_count": 56,
   "metadata": {},
   "outputs": [
    {
     "data": {
      "text/plain": [
       "'<!DOCTYPE html>\\r\\n<html lang=\"ko\">\\r\\n<head>\\r\\n<!--[if lte IE 8]>\\r\\n<script>\\r\\n  location.replace(\\'/support/explorer_upgrade.html\\');\\r\\n</script>\\r\\n<![endif]-->\\r\\n<!-- Google Tag Manager -->\\r\\n<script>(function(w,d,s,l,i){w[l]=w[l]||[];w[l].push({\\'gtm.start\\':\\r\\nnew Date().getTime(),event:\\'gtm.js\\'});var f=d.getElementsByTagName(s)[0],\\r\\nj=d.createElement(s),dl=l!=\\'dataLayer\\'?\\'&l=\\'+l:\\'\\';j.async=true;j.src=\\r\\n\\'https://www.googletagmanager.com/gtm.js?id=\\'+i+dl;f.parentNode.insertBefore(j,f);\\r\\n})(window,document,\\'script\\',\\'dataLayer\\',\\'GTM-W9D5PM3\\');</script>\\r\\n<!-- End Google Tag Manager -->\\r\\n<meta charset=\"utf-8\"/>\\r\\n<title>한빛출판네트워크</title>\\r\\n<link rel=\"shortcut icon\" href=\"http://www.hanbit.co.kr/images/common/hanbit.ico\"> \\r\\n<meta http-equiv=\"X-UA-Compatible\" content=\"IE=Edge\" />\\r\\n<meta property=\"og:type\" content=\"website\"/>\\r\\n<meta property=\"og:title\" content=\"한빛출판네트워크\"/>\\r\\n<meta property=\"og:description\" content=\"출판사, IT전문서, 대학교재, 경제경영, 어린이/유아, MAKE, 실용/여행, 전자책, 인터넷 강의\"/>\\r\\n<meta property=\"og:image\" content=\"http://www.hanbit.co.kr/images/hanbitpubnet_logo.jpg\" />\\r\\n<meta property=\"og:url\" content=\"http://www.hanbit.co.kr/myhanbit/myhanbit.html\"/>\\r\\n<link rel=\"canonical\" href=\"http://www.hanbit.co.kr/myhanbit/myhanbit.html\" />\\r\\n<meta name=\"keywords\" content=\"책,전자책,ebook,출판사,동영상,콘텐츠,강의,자격증,대학교재\" />\\r\\n<meta name=\"description\" content=\"출판사, IT전문서, 대학교재, 경제경영, 어린이/유아, MAKE, 실용/여행, 전자책, 인터넷 강의\" />\\r\\n<meta name=\"viewport\" content=\"width=device-width,initial-scale=1.0,minimum-scale=1.0,maximum-scale=1.0\">\\r\\n<meta name=\"viewport\" content=\"width=1260\">\\r\\n<meta name=\"apple-mobile-web-app-capable\" content=\"yes\" />\\r\\n<meta name=\"naver-site-verification\" content=\"823ff8b8e7e3eb396c310703c2bbd731f48c1d9b\"/>\\r\\n<link rel=\"stylesheet\" href=\"/css/common.css?20190625102532\" />\\r\\n<link href=\"/css/hover.css\" rel=\"stylesheet\" media=\"all\">\\r\\n<link rel=\"stylesheet\" href=\"/js/jquery.raty.css\" />\\r\\n<script type=\"text/javascript\" src=\"/js/jquery-latest.js\"></script>\\r\\n<script type=\"text/javascript\" src=\"/js/jquery-ui.js\"></script>\\r\\n<script type=\"text/javascript\" src=\"/js/jquery.event.drag-1.5.min.js\"></script>\\r\\n<script type=\"text/javascript\" src=\"/js/jquery.touchSlider.js\"></script>\\r\\n<script type=\"text/javascript\" src=\"/js/jquery.raty.js\"></script>\\r\\n<script type=\"text/javascript\" src=\"/js/main.js\"></script>\\r\\n<script type=\"text/javascript\" src=\"/lib/cheditor/cheditor.js\"></script>\\r\\n<script type=\"text/javascript\" src=\"/js/jquery.ui.datepicker-ko.js\"></script>\\r\\n<script type=\"text/javascript\" src=\"/js/engine.js\"></script>\\r\\n\\r\\n<!-- Google Analytics -->\\r\\n<script>\\r\\n(function(i,s,o,g,r,a,m){i[\\'GoogleAnalyticsObject\\']=r;i[r]=i[r]||function(){\\r\\n(i[r].q=i[r].q||[]).push(arguments)},i[r].l=1*new Date();a=s.createElement(o),\\r\\nm=s.getElementsByTagName(o)[0];a.async=1;a.src=g;m.parentNode.insertBefore(a,m)\\r\\n})(window,document,\\'script\\',\\'//www.google-analytics.com/analytics.js\\',\\'ga\\');\\r\\nga(\\'create\\', \\'UA-47080738-1\\', \\'hanbit.co.kr\\');\\r\\nga(\\'require\\', \\'linkid\\', \\'linkid.js\\');\\r\\nga(\\'send\\', \\'pageview\\');\\r\\n</script>\\r\\n<!-- Google Analytics -->\\r\\n\\r\\n<!-- Facebook Pixel Code -->\\r\\n<script>\\r\\n!function(f,b,e,v,n,t,s)\\r\\n{if(f.fbq)return;n=f.fbq=function(){n.callMethod?\\r\\nn.callMethod.apply(n,arguments):n.queue.push(arguments)};\\r\\nif(!f._fbq)f._fbq=n;n.push=n;n.loaded=!0;n.version=\\'2.0\\';\\r\\nn.queue=[];t=b.createElement(e);t.async=!0;\\r\\nt.src=v;s=b.getElementsByTagName(e)[0];\\r\\ns.parentNode.insertBefore(t,s)}(window,document,\\'script\\',\\r\\n\\'https://connect.facebook.net/en_US/fbevents.js\\');\\r\\n fbq(\\'init\\', \\'1816595558587562\\'); \\r\\nfbq(\\'track\\', \\'PageView\\');\\r\\n</script>\\r\\n<noscript>\\r\\n <img height=\"1\" width=\"1\" \\r\\nsrc=\"https://www.facebook.com/tr?id=1816595558587562&ev=PageView\\r\\n&noscript=1\"/>\\r\\n</noscript>\\r\\n<!-- End Facebook Pixel Code -->\\r\\n\\r\\n<!-- Kakao Pixel Code -->\\r\\n<script type=\"text/javascript\" charset=\"UTF-8\" src=\"//t1.daumcdn.net/adfit/static/kp.js\"></script>\\r\\n<script type=\"text/javascript\">\\r\\n  kakaoPixel(\\'3011392806152551233\\').pageView();\\r\\n</script>\\r\\n<!-- //Kakao Pixel Code -->\\r\\n</head>\\r\\n<body>\\r\\n<!-- Google Tag Manager (noscript) -->\\r\\n<noscript><iframe src=\"https://www.googletagmanager.com/ns.html?id=GTM-W9D5PM3\"\\r\\nheight=\"0\" width=\"0\" style=\"display:none;visibility:hidden\"></iframe></noscript>\\r\\n<!-- End Google Tag Manager (noscript) --><link rel=\"stylesheet\" href=\"/css/layout-hanbit.css?20190503141254\" />\\r\\n<link rel=\"stylesheet\" href=\"/css/layout-member.css\" />\\r\\n<link rel=\"stylesheet\" href=\"/css/layout-network.css\" />\\r\\n<link rel=\"stylesheet\" href=\"/css/layout-store.css\" />\\r\\n<link rel=\"stylesheet\" href=\"/css/layout-myhanbit.css?201906191642\" />\\r\\n<link rel=\"stylesheet\" href=\"/css/layout-event.css\" />\\r\\n<!-- 메뉴 바로가기 -->\\r\\n<div id=\"quick_skip_menu\">\\r\\n  <a href=\"#gnb\" onclick=\"document.getElementById(\\'gnb\\').tabIndex = -1;document.getElementById(\\'gnb\\').focus();return false;\"><span>메뉴 바로가기</span></a>\\r\\n  <a href=\"#top_search\" onclick=\"view_hover(\\'main_search_area\\',\\'\\',\\'show\\'), document.getElementById(\\'top_search\\').tabIndex = -1;document.getElementById(\\'top_search\\').focus();return false;\"><span>검색 및 카테고리 바로가기</span></a>\\r\\n    <a href=\"#container\" onclick=\"document.getElementById(\\'container\\').tabIndex = -1;document.getElementById(\\'container\\').focus();return false;\"><span>본문 바로가기</span></a>\\r\\n  </div>\\r\\n<!-- //메뉴 바로가기 -->\\r\\n\\r\\n<!-- header -->\\r\\n<header>\\r\\n  <!-- top menu -->\\r\\n  \\t<nav>\\r\\n\\t\\t<div id=\"wrap_nav\">\\r\\n\\t\\t\\t<ul class=\"top_brand\">\\r\\n\\t\\t\\t\\t<li><a href=\"http://www.hanbit.co.kr/index.html\" name=\"hanbit_network\"><span>HOME</span></a></li>\\r\\n\\t\\t\\t\\t<li><a href=\"http://www.hanbit.co.kr/media/\">한빛미디어</a></li>\\r\\n\\t\\t\\t\\t<li><a href=\"http://www.hanbit.co.kr/academy/\">한빛아카데미</a></li>\\r\\n\\t\\t\\t\\t<li><a href=\"http://www.hanbit.co.kr/biz/\">한빛비즈</a></li>\\r\\n\\t\\t\\t\\t<li><a href=\"http://www.hanbit.co.kr/life/\">한빛라이프</a></li>\\r\\n\\t\\t\\t\\t<li><a href=\"http://www.hanbit.co.kr/edu/\">한빛에듀</a></li>\\r\\n\\t\\t\\t\\t<li><a href=\"http://www.hanbit.co.kr/realtime/\">리얼타임</a></li>\\r\\n\\t\\t\\t\\t<li><a href=\"http://www.hanbit.co.kr/textbook/\" target=\"_blank\">한빛정보교과서</a></li>\\r\\n        <li><a href=\"http://www.hanbit.co.kr/rent/\" target=\"_blank\">한빛대관서비스</a></li>\\r\\n\\t\\t\\t</ul>\\r\\n\\t\\t\\t\\r\\n\\t\\t\\t<ul class=\"top_menu\">\\r\\n                        \\t<li><a href=\"http://www.hanbit.co.kr/member/logout.html\" class=\"logout\">로그아웃</a></li>\\r\\n                <li><a href=\"http://www.hanbit.co.kr/member/member_register.html\" class=\"edit\">개인정보수정</a></li>\\r\\n\\t\\t\\t\\t<li><a href=\"http://www.hanbit.co.kr/myhanbit/myhanbit.html\" class=\"myhanbit\">마이한빛</a></li>\\r\\n\\t\\t\\t\\t<li><a href=\"http://www.hanbit.co.kr/myhanbit/cart.html\" class=\"cart\">장바구니</a></li>\\r\\n            \\t\\t\\t\\t<!-- <li class=\"top_menu_store\"><a href=\"http://www.hanbit.co.kr/store/store_submain.html\">STORE</a></li> -->\\r\\n\\t\\t\\t</ul>\\r\\n\\t\\t</div>\\r\\n\\t</nav>  <!-- //top menu -->\\r\\n\\r\\n  <div id=\"wrap_gnb\">\\r\\n    <!-- logo -->\\r\\n    <h1><a href=\"http://www.hanbit.co.kr/index.html\">한빛출판네트워크</a></h1>\\r\\n    <!-- //logo -->\\r\\n\\r\\n    <!-- Menu -->\\r\\n    <div id=\"gnb\" name=\"gnb\">\\r\\n      <ul>\\r\\n        <li><a href=\"http://www.hanbit.co.kr/brand/brand_submain.html\" class=\"\">BRAND</a></li>\\r\\n        <li><a href=\"http://www.hanbit.co.kr/channel/channel_submain.html\" class=\"\">Channel.H</a></li>\\r\\n        <li><a href=\"http://www.hanbit.co.kr/store/store_submain.html\" class=\"\">STORE</a></li>\\r\\n        <li><a href=\"http://www.hanbit.co.kr/support/help_info.html\" class=\"\">SUPPORT</a></li>\\r\\n        <li><a href=\"http://www.hanbit.co.kr/event/current/current_event_list.html\" class=\"\">EVENT</a></li>\\r\\n        \\r\\n        <li id=\"top_search\" class=\"search\"><a href=\"javascript:;\" onClick=\"view_hover(\\'main_search_area\\',\\'\\',\\'show\\'); $(\\'#keyword_str\\').focus();\"><span>SERACH</span></a></li>\\r\\n      </ul>\\r\\n    </div>\\r\\n    <!-- //Menu -->\\r\\n    \\r\\n    <!-- lnb -->\\r\\n    <div class=\"lnb\" style=\"top:92px;\">\\r\\n      <div class=\"lnb_area\">\\r\\n      <!-- BRAND -->\\r\\n             <!--2015-10-07 비회원 장바구니 기능 추가되면서 회원 로그인시에만 보여짐 by 이용희-->\\r\\n      <ul class=\"lnb_depth1_my1\">\\r\\n        <li><a href=\"http://www.hanbit.co.kr/myhanbit/membership.html\" class=\"\">한빛멤버십</a></li><span>l</span>\\r\\n        <li><a href=\"http://www.hanbit.co.kr/myhanbit/mileage_ecoin.html\" class=\"\">마일리지 / 한빛이코인</a></li>\\r\\n      </ul>\\r\\n      <ul class=\"lnb_depth1_my2\">\\r\\n        <li><a href=\"http://www.hanbit.co.kr/myhanbit/wishlist.html\" class=\"\">위시리스트</a></li><span>l</span>\\r\\n        <li><a href=\"http://www.hanbit.co.kr/myhanbit/cart.html\" class=\"\">장바구니</a></li><span>l</span>\\r\\n        <li><a href=\"http://www.hanbit.co.kr/myhanbit/order_history_list.html\" class=\"\">구매이력 (주문조회)</a></li><span>l</span>\\r\\n        <li><a href=\"http://www.hanbit.co.kr/myhanbit/coupon.html\" class=\"\">My 쿠폰</a></li>\\r\\n      </ul>\\r\\n      <ul class=\"lnb_depth1_my3\">\\r\\n        <li><a href=\"http://www.hanbit.co.kr/myhanbit/purchase_books.html\" class=\"\">My Book</a></li>\\r\\n        <span>l</span>\\r\\n        <li><a href=\"http://www.hanbit.co.kr/myhanbit/my_ebook_list.html\" class=\"\">My eBook</a></li>\\r\\n        <span>l</span>\\r\\n        <li><a href=\"http://www.hanbit.co.kr/myhanbit/my_class_list.html\" class=\"\">My 강의</a></li>\\r\\n        \\r\\n                \\r\\n      </ul>\\r\\n                  </div>\\r\\n    </div>\\r\\n    <!--// lnb -->\\r\\n  </div>\\r\\n</header>\\r\\n<!-- //header -->\\r\\n\\r\\n<!-- 메인 검색 및 카테고리 영역 -->\\r\\n<div id=\"main_search_area\" class=\"fixed\" style=\"display:none;\">\\r\\n\\t<div class=\"msa_wrap\">\\r\\n\\t\\t<div class=\"msa_wrap_btn\"><a href=\"javascript:;\" onClick=\"view_hover(\\'main_search_area\\',\\'\\',\\'hide\\')\">닫기</a></div>\\r\\n\\t\\t\\r\\n\\t\\t<!-- [S]카테고리 -->\\r\\n\\t\\t<div class=\"msa_wrap_l\">\\t\\t\\t\\t\\t\\t\\t\\t\\r\\n\\t\\t\\t<!-- 카테고리 노출 -->\\r\\n\\t\\t\\t<p class=\"tit\">카테고리</p>\\t\\t\\t\\t\\t\\t\\t\\t\\r\\n\\t\\t\\t<ul class=\"cate_1depth\" id=\"cate1_depth\"></ul>\\t\\t\\t\\t\\t\\t\\t\\r\\n\\t\\t\\t<ul class=\"cate_3depth\" id=\"cate2_depth\"></ul>\\t\\t\\t\\t\\t\\t\\t\\t\\t\\t\\t\\t\\r\\n\\t\\t</div>\\r\\n\\t\\t<!-- [E]//카테고리 -->\\r\\n\\r\\n\\r\\n\\t\\t<!-- [S]검색 -->\\r\\n\\t\\t<div class=\"msa_wrap_r\">\\r\\n\\t\\t\\t<p class=\"txt\">제목, 저자, ISBN으로 검색이 가능합니다.</p>\\r\\n\\t\\t\\t<!-- 검색창 -->\\r\\n\\t\\t\\t<form name=\"gnbsearchfrm\" id=\"gnbsearchfrm\" method=\"get\" onload=\"form.keyword_str.focus;\">\\r\\n\\t\\t\\t\\r\\n\\t\\t\\t\\t\\t\\t\\t<!-- 선택 카테고리 결과값 -->\\t\\t\\t\\t\\t\\t\\r\\n\\t\\t\\t\\t<div class=\"msa_wrap_r_srch\">\\r\\n\\t\\t\\t\\t\\t<fieldset>\\r\\n\\t\\t\\t\\t\\t\\t<legend>검색영역</legend>\\r\\n\\t\\t\\t\\t\\t\\t<input title=\"검색어\" class=\"srch_keyword\" accesskey=\"s\" type=\"text\" name=\"keyword_str\" id=\"keyword_str\">\\t\\t\\t\\t\\t\\r\\n\\t\\t\\t\\t\\t\\t<input type=\"submit\" alt=\"\" class=\"srch_btn\" onclick=\"sch_smit();\" style=\"cursor:pointer;\">\\r\\n\\t\\t\\t\\t\\t</fieldset>\\r\\n\\t\\t\\t\\t</div>\\t\\t\\t\\t\\r\\n\\t\\t\\t</form>\\t\\t\\t\\r\\n\\t\\t\\t<!-- //검색창 -->\\r\\n\\t\\t\\t\\r\\n\\t\\t</div>\\r\\n\\t\\t<!-- [E]//검색 -->\\r\\n\\t\\t\\r\\n\\t</div>\\r\\n</div>\\r\\n\\r\\n<style>\\r\\n\\t.normal_css{ font-weight:normal;}\\r\\n\\t.bold_css{  font-weight:bold;}\\r\\n</style>\\r\\n\\r\\n\\r\\n<script type=\"text/javascript\">\\t\\r\\n\\t//[뎁스1] 브랜드 리스트\\r\\n\\t$(document).ready(function() { \\t\\t\\t\\t\\r\\n\\t\\tdepth_list(\"cate1\");\\t\\t\\t\\t\\r\\n\\t});\\t\\r\\n\\t\\r\\n\\t// 카테고리 리스트\\t\\r\\n\\tfunction depth_list(str , cate_cd){\\t\\t\\t\\t\\t\\r\\n\\t\\tvar cate_str;\\t\\t\\t\\r\\n\\t\\t\\t\\t\\t\\t\\r\\n\\t\\tif(str==\"cate1\")cate_str = \"cate2\";\\r\\n\\t\\telse cate_str = \"choice\";\\t\\r\\n\\r\\n\\t\\t\\t\\t\\r\\n\\t\\t//카테고리1 선택\\t\\t\\t\\r\\n\\t\\tif(str == \"cate2\"){\\t\\t\\t\\t\\t\\t\\t\\t\\t\\t\\r\\n\\t\\t\\t$(\"li[name=\\'cate1\\']\").removeClass(\"bold_css\");\\t\\t\\t\\t\\t\\t\\t\\r\\n\\t\\t\\t$( \"#\"+cate_cd ).addClass(\"bold_css\");\\t\\t\\t\\t\\t\\t\\t\\t\\t\\t\\t\\t\\r\\n\\t\\t\\t$(\"#sch_cate1\").val(cate_cd); \\r\\n\\t\\t\\t$(\"#sch_cate2\").val(\"\");\\t\\t\\t\\t\\r\\n\\t\\t}\\t\\t\\t\\t\\r\\n\\t\\t\\r\\n\\t\\t//카테고리2 선택\\t\\t\\t\\r\\n\\t\\tif(str == \"choice\"){ \\t\\t\\t\\t\\t\\r\\n\\t\\t\\t$(\"li[name=\\'cate2\\']\").removeClass(\"bold_css\");\\t\\t\\t\\t\\t\\t\\t\\r\\n\\t\\t\\t$( \"#\"+cate_cd ).addClass(\"bold_css\");\\t\\t\\t\\t\\t\\t\\r\\n\\t\\t\\t$(\"#sch_cate2\").val(cate_cd); \\t\\t\\t\\t\\t\\t\\r\\n\\t\\t}\\t\\r\\n\\t\\r\\n\\t\\t\\t\\t\\t\\t\\r\\n\\t\\t//카테고리선택 >> 하위카테고리 데이터 정보\\t\\t\\t\\r\\n\\t\\tvar depth_html = \"\"; \\t\\t\\t\\t\\t\\t\\t\\t\\t\\t\\t\\t\\t\\t\\t\\t\\t\\t\\t\\t\\t\\t\\t\\t\\r\\n\\t\\t$.ajax({\\r\\n\\t\\t\\ttype:\"post\",\\r\\n\\t\\t\\turl: \"/inc/common_top_search_ajax.php\",\\r\\n\\t\\t\\tdata: { depth_attr : str,cate_cd : cate_cd},\\r\\n\\t\\t\\tdataType : \"json\",\\t\\t\\t\\t\\t\\t\\t\\t\\r\\n\\t\\t\\tsuccess: function(response){\\t\\t\\t\\t\\t\\t\\t\\t\\t\\r\\n\\t\\t\\t\\r\\n\\t\\t\\t\\tresponse = JSON.stringify(response);\\t\\t\\t\\t\\t\\t\\t\\t\\t\\t\\t\\t\\t\\t \\r\\n\\t\\t\\t\\t$.each($.parseJSON(response), function(idx, obj) {\\t\\t\\t\\t\\t\\r\\n\\t\\t\\t\\t\\tdepth_html\\t+= \\'<li id=\"\\'+obj.cate_cd+\\'\" name=\"\\'+str+\\'\" onMouseOver=\"javascript:depth_list(\\\\\\'\\'+cate_str+\\'\\\\\\', \\\\\\'\\'+obj.cate_cd+\\'\\\\\\',\\\\\\'\\\\\\');\"><a href=\"/store/books/category_list.html?cate_cd=\\'+obj.cate_cd+\\'\">\\'+obj.cate_nm+\\'</a></li>\\';\\t\\t\\t\\t\\t\\t\\t\\t\\t\\t\\t\\t\\t\\t\\t\\t\\t\\t\\t\\t\\t\\r\\n\\t\\t\\t\\t});\\t\\t\\t\\t\\t\\t\\t\\t\\t\\t\\t\\t\\t\\t\\t\\t\\t\\t\\t\\t\\r\\n\\t\\t\\t\\t$(\"#\"+str+\"_depth\").html(\"\");\\t\\t\\t\\t\\t\\t\\r\\n\\t\\t\\t\\t$(\"#\"+str+\"_depth\").html(depth_html);\\t\\t\\t\\t\\r\\n\\t\\t\\t}\\t \\t\\t\\t\\r\\n\\t\\t});\\t\\t\\t\\t\\t\\t\\t\\t\\t\\t\\t\\t\\t\\t\\t\\r\\n\\t}\\r\\n\\t\\r\\n\\t// 검색 리스트\\t\\r\\n\\tfunction sch_smit(){\\t\\t\\t\\t\\t\\t\\r\\n\\t\\r\\n\\t\\tif(!$.trim($(\"#keyword_str\").val()).length) {\\r\\n\\t\\t\\talert(\"검색어를 입력해주세요\");\\r\\n\\t\\t\\t$(\"#keyword_str\").focus();\\r\\n\\t\\t\\treturn false;\\r\\n\\t\\t}else{\\r\\n\\t\\t\\t$(\"#gnbsearchfrm\").attr(\"action\",\"/search/search_list.html\");\\r\\n\\t\\t\\t$(\"#gnbsearchfrm\").submit(); \\r\\n\\t\\t}\\t\\t\\t\\t\\t\\t\\t\\t\\t\\t\\t\\t\\t\\t\\t\\t\\t\\t\\t\\t\\t\\t\\t\\r\\n\\t}\\t\\t\\t\\t\\t\\t\\t\\t\\r\\n\\r\\n</script>\\r\\n<!-- //메인 검색 및 카테고리 영역 -->\\r\\n\\r\\n\\r\\n<!-- Contents -->\\r\\n<div id=\"container\">\\r\\n\\r\\n\\t<div class=\"myhanbit_wrap\">\\r\\n\\t\\t<!-- 회원등급 -->\\r\\n\\t\\t<div class=\"sm_myinfo\">\\r\\n\\t\\t\\t<div class=\"my_rating\">\\r\\n\\t\\t\\t\\t<div class=\"icon\">\\r\\n\\t\\t\\t\\t\\t\\t\\t\\t\\t\\t\\r\\n\\t\\t\\t\\t\\t<img src=\"http://www.hanbit.co.kr/images/myhanbit/rating_icon1.png\" alt=\"\" />\\t\\r\\n\\t\\t\\t\\t</div>\\r\\n\\t\\t\\t\\t<p>(김선영)님의<br />회원 등급은 <span>일반</span> 입니다.</p>\\t\\t\\t\\t\\r\\n\\t\\t\\t</div>\\r\\n\\t\\t</div>\\r\\n\\t\\t<!-- //회원등급 -->\\r\\n\\t\\t\\r\\n\\t\\t<!-- 마일리지/이코인 -->\\r\\n\\t\\t<div class=\"sm_mymileage\">\\r\\n\\t\\t\\t<dl class=\"mileage_section1\">\\r\\n\\t\\t\\t\\t<dt>마일리지</dt>\\r\\n\\t\\t\\t\\t<dd><span>2,000</span> 점</dd>\\r\\n\\t\\t\\t</dl>\\r\\n\\t\\t\\t<dl class=\"mileage_section2\">\\r\\n\\t\\t\\t\\t<dt>한빛이코인</dt>\\r\\n\\t\\t\\t\\t<dd><span>0</span> 원</dd>\\r\\n\\t\\t\\t</dl>\\r\\n\\t\\t</div>\\r\\n\\t\\t<!-- //마일리지/이코인 -->\\r\\n\\t\\t\\r\\n\\t\\t<!-- 최근 구매이력 -->\\r\\n\\t\\t<div class=\"sm_myorder\">\\r\\n\\t\\t\\t<p class=\"tit\">최근 구매이력</p>\\r\\n\\t\\t\\t<table class=\"tbl_type_list\" border=\"0\" cellspacing=\"0\" summary=\"최근 3개월 활동 내역 테이블\">\\r\\n\\t\\t\\t\\t<caption>최근 3개월 활동 내역</caption>\\r\\n\\t\\t\\t\\t<colgroup>\\r\\n\\t\\t\\t\\t<col width=\"110px\">\\r\\n\\t\\t\\t\\t<col width=\"\">\\r\\n\\t\\t\\t\\t<col width=\"120px\">\\r\\n\\t\\t\\t\\t</colgroup>\\r\\n\\t\\t\\t\\t<thead>\\r\\n\\t\\t\\t\\t\\t<tr>\\r\\n\\t\\t\\t\\t\\t\\t<th scope=\"col\">주문일자</th>\\r\\n\\t\\t\\t\\t\\t\\t<th scope=\"col\">상품명</th>\\r\\n\\t\\t\\t\\t\\t\\t<th class=\"last\" scope=\"col\">주문금액</th>\\r\\n\\t\\t\\t\\t\\t</tr>\\r\\n\\t\\t\\t\\t</thead>\\r\\n\\t\\t\\t\\t<tbody>\\r\\n\\t\\t\\t\\t\\t\\t\\t\\t\\t\\t\\t\\t\\t\\t\\t\\r\\n\\t\\t\\t\\t</tbody>\\r\\n\\t\\t\\t</table>\\r\\n\\t\\t</div>\\r\\n\\t\\t<!-- //최근 구매이력 -->\\r\\n\\t\\t\\r\\n\\t\\t<!-- My Book -->\\r\\n\\t\\t<div class=\"submain_mypagae_foot smf_l\">\\r\\n\\t\\t\\t<p class=\"sm_tit\">My Book</p>\\t\\t\\t\\t\\t\\t\\r\\n\\t\\t\\t\\t\\t\\t\\r\\n\\t\\t\\t\\t<div class=\"smf_nodata\">리스트가 없습니다.</div>\\r\\n\\t\\t\\t\\t\\r\\n\\t\\t</div>\\r\\n\\t\\t<!-- //My Book -->\\r\\n\\t\\t\\r\\n\\t\\t<!-- My eBook -->\\r\\n\\t\\t<div class=\"submain_mypagae_foot smf_c\">\\r\\n\\t\\t\\t<p class=\"sm_tit\">My eBook</p>\\t\\t\\t\\r\\n\\t\\t\\t\\t\\t\\t\\r\\n\\t\\t\\t\\t<div class=\"smf_nodata\">리스트가 없습니다.</div>\\r\\n\\t\\t\\t\\t\\t</div>\\r\\n\\t\\t<!-- //My eBook -->\\r\\n\\t\\t\\r\\n\\t\\t<!-- My 강의 -->\\r\\n\\t\\t<div class=\"submain_mypagae_foot smf_r\">\\r\\n\\t\\t\\t<p class=\"sm_tit\">My 강의</p>\\r\\n\\t\\t\\t\\t\\t\\t\\r\\n\\t\\t\\t\\t<div class=\"smf_nodata\">리스트가 없습니다.</div>\\r\\n\\t\\t\\t\\t\\t\\t\\t\\r\\n\\t\\t</div>\\t\\t\\r\\n\\t\\t<!-- //My 강의 -->\\r\\n\\t</div>\\r\\n\\t\\r\\n</div>\\r\\n<!-- //Contents -->\\r\\n\\r\\n\\r\\n<!-- Footer -->\\r\\n<footer>\\r\\n  <!-- 공지사항 -->\\r\\n  <div class=\"foot_notice\">\\r\\n      </div>\\r\\n  <!-- //공지사항 -->\\r\\n  \\r\\n  <div class=\"foot_contents\">\\r\\n    <!-- 하단 메뉴 -->\\r\\n    <div class=\"foot_menu\">\\r\\n      <!-- added by coffin -->\\r\\n            <ul>\\r\\n        <li><a href=\"http://www.hanbit.co.kr/publisher/index.html\" target=\"_blank\">회사소개</a>(<a href=\"http://www.hanbit.co.kr/publisher/index.html\" target=\"_blank\">KOR</a> | <a href=\"http://www.hanbit.co.kr/publisher/index.html?lang=e\" target=\"_blank\">ENG</a>) &#149; <a href=\"http://www.hanbit.co.kr/publisher/contact.html?lang=k\" target=\"_blank\">약도</a></li>\\r\\n        <li><a href=\"http://www.hanbit.co.kr/publisher/write.html\" target=\"_blank\">기획 및 원고 모집</a></li>\\r\\n        <li><a href=\"http://www.hanbit.co.kr/member/use_agreement.html\">이용약관</a></li>\\r\\n        <li><a href=\"http://www.hanbit.co.kr/member/privacy_policy.html\"><strong>개인정보취급방침</strong></a></li>\\r\\n        <li><a href=\"http://www.hanbit.co.kr/sitemap/sitemap.html\">사이트맵</a></li>\\r\\n      </ul>\\r\\n          </div>\\r\\n    <!-- //하단 메뉴 -->\\r\\n\\r\\n    <!-- SNS -->\\r\\n    <div class=\"foot_sns\">\\r\\n            \\r\\n      <ul>\\r\\n        <li class=\"foot_facebook\"><a href=\"https://www.facebook.com/hanbitmedia\" target=\"_blank\"><span>페이스북</span></a></li>\\r\\n        <!-- <li class=\"foot_googleplus\"><a href=\"https://plus.google.com/u/0/+HanbitCoKr/posts\" target=\"_blank\"><span>구글플러스</span></a></li> -->\\r\\n        <li class=\"foot_twitter\"><a href=\"https://twitter.com/hanbit\" target=\"_blank\"><span>트위터</span></a></li>\\r\\n        <li class=\"foot_youtube\"><a href=\"https://www.youtube.com/user/HanbitMedia93\" target=\"_blank\"><span>유튜브</span></a></li>\\r\\n        <li class=\"foot_bolg\"><a href=\"http://blog.hanbit.co.kr/\" target=\"_blank\"><span>블로그</span></a></li>\\r\\n        <li class=\"foot_naverpost\"><a href=\"https://m.post.naver.com/hanbitstory\" target=\"_blank\"><span>네이버포스트</span></a></li>\\r\\n      </ul>\\r\\n      \\r\\n      \\r\\n        <fieldset class=\"foot_srch\">\\r\\n          <legend>하단 검색영역</legend>\\r\\n          <input title=\"검색어\" class=\"foot_srch_keyword\" accesskey=\"s\" type=\"text\" value=\"\"  id=\"foot_keyword_str\" style=\"font-size:16px;\">\\r\\n          <input type=\"button\" alt=\"\" class=\"foot_srch_btn\" onclick=\"foot_sch_smit();\" style=\"cursor: pointer;\">\\r\\n        </fieldset>\\r\\n\\r\\n      \\r\\n      <script>\\r\\n        // 검색 리스트  \\r\\n        $(document).ready(function() {       \\r\\n          $(\\'#foot_keyword_str\\').keyup(function(e) {\\r\\n            if (e.keyCode == 13) \\r\\n              foot_sch_smit();\\r\\n          });        \\r\\n        });\\r\\n\\r\\n        function foot_sch_smit(){            \\r\\n          var foot_keyword_str = $(\"#foot_keyword_str\").val();      \\r\\n          var searchUrl = \"/search/search_list.html?foot_keyword_str=\"+foot_keyword_str;\\r\\n\\r\\n          if(!foot_keyword_str){\\r\\n            alert(\"검색어를 입력해주세요\");\\r\\n            $(\"#foot_keyword_str\").focus();\\r\\n          }else{\\r\\n            location.href = searchUrl;\\r\\n          }\\r\\n        }\\r\\n      </script>  \\r\\n      \\r\\n    </div>\\r\\n    <!-- //SNS -->\\r\\n    \\r\\n    <!-- 한빛 정보 -->\\r\\n    <div class=\"foot_about\">\\r\\n      <div class=\"foot_about_area\">\\r\\n        \\r\\n\\r\\n        <p><strong>한빛미디어㈜ &#149; 한빛아카데미㈜ &#149; 한빛비즈㈜</strong></p>\\r\\n        <p>(03785) 서울 서대문구 연희로2길 62</p>\\r\\n        <p>TEL : 02-325-0384 / FAX : 02-325-9697</p>\\r\\n        <p>EMAIL : support@hanbit.co.kr</p>\\r\\n        <p>대표이사 : 김태헌</p>\\r\\n        <p>사업자등록번호 : 220-81-05665 <a href=\"http://www.ftc.go.kr/bizCommPop.do?wrkr_no=2208105665\" target=\"_blank\">[확인]</a></p>\\r\\n        <p>통신판매업신고 : 2017-서울서대문-0671호</p>\\r\\n        <p>호스팅제공자 : (주)누리호스팅</p>\\r\\n        \\r\\n\\r\\n      </div>\\r\\n    </div>\\r\\n    <!-- //한빛 정보 -->\\r\\n  </div>\\r\\n  \\r\\n  <div class=\"copyright\">&copy;1993-2019 Hanbit Publishing Network, Inc. All rights reserved.</div>\\r\\n</footer>\\r\\n<!-- //푸터 -->\\r\\n<div class=\"foot_download_btn\"><a href=\"/support/supplement_list.html\">자료실</a></div>\\r\\n\\r\\n<!-- 공통 JS 호출 -->\\r\\n<script type=\"text/javascript\" src=\"/js/common.js\"></script>\\r\\n<!-- //공통 JS 호출 -->\\r\\n\\r\\n</body>\\r\\n</html>\\r\\n'"
      ]
     },
     "execution_count": 56,
     "metadata": {},
     "output_type": "execute_result"
    }
   ],
   "source": [
    "res.text"
   ]
  },
  {
   "cell_type": "code",
   "execution_count": 63,
   "metadata": {},
   "outputs": [
    {
     "data": {
      "text/plain": [
       "'2,000'"
      ]
     },
     "execution_count": 63,
     "metadata": {},
     "output_type": "execute_result"
    }
   ],
   "source": [
    "from bs4 import BeautifulSoup\n",
    "soup = BeautifulSoup(res.text, \"html.parser\")\n",
    "# #container > div > div.sm_mymileage > dl.mileage_section1 > dd > span\n",
    "soup.select_one(\".mileage_section1 span\").get_text()"
   ]
  },
  {
   "cell_type": "code",
   "execution_count": 61,
   "metadata": {},
   "outputs": [
    {
     "data": {
      "text/plain": [
       "'0 원'"
      ]
     },
     "execution_count": 61,
     "metadata": {},
     "output_type": "execute_result"
    }
   ],
   "source": [
    "# #container > div > div.sm_mymileage > dl.mileage_section2 > dd\n",
    "soup.select_one(\"#container > div > div.sm_mymileage > dl.mileage_section2 > dd\").get_text()"
   ]
  }
 ],
 "metadata": {
  "kernelspec": {
   "display_name": "Python 3",
   "language": "python",
   "name": "python3"
  },
  "language_info": {
   "codemirror_mode": {
    "name": "ipython",
    "version": 3
   },
   "file_extension": ".py",
   "mimetype": "text/x-python",
   "name": "python",
   "nbconvert_exporter": "python",
   "pygments_lexer": "ipython3",
   "version": "3.7.3"
  }
 },
 "nbformat": 4,
 "nbformat_minor": 2
}
