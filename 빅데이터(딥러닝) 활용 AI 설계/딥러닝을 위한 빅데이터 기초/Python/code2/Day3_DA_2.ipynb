{
 "cells": [
  {
   "cell_type": "code",
   "execution_count": 1,
   "metadata": {},
   "outputs": [],
   "source": [
    "import numpy as np\n",
    "import pandas as pd"
   ]
  },
  {
   "cell_type": "markdown",
   "metadata": {},
   "source": [
    "중심 경향치 : 중심에 얼마나 몰려있는가 \n",
    "1. 평균\n",
    "2. 중앙값<br>극단치에 의해 평균이 왜곡이 될 수 있으므로 보완재로 사용됨. 데이터를 정렬했을 때 중앙에 위치한 값\n",
    "3. 최빈수<br>가장 많이 빈빈하게 나타난 값<br><br>\n",
    "\n",
    "### 정규분포\n",
    "평균을 기준으로 좌우대칭인 종모양의 그래프<br>\n",
    "→ 척도(평균, 평균으로부터 떨어진 정도)가 다르면 비교가 쉽지않다<br>\n",
    " 몸무게와 키 비교 키가 180이고 몸무게가 83인데 비슷한 위치인가?<br><br>\n",
    "\n",
    "\n",
    "### 선형 변환\n",
    "원래의 데이터에 변환(+, -, *, /, ...)등의 연산을 하는 것 → **데이터의 분포는 변하지 않는다**<br><br>\n",
    "\n",
    "### 표준 정규 분표\n",
    "정규분포 → 선형 변환을 통해 정규화(표준화) <br>표준이 0이고 표준편차가 1인 정규분포<br>\n",
    "\n",
    "$$z(Z-Score) = {x - x_{평균} \\over S_{x}(표준편차)}$$\n",
    "* x - x<sub>평균</sub> : 평균으로부터 얼마나 떨어져있는가<br>\n",
    "* /S<sub>x</sub> : 표준편차의 몇 배 인지<br>\n",
    "* **평균에서 표준편차의 몇 배정도 떨어져있는가**\n",
    "\n",
    "<img src=\"./asset/4.jpg\" width=\"80%\" height=\"80%\">"
   ]
  },
  {
   "cell_type": "markdown",
   "metadata": {},
   "source": [
    "표준화\n",
    "분석 작업을 하는 과정에서 변수들간의 척도(scale)가 달라도 상호 비교를 위해 하는 작업\n",
    "척도가 다르면 외곡이 생기게 된다\n",
    "(각 열의 데이터 - 각 열의 평균)/각 열의 표준편차\n",
    "z = (x - mean()) / std()"
   ]
  },
  {
   "cell_type": "code",
   "execution_count": 5,
   "metadata": {},
   "outputs": [
    {
     "data": {
      "text/plain": [
       "array([[ 1,  9, 18, 14,  0],\n",
       "       [ 9,  8, 16, 16,  1],\n",
       "       [14,  9,  5,  9,  2],\n",
       "       [17, 17, 14, 13,  1],\n",
       "       [14, 19, 14, 19, 12],\n",
       "       [ 5, 16,  2, 14, 16]])"
      ]
     },
     "execution_count": 5,
     "metadata": {},
     "output_type": "execute_result"
    }
   ],
   "source": [
    "# numpy.random.randint(n(0~n-1), ) : 정수 난수 발생함수\n",
    "data = np.random.randint(20, size=(6, 5)) \n",
    "data"
   ]
  },
  {
   "cell_type": "markdown",
   "metadata": {},
   "source": [
    "### 1. Numpy를 이용한 표준화"
   ]
  },
  {
   "cell_type": "code",
   "execution_count": 6,
   "metadata": {},
   "outputs": [
    {
     "data": {
      "text/plain": [
       "10.8"
      ]
     },
     "execution_count": 6,
     "metadata": {},
     "output_type": "execute_result"
    }
   ],
   "source": [
    "np.mean(data)"
   ]
  },
  {
   "cell_type": "code",
   "execution_count": 7,
   "metadata": {},
   "outputs": [
    {
     "name": "stdout",
     "output_type": "stream",
     "text": [
      "[10.         13.         11.5        14.16666667  5.33333333]\n",
      "[ 8.4 10.   7.8 12.4 15.6 10.6]\n"
     ]
    }
   ],
   "source": [
    "# 각 행을 feature이라고 생각(영어 시험 점수, 수학 시험 점수, ...) \n",
    "# 각 feature에 대한 평균을 구해보자\n",
    "print(np.mean(data, axis=0)) # 열 단위 평균\n",
    "print(np.mean(data, axis=1)) # 행 단위 평균"
   ]
  },
  {
   "cell_type": "code",
   "execution_count": 42,
   "metadata": {},
   "outputs": [
    {
     "name": "stdout",
     "output_type": "stream",
     "text": [
      "[[16 14  6  9  7]\n",
      " [ 7 10  3 12 12]\n",
      " [ 3  8  2  0 13]\n",
      " [11 12  4  5 16]\n",
      " [17  3 10 11  4]\n",
      " [ 1 17 15  3 16]]\n",
      "\n",
      "mean feature [ 9.16666667 10.66666667  6.66666667  6.66666667 11.33333333] \n",
      "\n",
      "[[ 6.83333333  3.33333333 -0.66666667  2.33333333 -4.33333333]\n",
      " [-2.16666667 -0.66666667 -3.66666667  5.33333333  0.66666667]\n",
      " [-6.16666667 -2.66666667 -4.66666667 -6.66666667  1.66666667]\n",
      " [ 1.83333333  1.33333333 -2.66666667 -1.66666667  4.66666667]\n",
      " [ 7.83333333 -7.66666667  3.33333333  4.33333333 -7.33333333]\n",
      " [-8.16666667  6.33333333  8.33333333 -3.66666667  4.66666667]]\n",
      "================================================================================\n",
      "[[ 1.12635662  0.74743509 -0.14704292  0.53687549 -0.97166562]\n",
      " [-0.35713747 -0.14948702 -0.80873608  1.22714398  0.14948702]\n",
      " [-1.01646817 -0.59794807 -1.02930047 -1.53392998  0.37371755]\n",
      " [ 0.30219324  0.29897404 -0.5881717  -0.38348249  1.04640913]\n",
      " [ 1.2911893  -1.71910071  0.73521462  0.99705449 -1.6443572 ]\n",
      " [-1.34613353  1.42012668  1.83803656 -0.84366149  1.04640913]]\n",
      "================================================================================\n",
      "[ 1.11022302e-16  1.48029737e-16 -1.11022302e-16 -5.55111512e-17\n",
      " -1.48029737e-16]\n",
      "[1. 1. 1. 1. 1.]\n"
     ]
    }
   ],
   "source": [
    "print(data)\n",
    "print(\"\\nmean feature\", np.mean(data, axis=0), \"\\n\")\n",
    "print(data - np.mean(data, axis=0)) # 브로드캐스팅으로 인해 계산할 수 있는 형태로 변환된다\n",
    "print(\"=\"*80)\n",
    "std_data = (data - np.mean(data, axis=0)) / np.std(data, axis=0)\n",
    "print(std_data)\n",
    "print(\"=\"*80)\n",
    "print(np.mean(std_data, axis=0)) # 각 평균은 0\n",
    "print(np.std(std_data, axis=0)) # 각 표준편차는 1"
   ]
  },
  {
   "cell_type": "markdown",
   "metadata": {},
   "source": [
    "### 2. Scipy를 활용한 표준화"
   ]
  },
  {
   "cell_type": "code",
   "execution_count": 8,
   "metadata": {},
   "outputs": [],
   "source": [
    "import scipy.stats as ss"
   ]
  },
  {
   "cell_type": "code",
   "execution_count": 9,
   "metadata": {},
   "outputs": [
    {
     "data": {
      "text/plain": [
       "array([[-1.6078266 , -0.90197523,  1.10529939, -0.05513178, -0.85159407],\n",
       "       [-0.1786474 , -1.12746904,  0.76520727,  0.60644963, -0.69192018],\n",
       "       [ 0.7145896 , -0.90197523, -1.10529939, -1.70908532, -0.5322463 ],\n",
       "       [ 1.2505318 ,  0.90197523,  0.42511515, -0.38592249, -0.69192018],\n",
       "       [ 0.7145896 ,  1.35296285,  0.42511515,  1.59882175,  1.06449259],\n",
       "       [-0.893237  ,  0.67648143, -1.61543757, -0.05513178,  1.70318815]])"
      ]
     },
     "execution_count": 9,
     "metadata": {},
     "output_type": "execute_result"
    }
   ],
   "source": [
    "ss.zscore(data)"
   ]
  },
  {
   "cell_type": "markdown",
   "metadata": {},
   "source": [
    "### 3. Sklearn을 활용한 표준화"
   ]
  },
  {
   "cell_type": "code",
   "execution_count": 10,
   "metadata": {},
   "outputs": [],
   "source": [
    "from sklearn.preprocessing import StandardScaler, RobustScaler"
   ]
  },
  {
   "cell_type": "code",
   "execution_count": 11,
   "metadata": {},
   "outputs": [
    {
     "name": "stderr",
     "output_type": "stream",
     "text": [
      "C:\\Users\\user\\Anaconda3\\lib\\site-packages\\sklearn\\utils\\validation.py:595: DataConversionWarning: Data with input dtype int32 was converted to float64 by StandardScaler.\n",
      "  warnings.warn(msg, DataConversionWarning)\n",
      "C:\\Users\\user\\Anaconda3\\lib\\site-packages\\sklearn\\utils\\validation.py:595: DataConversionWarning: Data with input dtype int32 was converted to float64 by StandardScaler.\n",
      "  warnings.warn(msg, DataConversionWarning)\n"
     ]
    },
    {
     "data": {
      "text/plain": [
       "array([[-1.6078266 , -0.90197523,  1.10529939, -0.05513178, -0.85159407],\n",
       "       [-0.1786474 , -1.12746904,  0.76520727,  0.60644963, -0.69192018],\n",
       "       [ 0.7145896 , -0.90197523, -1.10529939, -1.70908532, -0.5322463 ],\n",
       "       [ 1.2505318 ,  0.90197523,  0.42511515, -0.38592249, -0.69192018],\n",
       "       [ 0.7145896 ,  1.35296285,  0.42511515,  1.59882175,  1.06449259],\n",
       "       [-0.893237  ,  0.67648143, -1.61543757, -0.05513178,  1.70318815]])"
      ]
     },
     "execution_count": 11,
     "metadata": {},
     "output_type": "execute_result"
    }
   ],
   "source": [
    "StandardScaler().fit_transform(data)"
   ]
  },
  {
   "cell_type": "markdown",
   "metadata": {},
   "source": [
    "## 이상치가 포함된 표준화\n",
    "위와 같은 경우 이상치가 없다는 가정하에 진행된다<br><br>\n",
    "* 데이터에 이상치가 있다면?<br>\n",
    "**이상치를 제거 후에 표준화를 진행한다**<br><br>\n",
    "* 이상치, 특이값을 제거할 수 없는 경우라면? = 이상치를 제거하는 과정에서 다른 데이터의 손실이 일어나는 경우<br>\n",
    "평균, 표준편차는 이상치의 영향을 크게 받음(민감함) → 대체값을 사용하자!<br>\n",
    "**중앙값(Q2), IQR**(Q3(75%)-Q1(25%)) 사용 : 이상치의 영향을 **덜**(아예 안받는것 아님) 받음<br><br>\n",
    "$$robustscaler = {x - median() \\over IQR}$$\n",
    "<br><br>\n",
    "\n",
    "이외에도 여러가지 방법이 존재한다\n"
   ]
  },
  {
   "cell_type": "code",
   "execution_count": 12,
   "metadata": {},
   "outputs": [],
   "source": [
    "np.random.seed(73) # 동일한 seed를 사용하면 동일한 data가 생성된다\n",
    "mu, sigma = 10, 3 # 평균=10, 표준편차 = 3"
   ]
  },
  {
   "cell_type": "code",
   "execution_count": 13,
   "metadata": {},
   "outputs": [
    {
     "data": {
      "text/plain": [
       "array([11.73043915, 16.39332639, 17.320659  , 10.78998062,  5.51163806,\n",
       "        9.88979408, 11.29208736,  5.41157701,  7.80922097, 13.15394571,\n",
       "       14.85937801,  5.18495989, 10.9930286 ,  9.36714293, 10.8945301 ,\n",
       "        6.56177945, 11.72608607,  8.9082801 , 10.10919758,  8.43830804,\n",
       "        9.952707  ,  9.86247581,  8.14476643,  7.54049167, 11.52942571,\n",
       "       13.15181833, 10.43509572,  8.97743181, 13.73237532, 14.96745496,\n",
       "        9.18100947,  8.92022193,  0.07338429, 13.15509679,  9.32104691,\n",
       "        8.01247213, 12.73917563, 12.76350652, 12.71635723,  8.54749669,\n",
       "        7.85535142, 10.54716188, 11.73015021,  5.30930238, 15.6590461 ,\n",
       "        6.80288206, 10.33849318,  8.23193967, 11.93280031, 10.91541905,\n",
       "       11.85215573, 13.29726519,  8.69230361, 11.19550648, 10.01848898,\n",
       "        4.93669823, 10.0159642 , 12.36761596, 11.77181612,  6.89236123,\n",
       "       13.12230939,  8.03537406,  8.08006912, 11.32291988,  9.03981268,\n",
       "       14.20361445, 10.5615933 , 12.96978103,  9.91591744, 10.50358114,\n",
       "       11.50735657,  3.5675912 ,  8.21116157,  5.44896509,  5.5628549 ,\n",
       "       12.25802737, 12.47323302, 10.44418671,  9.02892504,  9.76647714,\n",
       "       14.55459593,  8.21246438, 11.14295348,  9.91375489, 17.8803937 ,\n",
       "       12.38888958,  9.48135079, 15.24411802,  9.54254465,  9.33075236,\n",
       "        7.18685342,  8.42851238,  6.92798126, 16.21763798,  8.87672899,\n",
       "        9.08398138,  8.61800468,  6.78583668,  7.95611752, 10.50983996])"
      ]
     },
     "execution_count": 13,
     "metadata": {},
     "output_type": "execute_result"
    }
   ],
   "source": [
    "# 평균=10, 표준편차 = 3의 정규분포를 따르는 100개의 난수\n",
    "x = mu + sigma*np.random.randn(100)  \n",
    "x"
   ]
  },
  {
   "cell_type": "code",
   "execution_count": 14,
   "metadata": {},
   "outputs": [
    {
     "data": {
      "image/png": "[encoded data removed]",
      "text/plain": [
       "<Figure size 432x288 with 1 Axes>"
      ]
     },
     "metadata": {
      "needs_background": "light"
     },
     "output_type": "display_data"
    }
   ],
   "source": [
    "import matplotlib.pyplot as plt\n",
    "plt.hist(x)\n",
    "plt.show()"
   ]
  },
  {
   "cell_type": "code",
   "execution_count": 15,
   "metadata": {},
   "outputs": [
    {
     "data": {
      "text/plain": [
       "10.147389546015"
      ]
     },
     "execution_count": 15,
     "metadata": {},
     "output_type": "execute_result"
    }
   ],
   "source": [
    "np.mean(x)"
   ]
  },
  {
   "cell_type": "code",
   "execution_count": 64,
   "metadata": {},
   "outputs": [
    {
     "data": {
      "text/plain": [
       "3.014695610662603"
      ]
     },
     "execution_count": 64,
     "metadata": {},
     "output_type": "execute_result"
    }
   ],
   "source": [
    "np.std(x)"
   ]
  },
  {
   "cell_type": "code",
   "execution_count": 16,
   "metadata": {},
   "outputs": [
    {
     "data": {
      "text/plain": [
       "array([1.17304392e+01, 1.63933264e+01, 1.73206590e+01, 1.07899806e+01,\n",
       "       5.51163806e+00, 9.88979408e+00, 1.12920874e+01, 5.41157701e+00,\n",
       "       7.80922097e+00, 1.31539457e+01, 1.48593780e+01, 5.18495989e+00,\n",
       "       1.09930286e+01, 9.36714293e+00, 1.08945301e+01, 6.56177945e+00,\n",
       "       1.17260861e+01, 8.90828010e+00, 1.01091976e+01, 8.43830804e+00,\n",
       "       9.95270700e+00, 9.86247581e+00, 8.14476643e+00, 7.54049167e+00,\n",
       "       1.15294257e+01, 1.31518183e+01, 1.04350957e+01, 8.97743181e+00,\n",
       "       1.37323753e+01, 1.49674550e+01, 9.18100947e+00, 8.92022193e+00,\n",
       "       7.33842885e-02, 1.31550968e+01, 9.32104691e+00, 8.01247213e+00,\n",
       "       1.27391756e+01, 1.27635065e+01, 1.27163572e+01, 8.54749669e+00,\n",
       "       7.85535142e+00, 1.05471619e+01, 1.17301502e+01, 5.30930238e+00,\n",
       "       1.56590461e+01, 6.80288206e+00, 1.03384932e+01, 8.23193967e+00,\n",
       "       1.19328003e+01, 1.09154191e+01, 1.18521557e+01, 1.32972652e+01,\n",
       "       8.69230361e+00, 1.11955065e+01, 1.00184890e+01, 4.93669823e+00,\n",
       "       1.00159642e+01, 1.23676160e+01, 1.17718161e+01, 6.89236123e+00,\n",
       "       1.31223094e+01, 8.03537406e+00, 8.08006912e+00, 1.13229199e+01,\n",
       "       9.03981268e+00, 1.42036144e+01, 1.05615933e+01, 1.29697810e+01,\n",
       "       9.91591744e+00, 1.05035811e+01, 1.15073566e+01, 3.56759120e+00,\n",
       "       8.21116157e+00, 5.44896509e+00, 5.56285490e+00, 1.22580274e+01,\n",
       "       1.24732330e+01, 1.04441867e+01, 9.02892504e+00, 9.76647714e+00,\n",
       "       1.45545959e+01, 8.21246438e+00, 1.11429535e+01, 9.91375489e+00,\n",
       "       1.78803937e+01, 1.23888896e+01, 9.48135079e+00, 1.52441180e+01,\n",
       "       9.54254465e+00, 9.33075236e+00, 7.18685342e+00, 8.42851238e+00,\n",
       "       6.92798126e+00, 1.62176380e+01, 8.87672899e+00, 1.00000000e+02,\n",
       "       1.00000000e+02, 1.00000000e+02, 1.00000000e+02, 1.00000000e+02])"
      ]
     },
     "execution_count": 16,
     "metadata": {},
     "output_type": "execute_result"
    }
   ],
   "source": [
    "x[95:100] = 100 # 이상치 지정\n",
    "x # e+02 = 10^2"
   ]
  },
  {
   "cell_type": "code",
   "execution_count": 17,
   "metadata": {},
   "outputs": [
    {
     "name": "stdout",
     "output_type": "stream",
     "text": [
      "14.717851743813155\n",
      "19.790826557586872\n"
     ]
    }
   ],
   "source": [
    "# 평균, 표준편차는 이상치의 영향을 많이 받는 것을 볼 수 있다\n",
    "print(np.mean(x)) \n",
    "print(np.std(x))"
   ]
  },
  {
   "cell_type": "code",
   "execution_count": 18,
   "metadata": {},
   "outputs": [
    {
     "data": {
      "text/plain": [
       "(array([48., 47.,  0.,  0.,  0.,  0.,  0.,  0.,  0.,  5.]),\n",
       " array([7.33842885e-02, 1.00660459e+01, 2.00587074e+01, 3.00513690e+01,\n",
       "        4.00440306e+01, 5.00366921e+01, 6.00293537e+01, 7.00220153e+01,\n",
       "        8.00146769e+01, 9.00073384e+01, 1.00000000e+02]),\n",
       " <a list of 10 Patch objects>)"
      ]
     },
     "execution_count": 18,
     "metadata": {},
     "output_type": "execute_result"
    },
    {
     "data": {
      "image/png": "[encoded data removed]",
      "text/plain": [
       "<Figure size 432x288 with 1 Axes>"
      ]
     },
     "metadata": {
      "needs_background": "light"
     },
     "output_type": "display_data"
    }
   ],
   "source": [
    "plt.hist(x)"
   ]
  },
  {
   "cell_type": "code",
   "execution_count": 75,
   "metadata": {},
   "outputs": [
    {
     "data": {
      "text/plain": [
       "(array([ 1.,  1.,  7.,  8., 29., 25., 14.,  6.,  4.,  0.,  0.,  0.,  0.,\n",
       "         0.,  0.,  0.,  0.,  0.,  0.,  0.,  0.,  0.,  0.,  0.,  0.,  0.,\n",
       "         0.,  0.,  0.,  0.,  0.,  0.,  0.,  0.,  0.,  0.,  0.,  0.,  0.,\n",
       "         0.,  0.,  0.,  0.,  0.,  0.,  0.,  0.,  0.,  0.,  5.]),\n",
       " array([  0,   2,   4,   6,   8,  10,  12,  14,  16,  18,  20,  22,  24,\n",
       "         26,  28,  30,  32,  34,  36,  38,  40,  42,  44,  46,  48,  50,\n",
       "         52,  54,  56,  58,  60,  62,  64,  66,  68,  70,  72,  74,  76,\n",
       "         78,  80,  82,  84,  86,  88,  90,  92,  94,  96,  98, 100]),\n",
       " <a list of 50 Patch objects>)"
      ]
     },
     "execution_count": 75,
     "metadata": {},
     "output_type": "execute_result"
    },
    {
     "data": {
      "image/png": "[encoded data removed]",
      "text/plain": [
       "<Figure size 432x288 with 1 Axes>"
      ]
     },
     "metadata": {
      "needs_background": "light"
     },
     "output_type": "display_data"
    }
   ],
   "source": [
    "plt.hist(x, bins=np.arange(0, 101, 2)) # 0부터 100까지 2씩증가하는 구간 생성"
   ]
  },
  {
   "cell_type": "code",
   "execution_count": 76,
   "metadata": {},
   "outputs": [
    {
     "data": {
      "text/plain": [
       "(array([ 1.,  0.,  0.,  1.,  1.,  6.,  4.,  4., 15., 14., 13., 12.,  8.,\n",
       "         6.,  4.,  2.,  2.,  2.,  0.,  0.,  0.,  0.,  0.,  0.,  0.,  0.,\n",
       "         0.,  0.,  0.,  0.,  0.,  0.,  0.,  0.,  0.,  0.,  0.,  0.,  0.,\n",
       "         0.,  0.,  0.,  0.,  0.,  0.,  0.,  0.,  0.,  0.,  0.,  0.,  0.,\n",
       "         0.,  0.,  0.,  0.,  0.,  0.,  0.,  0.,  0.,  0.,  0.,  0.,  0.,\n",
       "         0.,  0.,  0.,  0.,  0.,  0.,  0.,  0.,  0.,  0.,  0.,  0.,  0.,\n",
       "         0.,  0.,  0.,  0.,  0.,  0.,  0.,  0.,  0.,  0.,  0.,  0.,  0.,\n",
       "         0.,  0.,  0.,  0.,  0.,  0.,  0.,  0.,  5.]),\n",
       " array([  0,   1,   2,   3,   4,   5,   6,   7,   8,   9,  10,  11,  12,\n",
       "         13,  14,  15,  16,  17,  18,  19,  20,  21,  22,  23,  24,  25,\n",
       "         26,  27,  28,  29,  30,  31,  32,  33,  34,  35,  36,  37,  38,\n",
       "         39,  40,  41,  42,  43,  44,  45,  46,  47,  48,  49,  50,  51,\n",
       "         52,  53,  54,  55,  56,  57,  58,  59,  60,  61,  62,  63,  64,\n",
       "         65,  66,  67,  68,  69,  70,  71,  72,  73,  74,  75,  76,  77,\n",
       "         78,  79,  80,  81,  82,  83,  84,  85,  86,  87,  88,  89,  90,\n",
       "         91,  92,  93,  94,  95,  96,  97,  98,  99, 100]),\n",
       " <a list of 100 Patch objects>)"
      ]
     },
     "execution_count": 76,
     "metadata": {},
     "output_type": "execute_result"
    },
    {
     "data": {
      "image/png": "[encoded data removed]",
      "text/plain": [
       "<Figure size 432x288 with 1 Axes>"
      ]
     },
     "metadata": {
      "needs_background": "light"
     },
     "output_type": "display_data"
    }
   ],
   "source": [
    "plt.hist(x, bins=np.arange(0, 101, 1))"
   ]
  },
  {
   "cell_type": "code",
   "execution_count": 19,
   "metadata": {},
   "outputs": [
    {
     "name": "stdout",
     "output_type": "stream",
     "text": [
      "(100,)\n",
      "[[1.17304392e+01]\n",
      " [1.63933264e+01]\n",
      " [1.73206590e+01]\n",
      " [1.07899806e+01]\n",
      " [5.51163806e+00]\n",
      " [9.88979408e+00]\n",
      " [1.12920874e+01]\n",
      " [5.41157701e+00]\n",
      " [7.80922097e+00]\n",
      " [1.31539457e+01]\n",
      " [1.48593780e+01]\n",
      " [5.18495989e+00]\n",
      " [1.09930286e+01]\n",
      " [9.36714293e+00]\n",
      " [1.08945301e+01]\n",
      " [6.56177945e+00]\n",
      " [1.17260861e+01]\n",
      " [8.90828010e+00]\n",
      " [1.01091976e+01]\n",
      " [8.43830804e+00]\n",
      " [9.95270700e+00]\n",
      " [9.86247581e+00]\n",
      " [8.14476643e+00]\n",
      " [7.54049167e+00]\n",
      " [1.15294257e+01]\n",
      " [1.31518183e+01]\n",
      " [1.04350957e+01]\n",
      " [8.97743181e+00]\n",
      " [1.37323753e+01]\n",
      " [1.49674550e+01]\n",
      " [9.18100947e+00]\n",
      " [8.92022193e+00]\n",
      " [7.33842885e-02]\n",
      " [1.31550968e+01]\n",
      " [9.32104691e+00]\n",
      " [8.01247213e+00]\n",
      " [1.27391756e+01]\n",
      " [1.27635065e+01]\n",
      " [1.27163572e+01]\n",
      " [8.54749669e+00]\n",
      " [7.85535142e+00]\n",
      " [1.05471619e+01]\n",
      " [1.17301502e+01]\n",
      " [5.30930238e+00]\n",
      " [1.56590461e+01]\n",
      " [6.80288206e+00]\n",
      " [1.03384932e+01]\n",
      " [8.23193967e+00]\n",
      " [1.19328003e+01]\n",
      " [1.09154191e+01]\n",
      " [1.18521557e+01]\n",
      " [1.32972652e+01]\n",
      " [8.69230361e+00]\n",
      " [1.11955065e+01]\n",
      " [1.00184890e+01]\n",
      " [4.93669823e+00]\n",
      " [1.00159642e+01]\n",
      " [1.23676160e+01]\n",
      " [1.17718161e+01]\n",
      " [6.89236123e+00]\n",
      " [1.31223094e+01]\n",
      " [8.03537406e+00]\n",
      " [8.08006912e+00]\n",
      " [1.13229199e+01]\n",
      " [9.03981268e+00]\n",
      " [1.42036144e+01]\n",
      " [1.05615933e+01]\n",
      " [1.29697810e+01]\n",
      " [9.91591744e+00]\n",
      " [1.05035811e+01]\n",
      " [1.15073566e+01]\n",
      " [3.56759120e+00]\n",
      " [8.21116157e+00]\n",
      " [5.44896509e+00]\n",
      " [5.56285490e+00]\n",
      " [1.22580274e+01]\n",
      " [1.24732330e+01]\n",
      " [1.04441867e+01]\n",
      " [9.02892504e+00]\n",
      " [9.76647714e+00]\n",
      " [1.45545959e+01]\n",
      " [8.21246438e+00]\n",
      " [1.11429535e+01]\n",
      " [9.91375489e+00]\n",
      " [1.78803937e+01]\n",
      " [1.23888896e+01]\n",
      " [9.48135079e+00]\n",
      " [1.52441180e+01]\n",
      " [9.54254465e+00]\n",
      " [9.33075236e+00]\n",
      " [7.18685342e+00]\n",
      " [8.42851238e+00]\n",
      " [6.92798126e+00]\n",
      " [1.62176380e+01]\n",
      " [8.87672899e+00]\n",
      " [1.00000000e+02]\n",
      " [1.00000000e+02]\n",
      " [1.00000000e+02]\n",
      " [1.00000000e+02]\n",
      " [1.00000000e+02]]\n",
      "(100, 1)\n"
     ]
    }
   ],
   "source": [
    "print(x.shape) # 1차원\n",
    "x = x.reshape(-1, 1) \n",
    "# (-1, 1) : 열은 1개인데 행은 알아서 계산해줘\n",
    "# DL : -1 → None\n",
    "print(x)\n",
    "print(x.shape) # 2차원"
   ]
  },
  {
   "cell_type": "code",
   "execution_count": 20,
   "metadata": {},
   "outputs": [
    {
     "data": {
      "text/plain": [
       "array([[-0.15094936],\n",
       "       [ 0.08465915],\n",
       "       [ 0.13151584],\n",
       "       [-0.19846928],\n",
       "       [-0.46517581],\n",
       "       [-0.24395432],\n",
       "       [-0.1730986 ],\n",
       "       [-0.47023174],\n",
       "       [-0.34908248],\n",
       "       [-0.07902176],\n",
       "       [ 0.0071511 ],\n",
       "       [-0.48168235],\n",
       "       [-0.18820958],\n",
       "       [-0.27036308],\n",
       "       [-0.19318656],\n",
       "       [-0.41211378],\n",
       "       [-0.15116931],\n",
       "       [-0.29354871],\n",
       "       [-0.2328682 ],\n",
       "       [-0.31729568],\n",
       "       [-0.24077543],\n",
       "       [-0.24533467],\n",
       "       [-0.33212788],\n",
       "       [-0.36266096],\n",
       "       [-0.16110626],\n",
       "       [-0.07912926],\n",
       "       [-0.21640107],\n",
       "       [-0.29005458],\n",
       "       [-0.04979461],\n",
       "       [ 0.01261207],\n",
       "       [-0.27976812],\n",
       "       [-0.29294531],\n",
       "       [-0.7399624 ],\n",
       "       [-0.0789636 ],\n",
       "       [-0.27269224],\n",
       "       [-0.33881251],\n",
       "       [-0.09997946],\n",
       "       [-0.09875006],\n",
       "       [-0.10113244],\n",
       "       [-0.31177854],\n",
       "       [-0.34675158],\n",
       "       [-0.21073854],\n",
       "       [-0.15096396],\n",
       "       [-0.47539952],\n",
       "       [ 0.0475571 ],\n",
       "       [-0.39993123],\n",
       "       [-0.22128225],\n",
       "       [-0.32772315],\n",
       "       [-0.14072436],\n",
       "       [-0.19213107],\n",
       "       [-0.14479921],\n",
       "       [-0.07178005],\n",
       "       [-0.30446167],\n",
       "       [-0.17797868],\n",
       "       [-0.23745157],\n",
       "       [-0.49422663],\n",
       "       [-0.23757914],\n",
       "       [-0.1187538 ],\n",
       "       [-0.14885864],\n",
       "       [-0.39540999],\n",
       "       [-0.0806203 ],\n",
       "       [-0.33765531],\n",
       "       [-0.33539694],\n",
       "       [-0.17154068],\n",
       "       [-0.28690257],\n",
       "       [-0.02598362],\n",
       "       [-0.21000934],\n",
       "       [-0.08832732],\n",
       "       [-0.24263435],\n",
       "       [-0.21294061],\n",
       "       [-0.16222138],\n",
       "       [-0.5634055 ],\n",
       "       [-0.32877304],\n",
       "       [-0.46834257],\n",
       "       [-0.4625879 ],\n",
       "       [-0.12429114],\n",
       "       [-0.11341713],\n",
       "       [-0.21594172],\n",
       "       [-0.28745271],\n",
       "       [-0.25018534],\n",
       "       [-0.00824906],\n",
       "       [-0.32870721],\n",
       "       [-0.18063411],\n",
       "       [-0.24274362],\n",
       "       [ 0.15979838],\n",
       "       [-0.11767887],\n",
       "       [-0.26459233],\n",
       "       [ 0.02659142],\n",
       "       [-0.2615003 ],\n",
       "       [-0.27220184],\n",
       "       [-0.38052975],\n",
       "       [-0.31779064],\n",
       "       [-0.39361016],\n",
       "       [ 0.07578189],\n",
       "       [-0.29514294],\n",
       "       [ 4.30917567],\n",
       "       [ 4.30917567],\n",
       "       [ 4.30917567],\n",
       "       [ 4.30917567],\n",
       "       [ 4.30917567]])"
      ]
     },
     "execution_count": 20,
     "metadata": {},
     "output_type": "execute_result"
    }
   ],
   "source": [
    "std_x = StandardScaler().fit_transform(x)\n",
    "std_x # 표준화를 진행한 값 출력"
   ]
  },
  {
   "cell_type": "code",
   "execution_count": 91,
   "metadata": {},
   "outputs": [
    {
     "data": {
      "text/plain": [
       "5.329070518200751e-17"
      ]
     },
     "execution_count": 91,
     "metadata": {},
     "output_type": "execute_result"
    }
   ],
   "source": [
    "np.mean(std_x) # 0에 가깝게 나옴"
   ]
  },
  {
   "cell_type": "code",
   "execution_count": 92,
   "metadata": {},
   "outputs": [
    {
     "data": {
      "text/plain": [
       "1.0"
      ]
     },
     "execution_count": 92,
     "metadata": {},
     "output_type": "execute_result"
    }
   ],
   "source": [
    "np.std(std_x) # 1에 가깝게 나옴"
   ]
  },
  {
   "cell_type": "code",
   "execution_count": 21,
   "metadata": {},
   "outputs": [
    {
     "data": {
      "text/plain": [
       "(array([48., 47.,  0.,  0.,  0.,  0.,  0.,  0.,  0.,  5.]),\n",
       " array([-0.7399624 , -0.23504859,  0.26986522,  0.77477902,  1.27969283,\n",
       "         1.78460664,  2.28952044,  2.79443425,  3.29934806,  3.80426186,\n",
       "         4.30917567]),\n",
       " <a list of 10 Patch objects>)"
      ]
     },
     "execution_count": 21,
     "metadata": {},
     "output_type": "execute_result"
    },
    {
     "data": {
      "image/png": "[encoded data removed]",
      "text/plain": [
       "<Figure size 432x288 with 1 Axes>"
      ]
     },
     "metadata": {
      "needs_background": "light"
     },
     "output_type": "display_data"
    }
   ],
   "source": [
    "plt.hist(std_x)"
   ]
  },
  {
   "cell_type": "code",
   "execution_count": 22,
   "metadata": {},
   "outputs": [
    {
     "data": {
      "text/plain": [
       "array([-0.15094936,  0.08465915,  0.13151584, -0.19846928, -0.46517581,\n",
       "       -0.24395432, -0.1730986 , -0.47023174, -0.34908248, -0.07902176,\n",
       "        0.0071511 , -0.48168235, -0.18820958, -0.27036308, -0.19318656,\n",
       "       -0.41211378, -0.15116931, -0.29354871, -0.2328682 , -0.31729568,\n",
       "       -0.24077543, -0.24533467, -0.33212788, -0.36266096, -0.16110626,\n",
       "       -0.07912926, -0.21640107, -0.29005458, -0.04979461,  0.01261207,\n",
       "       -0.27976812, -0.29294531, -0.7399624 , -0.0789636 , -0.27269224,\n",
       "       -0.33881251, -0.09997946, -0.09875006, -0.10113244, -0.31177854,\n",
       "       -0.34675158, -0.21073854, -0.15096396, -0.47539952,  0.0475571 ,\n",
       "       -0.39993123, -0.22128225, -0.32772315, -0.14072436, -0.19213107,\n",
       "       -0.14479921, -0.07178005, -0.30446167, -0.17797868, -0.23745157,\n",
       "       -0.49422663, -0.23757914, -0.1187538 , -0.14885864, -0.39540999,\n",
       "       -0.0806203 , -0.33765531, -0.33539694, -0.17154068, -0.28690257,\n",
       "       -0.02598362, -0.21000934, -0.08832732, -0.24263435, -0.21294061,\n",
       "       -0.16222138, -0.5634055 , -0.32877304, -0.46834257, -0.4625879 ,\n",
       "       -0.12429114, -0.11341713, -0.21594172, -0.28745271, -0.25018534,\n",
       "       -0.00824906, -0.32870721, -0.18063411, -0.24274362,  0.15979838,\n",
       "       -0.11767887, -0.26459233,  0.02659142, -0.2615003 , -0.27220184,\n",
       "       -0.38052975, -0.31779064, -0.39361016,  0.07578189, -0.29514294])"
      ]
     },
     "execution_count": 22,
     "metadata": {},
     "output_type": "execute_result"
    }
   ],
   "source": [
    "std_o = std_x[std_x < 4] # 4보다 큰 이상치 제거\n",
    "std_o"
   ]
  },
  {
   "cell_type": "code",
   "execution_count": 23,
   "metadata": {},
   "outputs": [
    {
     "data": {
      "text/plain": [
       "(array([ 1.,  1.,  4.,  8., 17., 24., 20., 11.,  5.,  4.]),\n",
       " array([-0.7399624 , -0.64998632, -0.56001024, -0.47003416, -0.38005809,\n",
       "        -0.29008201, -0.20010593, -0.11012986, -0.02015378,  0.0698223 ,\n",
       "         0.15979838]),\n",
       " <a list of 10 Patch objects>)"
      ]
     },
     "execution_count": 23,
     "metadata": {},
     "output_type": "execute_result"
    },
    {
     "data": {
      "image/png": "[encoded data removed]",
      "text/plain": [
       "<Figure size 432x288 with 1 Axes>"
      ]
     },
     "metadata": {
      "needs_background": "light"
     },
     "output_type": "display_data"
    }
   ],
   "source": [
    "plt.hist(std_o)"
   ]
  },
  {
   "cell_type": "code",
   "execution_count": 24,
   "metadata": {},
   "outputs": [
    {
     "data": {
      "text/plain": [
       "(array([ 0.,  1.,  9., 45., 32.,  8.,  0.,  0.,  0.]),\n",
       " array([-1.00000000e+00, -8.00000000e-01, -6.00000000e-01, -4.00000000e-01,\n",
       "        -2.00000000e-01, -2.22044605e-16,  2.00000000e-01,  4.00000000e-01,\n",
       "         6.00000000e-01,  8.00000000e-01]),\n",
       " <a list of 9 Patch objects>)"
      ]
     },
     "execution_count": 24,
     "metadata": {},
     "output_type": "execute_result"
    },
    {
     "data": {
      "image/png": "[encoded data removed]",
      "text/plain": [
       "<Figure size 432x288 with 1 Axes>"
      ]
     },
     "metadata": {
      "needs_background": "light"
     },
     "output_type": "display_data"
    }
   ],
   "source": [
    "plt.hist(std_o, bins=np.arange(-1, 1, 0.2))"
   ]
  },
  {
   "cell_type": "code",
   "execution_count": 25,
   "metadata": {},
   "outputs": [
    {
     "name": "stdout",
     "output_type": "stream",
     "text": [
      "mean 14.717851743813155\n",
      "median 10.386794450839528\n",
      "Q1 8.435859129640745\n",
      "Q3 12.534014070784306\n",
      "IQR 4.0981549411435605\n"
     ]
    }
   ],
   "source": [
    "print(\"mean\", np.mean(x))\n",
    "print(\"median\", np.median(x))\n",
    "Q1 = np.percentile(x, 25) # Q1(25%) \n",
    "print(\"Q1\", Q1)\n",
    "Q3 = np.percentile(x, 75) # Q3(75%)\n",
    "print(\"Q3\", Q3)\n",
    "IQR = Q3 - Q1\n",
    "print(\"IQR\", IQR)"
   ]
  },
  {
   "cell_type": "code",
   "execution_count": 26,
   "metadata": {},
   "outputs": [
    {
     "data": {
      "text/plain": [
       "array([[ 3.27865765e-01],\n",
       "       [ 1.46566736e+00],\n",
       "       [ 1.69194788e+00],\n",
       "       [ 9.83823630e-02],\n",
       "       [-1.18959787e+00],\n",
       "       [-1.21274179e-01],\n",
       "       [ 2.20902557e-01],\n",
       "       [-1.21401399e+00],\n",
       "       [-6.28959499e-01],\n",
       "       [ 6.75218799e-01],\n",
       "       [ 1.09136517e+00],\n",
       "       [-1.26931134e+00],\n",
       "       [ 1.47928556e-01],\n",
       "       [-2.48807460e-01],\n",
       "       [ 1.23893718e-01],\n",
       "       [-9.33350510e-01],\n",
       "       [ 3.26803559e-01],\n",
       "       [-3.60775612e-01],\n",
       "       [-6.77370358e-02],\n",
       "       [-4.75454548e-01],\n",
       "       [-1.05922655e-01],\n",
       "       [-1.27940169e-01],\n",
       "       [-5.47082297e-01],\n",
       "       [-6.94532739e-01],\n",
       "       [ 2.78816023e-01],\n",
       "       [ 6.74699692e-01],\n",
       "       [ 1.17861007e-02],\n",
       "       [-3.43901747e-01],\n",
       "       [ 8.16362710e-01],\n",
       "       [ 1.11773727e+00],\n",
       "       [-2.94226304e-01],\n",
       "       [-3.57861657e-01],\n",
       "       [-2.51659840e+00],\n",
       "       [ 6.75499676e-01],\n",
       "       [-2.60055454e-01],\n",
       "       [-5.79363727e-01],\n",
       "       [ 5.74009819e-01],\n",
       "       [ 5.79946854e-01],\n",
       "       [ 5.68441851e-01],\n",
       "       [-4.48811180e-01],\n",
       "       [-6.17703105e-01],\n",
       "       [ 3.91316169e-02],\n",
       "       [ 3.27795259e-01],\n",
       "       [-1.23897026e+00],\n",
       "       [ 1.28649398e+00],\n",
       "       [-8.74518518e-01],\n",
       "       [-1.17861007e-02],\n",
       "       [-5.25810959e-01],\n",
       "       [ 3.77244364e-01],\n",
       "       [ 1.28990877e-01],\n",
       "       [ 3.57566101e-01],\n",
       "       [ 7.10190508e-01],\n",
       "       [-4.13476520e-01],\n",
       "       [ 1.97335640e-01],\n",
       "       [-8.98710463e-02],\n",
       "       [-1.32989023e+00],\n",
       "       [-9.04871228e-02],\n",
       "       [ 4.83344709e-01],\n",
       "       [ 3.37962251e-01],\n",
       "       [-8.52684505e-01],\n",
       "       [ 6.67499149e-01],\n",
       "       [-5.73775375e-01],\n",
       "       [-5.62869234e-01],\n",
       "       [ 2.28426070e-01],\n",
       "       [-3.28680051e-01],\n",
       "       [ 9.31350828e-01],\n",
       "       [ 4.26530613e-02],\n",
       "       [ 6.30280363e-01],\n",
       "       [-1.14899759e-01],\n",
       "       [ 2.84973819e-02],\n",
       "       [ 2.73430883e-01],\n",
       "       [-1.66396912e+00],\n",
       "       [-5.30881071e-01],\n",
       "       [-1.20489084e+00],\n",
       "       [-1.17710034e+00],\n",
       "       [ 4.56603751e-01],\n",
       "       [ 5.09116565e-01],\n",
       "       [ 1.40044146e-02],\n",
       "       [-3.31336766e-01],\n",
       "       [-1.51365021e-01],\n",
       "       [ 1.01699461e+00],\n",
       "       [-5.30563169e-01],\n",
       "       [ 1.84512064e-01],\n",
       "       [-1.15427447e-01],\n",
       "       [ 1.82853000e+00],\n",
       "       [ 4.88535734e-01],\n",
       "       [-2.20939343e-01],\n",
       "       [ 1.18524644e+00],\n",
       "       [-2.06007291e-01],\n",
       "       [-2.57687205e-01],\n",
       "       [-7.80824804e-01],\n",
       "       [-4.77844810e-01],\n",
       "       [-8.43992782e-01],\n",
       "       [ 1.42279724e+00],\n",
       "       [-3.68474469e-01],\n",
       "       [ 2.18667197e+01],\n",
       "       [ 2.18667197e+01],\n",
       "       [ 2.18667197e+01],\n",
       "       [ 2.18667197e+01],\n",
       "       [ 2.18667197e+01]])"
      ]
     },
     "execution_count": 26,
     "metadata": {},
     "output_type": "execute_result"
    }
   ],
   "source": [
    "rbs_x = RobustScaler().fit_transform(x)\n",
    "rbs_x "
   ]
  },
  {
   "cell_type": "code",
   "execution_count": 134,
   "metadata": {},
   "outputs": [
    {
     "name": "stdout",
     "output_type": "stream",
     "text": [
      "median 0.0\n",
      "mean 1.0568310264435923\n",
      "std 4.829204078863935\n"
     ]
    }
   ],
   "source": [
    "print(\"median\", np.median(rbs_x)) \n",
    "print(\"mean\", np.mean(rbs_x))\n",
    "print(\"std\", np.std(rbs_x))"
   ]
  },
  {
   "cell_type": "code",
   "execution_count": 27,
   "metadata": {},
   "outputs": [
    {
     "data": {
      "text/plain": [
       "(array([48., 47.,  0.,  0.,  0.,  0.,  0.,  0.,  0.,  5.]),\n",
       " array([-2.5165984 , -0.07826658,  2.36006523,  4.79839704,  7.23672886,\n",
       "         9.67506067, 12.11339248, 14.5517243 , 16.99005611, 19.42838793,\n",
       "        21.86671974]),\n",
       " <a list of 10 Patch objects>)"
      ]
     },
     "execution_count": 27,
     "metadata": {},
     "output_type": "execute_result"
    },
    {
     "data": {
      "image/png": "[encoded data removed]",
      "text/plain": [
       "<Figure size 432x288 with 1 Axes>"
      ]
     },
     "metadata": {
      "needs_background": "light"
     },
     "output_type": "display_data"
    }
   ],
   "source": [
    "plt.hist(rbs_x)"
   ]
  },
  {
   "cell_type": "code",
   "execution_count": 28,
   "metadata": {},
   "outputs": [
    {
     "data": {
      "text/plain": [
       "(array([ 0.,  0.,  1.,  0.,  0.,  0.,  1.,  0.,  5.,  2.,  4.,  4., 11.,\n",
       "        12., 10., 11., 10.,  7.,  6.,  2.,  4.,  1.,  2.,  1.,  1.,  0.,\n",
       "         0.,  0.,  0.]),\n",
       " array([-3.00000000e+00, -2.80000000e+00, -2.60000000e+00, -2.40000000e+00,\n",
       "        -2.20000000e+00, -2.00000000e+00, -1.80000000e+00, -1.60000000e+00,\n",
       "        -1.40000000e+00, -1.20000000e+00, -1.00000000e+00, -8.00000000e-01,\n",
       "        -6.00000000e-01, -4.00000000e-01, -2.00000000e-01,  2.66453526e-15,\n",
       "         2.00000000e-01,  4.00000000e-01,  6.00000000e-01,  8.00000000e-01,\n",
       "         1.00000000e+00,  1.20000000e+00,  1.40000000e+00,  1.60000000e+00,\n",
       "         1.80000000e+00,  2.00000000e+00,  2.20000000e+00,  2.40000000e+00,\n",
       "         2.60000000e+00,  2.80000000e+00]),\n",
       " <a list of 29 Patch objects>)"
      ]
     },
     "execution_count": 28,
     "metadata": {},
     "output_type": "execute_result"
    },
    {
     "data": {
      "image/png": "[encoded data removed]",
      "text/plain": [
       "<Figure size 432x288 with 1 Axes>"
      ]
     },
     "metadata": {
      "needs_background": "light"
     },
     "output_type": "display_data"
    }
   ],
   "source": [
    "rbs_o = rbs_x[rbs_x < 5]\n",
    "plt.hist(rbs_o, bins=np.arange(-3, 3, 0.2))"
   ]
  },
  {
   "cell_type": "markdown",
   "metadata": {},
   "source": [
    "## 정규화 \n",
    "(각 열의 요소값 - 각 열의 최소값) / (각 열의 최대값 - 각 열의 최소값) <br>\n",
    "0 ~ 1 사이의 범위\n"
   ]
  },
  {
   "cell_type": "code",
   "execution_count": 30,
   "metadata": {},
   "outputs": [],
   "source": [
    "from sklearn.preprocessing import MinMaxScaler"
   ]
  },
  {
   "cell_type": "code",
   "execution_count": 33,
   "metadata": {},
   "outputs": [
    {
     "data": {
      "text/plain": [
       "array([[ 9, -9,  2],\n",
       "       [ 5,  0,  1],\n",
       "       [ 1, 10,  4],\n",
       "       [ 4,  7, -2]])"
      ]
     },
     "execution_count": 33,
     "metadata": {},
     "output_type": "execute_result"
    }
   ],
   "source": [
    "x = np.array([[9, -9, 2],\n",
    "              [5, 0, 1],\n",
    "              [1, 10, 4],\n",
    "              [4, 7, -2]])\n",
    "x"
   ]
  },
  {
   "cell_type": "code",
   "execution_count": 34,
   "metadata": {},
   "outputs": [
    {
     "data": {
      "text/plain": [
       "-9"
      ]
     },
     "execution_count": 34,
     "metadata": {},
     "output_type": "execute_result"
    }
   ],
   "source": [
    "x.min()"
   ]
  },
  {
   "cell_type": "code",
   "execution_count": 35,
   "metadata": {},
   "outputs": [
    {
     "data": {
      "text/plain": [
       "10"
      ]
     },
     "execution_count": 35,
     "metadata": {},
     "output_type": "execute_result"
    }
   ],
   "source": [
    "x.max()"
   ]
  },
  {
   "cell_type": "code",
   "execution_count": 36,
   "metadata": {},
   "outputs": [
    {
     "data": {
      "text/plain": [
       "array([ 1, -9, -2])"
      ]
     },
     "execution_count": 36,
     "metadata": {},
     "output_type": "execute_result"
    }
   ],
   "source": [
    "x.min(axis = 0)"
   ]
  },
  {
   "cell_type": "code",
   "execution_count": 37,
   "metadata": {},
   "outputs": [
    {
     "data": {
      "text/plain": [
       "array([ 9, 10,  4])"
      ]
     },
     "execution_count": 37,
     "metadata": {},
     "output_type": "execute_result"
    }
   ],
   "source": [
    "x.max(axis = 0)"
   ]
  },
  {
   "cell_type": "code",
   "execution_count": 39,
   "metadata": {},
   "outputs": [
    {
     "data": {
      "text/plain": [
       "array([[1.        , 0.        , 0.66666667],\n",
       "       [0.5       , 0.47368421, 0.5       ],\n",
       "       [0.        , 1.        , 1.        ],\n",
       "       [0.375     , 0.84210526, 0.        ]])"
      ]
     },
     "execution_count": 39,
     "metadata": {},
     "output_type": "execute_result"
    }
   ],
   "source": [
    "(x - x.min(axis=0)) / (x.max(axis=0) - x.min(axis=0)) # 각 열의 최대값은 1로, 최소값은 0으로 바뀐다"
   ]
  },
  {
   "cell_type": "code",
   "execution_count": 41,
   "metadata": {},
   "outputs": [
    {
     "name": "stderr",
     "output_type": "stream",
     "text": [
      "C:\\Users\\user\\Anaconda3\\lib\\site-packages\\sklearn\\utils\\validation.py:595: DataConversionWarning: Data with input dtype int32 was converted to float64 by MinMaxScaler.\n",
      "  warnings.warn(msg, DataConversionWarning)\n"
     ]
    },
    {
     "data": {
      "text/plain": [
       "array([[1.        , 0.        , 0.66666667],\n",
       "       [0.5       , 0.47368421, 0.5       ],\n",
       "       [0.        , 1.        , 1.        ],\n",
       "       [0.375     , 0.84210526, 0.        ]])"
      ]
     },
     "execution_count": 41,
     "metadata": {},
     "output_type": "execute_result"
    }
   ],
   "source": [
    "x_minmax = MinMaxScaler().fit_transform(x)\n",
    "x_minmax"
   ]
  },
  {
   "cell_type": "code",
   "execution_count": 42,
   "metadata": {},
   "outputs": [],
   "source": [
    "from sklearn.preprocessing import minmax_scale"
   ]
  },
  {
   "cell_type": "code",
   "execution_count": 43,
   "metadata": {},
   "outputs": [
    {
     "name": "stderr",
     "output_type": "stream",
     "text": [
      "C:\\Users\\user\\Anaconda3\\lib\\site-packages\\sklearn\\utils\\validation.py:595: DataConversionWarning: Data with input dtype int32 was converted to float64.\n",
      "  warnings.warn(msg, DataConversionWarning)\n"
     ]
    },
    {
     "data": {
      "text/plain": [
       "array([[1.        , 0.        , 0.66666667],\n",
       "       [0.5       , 0.47368421, 0.5       ],\n",
       "       [0.        , 1.        , 1.        ],\n",
       "       [0.375     , 0.84210526, 0.        ]])"
      ]
     },
     "execution_count": 43,
     "metadata": {},
     "output_type": "execute_result"
    }
   ],
   "source": [
    "minmax_scale(x)"
   ]
  },
  {
   "cell_type": "markdown",
   "metadata": {},
   "source": [
    "## 이항변수화 변환\n",
    "연속형 변수 값 → 0 또는 1 (2가지)<br>\n",
    "임계값threshhold을 기준으로 이진화"
   ]
  },
  {
   "cell_type": "code",
   "execution_count": 46,
   "metadata": {},
   "outputs": [],
   "source": [
    "from sklearn.preprocessing import Binarizer"
   ]
  },
  {
   "cell_type": "code",
   "execution_count": 48,
   "metadata": {},
   "outputs": [
    {
     "data": {
      "text/plain": [
       "array([[ 5, -3,  2],\n",
       "       [ 7, -1,  0],\n",
       "       [ 0,  9,  5]])"
      ]
     },
     "execution_count": 48,
     "metadata": {},
     "output_type": "execute_result"
    }
   ],
   "source": [
    "x = np.array([[5, -3, 2], \n",
    "              [7, -1, 0], \n",
    "              [0, 9, 5]])\n",
    "x"
   ]
  },
  {
   "cell_type": "code",
   "execution_count": 50,
   "metadata": {},
   "outputs": [
    {
     "data": {
      "text/plain": [
       "Binarizer(copy=True, threshold=0.0)"
      ]
     },
     "execution_count": 50,
     "metadata": {},
     "output_type": "execute_result"
    }
   ],
   "source": [
    "Binarizer().fit(x) # default threshold = 0"
   ]
  },
  {
   "cell_type": "code",
   "execution_count": 54,
   "metadata": {},
   "outputs": [
    {
     "data": {
      "text/plain": [
       "array([[1, 0, 0],\n",
       "       [1, 0, 0],\n",
       "       [0, 1, 1]])"
      ]
     },
     "execution_count": 54,
     "metadata": {},
     "output_type": "execute_result"
    }
   ],
   "source": [
    "# 3을 기준threshold\n",
    "bnr = Binarizer(3).fit(x)\n",
    "bnr\n",
    "bnr.transform(x)"
   ]
  },
  {
   "cell_type": "code",
   "execution_count": 55,
   "metadata": {},
   "outputs": [
    {
     "data": {
      "text/plain": [
       "array([[ 5, -3,  2],\n",
       "       [ 7, -1,  0],\n",
       "       [ 0,  9,  5]])"
      ]
     },
     "execution_count": 55,
     "metadata": {},
     "output_type": "execute_result"
    }
   ],
   "source": [
    "x"
   ]
  },
  {
   "cell_type": "code",
   "execution_count": 56,
   "metadata": {},
   "outputs": [
    {
     "data": {
      "text/plain": [
       "array([[1, 0, 0],\n",
       "       [1, 0, 0],\n",
       "       [0, 1, 1]])"
      ]
     },
     "execution_count": 56,
     "metadata": {},
     "output_type": "execute_result"
    }
   ],
   "source": [
    "# 2을 기준threshold\n",
    "bnr = Binarizer(2).fit(x)\n",
    "bnr\n",
    "bnr.transform(x) # 2 이하는 0, 2 초과는 1"
   ]
  }
 ],
 "metadata": {
  "kernelspec": {
   "display_name": "Python 3",
   "language": "python",
   "name": "python3"
  },
  "language_info": {
   "codemirror_mode": {
    "name": "ipython",
    "version": 3
   },
   "file_extension": ".py",
   "mimetype": "text/x-python",
   "name": "python",
   "nbconvert_exporter": "python",
   "pygments_lexer": "ipython3",
   "version": "3.7.3"
  }
 },
 "nbformat": 4,
 "nbformat_minor": 2
}
