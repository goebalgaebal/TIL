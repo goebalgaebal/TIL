{
 "cells": [
  {
   "cell_type": "code",
   "execution_count": 4,
   "metadata": {},
   "outputs": [],
   "source": [
    "import pandas as pd\n",
    "import seaborn as sns"
   ]
  },
  {
   "cell_type": "markdown",
   "metadata": {},
   "source": [
    "## [Scikitlearn을 활용한 머신러닝]\n",
    "1. 위 문장을 모두 수행한 후, 아래와 같은 요구사항을 구현하시오. <br>\n",
    "1) tips의 'sex‘ 컬럼의 타입을 문자열로 변환한 다음, info함수를 호출하여 결과를 확인하시오 <br>\n",
    "2) tips의 1,3,5,7번 index행에 저장된 tip 컬럼의 값을 모두 ‘missing'으로 변경하시오 <br>\n",
    "3) scikitlearn에 있는 preprocessing 모듈중 표준화 및 정규화와 관련된 함수를 모두 기술하시오"
   ]
  },
  {
   "cell_type": "code",
   "execution_count": 7,
   "metadata": {},
   "outputs": [
    {
     "name": "stdout",
     "output_type": "stream",
     "text": [
      "<class 'pandas.core.frame.DataFrame'>\n",
      "RangeIndex: 244 entries, 0 to 243\n",
      "Data columns (total 7 columns):\n",
      "total_bill    244 non-null float64\n",
      "tip           244 non-null float64\n",
      "sex           244 non-null category\n",
      "smoker        244 non-null category\n",
      "day           244 non-null category\n",
      "time          244 non-null category\n",
      "size          244 non-null int64\n",
      "dtypes: category(4), float64(2), int64(1)\n",
      "memory usage: 7.2 KB\n"
     ]
    }
   ],
   "source": [
    "tips = sns.load_dataset(\"tips\") \n",
    "tips.info()"
   ]
  },
  {
   "cell_type": "code",
   "execution_count": 8,
   "metadata": {
    "scrolled": true
   },
   "outputs": [
    {
     "name": "stdout",
     "output_type": "stream",
     "text": [
      "<class 'pandas.core.frame.DataFrame'>\n",
      "RangeIndex: 244 entries, 0 to 243\n",
      "Data columns (total 7 columns):\n",
      "total_bill    244 non-null float64\n",
      "tip           244 non-null float64\n",
      "sex           244 non-null object\n",
      "smoker        244 non-null category\n",
      "day           244 non-null category\n",
      "time          244 non-null category\n",
      "size          244 non-null int64\n",
      "dtypes: category(3), float64(2), int64(1), object(1)\n",
      "memory usage: 8.8+ KB\n"
     ]
    }
   ],
   "source": [
    "tips[\"sex\"] = tips[\"sex\"].astype(str)\n",
    "tips.info()"
   ]
  },
  {
   "cell_type": "code",
   "execution_count": null,
   "metadata": {},
   "outputs": [],
   "source": []
  },
  {
   "cell_type": "code",
   "execution_count": 9,
   "metadata": {
    "scrolled": true
   },
   "outputs": [
    {
     "data": {
      "text/html": [
       "<div>\n",
       "<style scoped>\n",
       "    .dataframe tbody tr th:only-of-type {\n",
       "        vertical-align: middle;\n",
       "    }\n",
       "\n",
       "    .dataframe tbody tr th {\n",
       "        vertical-align: top;\n",
       "    }\n",
       "\n",
       "    .dataframe thead th {\n",
       "        text-align: right;\n",
       "    }\n",
       "</style>\n",
       "<table border=\"1\" class=\"dataframe\">\n",
       "  <thead>\n",
       "    <tr style=\"text-align: right;\">\n",
       "      <th></th>\n",
       "      <th>total_bill</th>\n",
       "      <th>tip</th>\n",
       "      <th>sex</th>\n",
       "      <th>smoker</th>\n",
       "      <th>day</th>\n",
       "      <th>time</th>\n",
       "      <th>size</th>\n",
       "    </tr>\n",
       "  </thead>\n",
       "  <tbody>\n",
       "    <tr>\n",
       "      <th>0</th>\n",
       "      <td>16.99</td>\n",
       "      <td>1.01</td>\n",
       "      <td>Female</td>\n",
       "      <td>No</td>\n",
       "      <td>Sun</td>\n",
       "      <td>Dinner</td>\n",
       "      <td>2</td>\n",
       "    </tr>\n",
       "    <tr>\n",
       "      <th>1</th>\n",
       "      <td>10.34</td>\n",
       "      <td>1.66</td>\n",
       "      <td>Male</td>\n",
       "      <td>No</td>\n",
       "      <td>Sun</td>\n",
       "      <td>Dinner</td>\n",
       "      <td>3</td>\n",
       "    </tr>\n",
       "    <tr>\n",
       "      <th>2</th>\n",
       "      <td>21.01</td>\n",
       "      <td>3.50</td>\n",
       "      <td>Male</td>\n",
       "      <td>No</td>\n",
       "      <td>Sun</td>\n",
       "      <td>Dinner</td>\n",
       "      <td>3</td>\n",
       "    </tr>\n",
       "    <tr>\n",
       "      <th>3</th>\n",
       "      <td>23.68</td>\n",
       "      <td>3.31</td>\n",
       "      <td>Male</td>\n",
       "      <td>No</td>\n",
       "      <td>Sun</td>\n",
       "      <td>Dinner</td>\n",
       "      <td>2</td>\n",
       "    </tr>\n",
       "    <tr>\n",
       "      <th>4</th>\n",
       "      <td>24.59</td>\n",
       "      <td>3.61</td>\n",
       "      <td>Female</td>\n",
       "      <td>No</td>\n",
       "      <td>Sun</td>\n",
       "      <td>Dinner</td>\n",
       "      <td>4</td>\n",
       "    </tr>\n",
       "    <tr>\n",
       "      <th>5</th>\n",
       "      <td>25.29</td>\n",
       "      <td>4.71</td>\n",
       "      <td>Male</td>\n",
       "      <td>No</td>\n",
       "      <td>Sun</td>\n",
       "      <td>Dinner</td>\n",
       "      <td>4</td>\n",
       "    </tr>\n",
       "    <tr>\n",
       "      <th>6</th>\n",
       "      <td>8.77</td>\n",
       "      <td>2.00</td>\n",
       "      <td>Male</td>\n",
       "      <td>No</td>\n",
       "      <td>Sun</td>\n",
       "      <td>Dinner</td>\n",
       "      <td>2</td>\n",
       "    </tr>\n",
       "    <tr>\n",
       "      <th>7</th>\n",
       "      <td>26.88</td>\n",
       "      <td>3.12</td>\n",
       "      <td>Male</td>\n",
       "      <td>No</td>\n",
       "      <td>Sun</td>\n",
       "      <td>Dinner</td>\n",
       "      <td>4</td>\n",
       "    </tr>\n",
       "    <tr>\n",
       "      <th>8</th>\n",
       "      <td>15.04</td>\n",
       "      <td>1.96</td>\n",
       "      <td>Male</td>\n",
       "      <td>No</td>\n",
       "      <td>Sun</td>\n",
       "      <td>Dinner</td>\n",
       "      <td>2</td>\n",
       "    </tr>\n",
       "    <tr>\n",
       "      <th>9</th>\n",
       "      <td>14.78</td>\n",
       "      <td>3.23</td>\n",
       "      <td>Male</td>\n",
       "      <td>No</td>\n",
       "      <td>Sun</td>\n",
       "      <td>Dinner</td>\n",
       "      <td>2</td>\n",
       "    </tr>\n",
       "  </tbody>\n",
       "</table>\n",
       "</div>"
      ],
      "text/plain": [
       "   total_bill   tip     sex smoker  day    time  size\n",
       "0       16.99  1.01  Female     No  Sun  Dinner     2\n",
       "1       10.34  1.66    Male     No  Sun  Dinner     3\n",
       "2       21.01  3.50    Male     No  Sun  Dinner     3\n",
       "3       23.68  3.31    Male     No  Sun  Dinner     2\n",
       "4       24.59  3.61  Female     No  Sun  Dinner     4\n",
       "5       25.29  4.71    Male     No  Sun  Dinner     4\n",
       "6        8.77  2.00    Male     No  Sun  Dinner     2\n",
       "7       26.88  3.12    Male     No  Sun  Dinner     4\n",
       "8       15.04  1.96    Male     No  Sun  Dinner     2\n",
       "9       14.78  3.23    Male     No  Sun  Dinner     2"
      ]
     },
     "execution_count": 9,
     "metadata": {},
     "output_type": "execute_result"
    }
   ],
   "source": [
    "tips.head(10)"
   ]
  },
  {
   "cell_type": "code",
   "execution_count": 18,
   "metadata": {},
   "outputs": [
    {
     "data": {
      "text/html": [
       "<div>\n",
       "<style scoped>\n",
       "    .dataframe tbody tr th:only-of-type {\n",
       "        vertical-align: middle;\n",
       "    }\n",
       "\n",
       "    .dataframe tbody tr th {\n",
       "        vertical-align: top;\n",
       "    }\n",
       "\n",
       "    .dataframe thead th {\n",
       "        text-align: right;\n",
       "    }\n",
       "</style>\n",
       "<table border=\"1\" class=\"dataframe\">\n",
       "  <thead>\n",
       "    <tr style=\"text-align: right;\">\n",
       "      <th></th>\n",
       "      <th>total_bill</th>\n",
       "      <th>tip</th>\n",
       "      <th>sex</th>\n",
       "      <th>smoker</th>\n",
       "      <th>day</th>\n",
       "      <th>time</th>\n",
       "      <th>size</th>\n",
       "    </tr>\n",
       "  </thead>\n",
       "  <tbody>\n",
       "    <tr>\n",
       "      <th>1</th>\n",
       "      <td>10.34</td>\n",
       "      <td>missing</td>\n",
       "      <td>Male</td>\n",
       "      <td>No</td>\n",
       "      <td>Sun</td>\n",
       "      <td>Dinner</td>\n",
       "      <td>3</td>\n",
       "    </tr>\n",
       "    <tr>\n",
       "      <th>3</th>\n",
       "      <td>23.68</td>\n",
       "      <td>missing</td>\n",
       "      <td>Male</td>\n",
       "      <td>No</td>\n",
       "      <td>Sun</td>\n",
       "      <td>Dinner</td>\n",
       "      <td>2</td>\n",
       "    </tr>\n",
       "    <tr>\n",
       "      <th>5</th>\n",
       "      <td>25.29</td>\n",
       "      <td>missing</td>\n",
       "      <td>Male</td>\n",
       "      <td>No</td>\n",
       "      <td>Sun</td>\n",
       "      <td>Dinner</td>\n",
       "      <td>4</td>\n",
       "    </tr>\n",
       "    <tr>\n",
       "      <th>7</th>\n",
       "      <td>26.88</td>\n",
       "      <td>missing</td>\n",
       "      <td>Male</td>\n",
       "      <td>No</td>\n",
       "      <td>Sun</td>\n",
       "      <td>Dinner</td>\n",
       "      <td>4</td>\n",
       "    </tr>\n",
       "  </tbody>\n",
       "</table>\n",
       "</div>"
      ],
      "text/plain": [
       "   total_bill      tip   sex smoker  day    time  size\n",
       "1       10.34  missing  Male     No  Sun  Dinner     3\n",
       "3       23.68  missing  Male     No  Sun  Dinner     2\n",
       "5       25.29  missing  Male     No  Sun  Dinner     4\n",
       "7       26.88  missing  Male     No  Sun  Dinner     4"
      ]
     },
     "execution_count": 18,
     "metadata": {},
     "output_type": "execute_result"
    }
   ],
   "source": [
    "tips.loc[[1, 3, 5, 7], \"tip\"] = \"missing\"\n",
    "tips.iloc[[1, 3, 5, 7]]"
   ]
  },
  {
   "cell_type": "code",
   "execution_count": null,
   "metadata": {},
   "outputs": [],
   "source": []
  },
  {
   "cell_type": "markdown",
   "metadata": {},
   "source": [
    "## scikitlearn.preprocessing을 사용한 표준화와 정규화\n",
    "* 데이터 분포 형태 <br>\n",
    "    1. 정규분포 형태\n",
    "    2. 중앙에 많이 밀집된 형태\n",
    "    3. 양쪽으로 나눠서 밀집된 형태\n",
    "<br><br>\n",
    "* 스케일링 <br>\n",
    "데이터를 모델링하기 전, 스케일링 과정을 거친다. 스케일링을 통해 다차원의 값들을 비교 분석하기 쉽게 만들고 자료의 오버플로우나 언더플로우를 방지한다.\n",
    "\n",
    "<br><br>\n",
    "### 표준화\n",
    "1. sklearn.preprocessing.StandardScaler()\n",
    "    * 평균 0, 표준변차가 1이 되도록 변환\n",
    "    * sklearn.preprocessing.StandardScaler().fit_transform()\n",
    "        * fit() 을 실행하여 분포 모수를 StandardScaler()에 저장\n",
    "        * transform() 을 실행하여 데이터를 변환\n",
    "        * fit_transform()을 사용하여 fit(), transform()을 한번에 시행\n",
    "<br><br>\n",
    "2. sklearn.preprocessing.RobustScaler()\n",
    "    * 중앙값(median) 0, IQR(Q3 - Q1) 1이 되도록 변환\n",
    "    * 이상치의 영향을 비교적 덜 받는다\n",
    "<br><br>\n",
    "\n",
    "### 정규화\n",
    "1. sklearn.preprocessing.MinMaxScaler()/ sklearn.preprocessing.minmax_scale()\n",
    "    * 최대값 1, 최소값 0이 되도록 변환\n",
    "    * 이상치가 있는 경우 변환된 값이 매우 좁은 범위로 압출될 수 있다 → 아웃 라이어의 존재에 매우 민감\n",
    "    * sklearn.preprocessing.MinMaxScaler().fit_transform()"
   ]
  },
  {
   "cell_type": "code",
   "execution_count": null,
   "metadata": {},
   "outputs": [],
   "source": []
  },
  {
   "cell_type": "markdown",
   "metadata": {},
   "source": [
    "2. 표준화와 정규화의 차이점을 설명하시오. <br>\n",
    "**표준화standardization**는 평균을 기준으로 어느 정도 떨어져있는지 나타낼 때 사용된다. <br>\n",
    "표준화는 분석 과정에서 변수들간의 척도(scale)가 달라도 상호 비교를 가능하게 하기위해 하는 작업이다. \n",
    "$$z(Z-Score) = {x - x_{평균} \\over S_{x}(표준편차)}$$ <br>\n",
    "[예시]몸무게와 키에 대해 표준화를 수해한 후 데이터를 보았을 때,몸무게는 양수, 키는 양수 값이 나온다면 해당 데이터를 가지는 사람은 평균보다 키가 크고 몸무게는 평균보다 덜 나간다고 할 수 있다. <br><br>\n",
    "**정규화normalization**는 데이터의 범위를 0과 1사이의 값으로 변화하여 데이터 분포를 조정하는 방법이다.\n",
    "$$z_{new} = {x - x_{min} \\over x_{max} - x_{min}}$$"
   ]
  },
  {
   "cell_type": "code",
   "execution_count": null,
   "metadata": {},
   "outputs": [],
   "source": []
  },
  {
   "cell_type": "markdown",
   "metadata": {},
   "source": [
    "3. 데이터 분석을 위해 필요로 하는 라이브러리 및 용도를 기술하시오.\n",
    "    1. NumPy <br>\n",
    "    빠른 벡터 산술연산과 브로드캐스팅 기능이 있는 배열 객체ndarray를 제공하는 라이브러리이다. 반복문을 작성할 필요 없이 전체 데이터 배열에 대해 함수를 적용할 수 있다. <br><br>\n",
    "\n",
    "    2. pandas <br>\n",
    "    2차원 표 또는 행과 열을 나타내는 R의 data.frame 객체에서 따온 DataFrame객체를 제공하는 라이브러리이다. NumPy의 고성능 배열 계산 기능과 스프레드시트, SQL 같은 관계형 데이터베이스의 유연한 데이터 조작 기능을 제공한다. <br><br>\n",
    "    3. matplotlib/ seaborn <br>\n",
    "    그래프 그리거나 2차원 데이터를 시각화 할 때 사용하는 라이브러리이다. "
   ]
  },
  {
   "cell_type": "markdown",
   "metadata": {},
   "source": [
    "\n"
   ]
  },
  {
   "cell_type": "markdown",
   "metadata": {},
   "source": [
    "## [Azure 머신러닝을 활용한 기계학습]\n",
    "1. 분산과 공분산의 차이점을 설명하시오. <br>\n",
    "**분산**은 모집단으로부터 추출한 표본 데이터들의 편차의 제곱의 산술적 평균을 의미한다. 하나의 변수가 어떻게 분표하고 있느냐를 표본집단의 분산을 봄으로써 모집단이 분포를 추정한다. <br>\n",
    "$$Var(X) = E[(X-\\mu)^2]$$\n",
    "<br><br>\n",
    "**공분산 Covariance**는 두 변수간의 관계를 나타낼 때 사용한다. <br>\n",
    "$$Cov(x, y) = E[(X - \\mu_{X})(Y - \\mu_{Y})]$$\n",
    "Cov(x, y) > 0 : x가 증가할 때, Y도 증가 <br>\n",
    "Cov(x, y) < 0 : x가 증가할 때, Y는 감소 <br>\n",
    "Cov(x, y) = 0 : 두 변순간에는 아무런 선형 관계가 없으며 두 변수는 서로 독립적인 관계이다. <br>\n",
    "그러나 두 변수가 독립적이라면 공분산은 0이 되지만, 공분산이 0이라고 해서 항상 독립적인 관계라고 할 수는 없다.\n"
   ]
  },
  {
   "cell_type": "code",
   "execution_count": null,
   "metadata": {},
   "outputs": [],
   "source": []
  },
  {
   "cell_type": "markdown",
   "metadata": {},
   "source": [
    "2. gapminder = pd.read_csv('../data/gapminder.tsv', sep='\\t') \n",
    "위 코드를 수행한 후, gapmider 변수에 저장된 컬럼 중 'year' 컬럼을 기준으로 'lifeExp' 컬럼값에 대한 평균을 구하고자 한다. 코드를 기술하시오."
   ]
  },
  {
   "cell_type": "code",
   "execution_count": 22,
   "metadata": {},
   "outputs": [],
   "source": [
    "gapminder = pd.read_csv(\"./res/gapminder.tsv\", sep=\"\\t\") "
   ]
  },
  {
   "cell_type": "code",
   "execution_count": 23,
   "metadata": {
    "scrolled": true
   },
   "outputs": [
    {
     "data": {
      "text/plain": [
       "year\n",
       "1952    49.057620\n",
       "1957    51.507401\n",
       "1962    53.609249\n",
       "1967    55.678290\n",
       "1972    57.647386\n",
       "1977    59.570157\n",
       "1982    61.533197\n",
       "1987    63.212613\n",
       "1992    64.160338\n",
       "1997    65.014676\n",
       "2002    65.694923\n",
       "2007    67.007423\n",
       "Name: lifeExp, dtype: float64"
      ]
     },
     "execution_count": 23,
     "metadata": {},
     "output_type": "execute_result"
    }
   ],
   "source": [
    "gapminder.groupby(\"year\").lifeExp.mean()"
   ]
  },
  {
   "cell_type": "code",
   "execution_count": null,
   "metadata": {},
   "outputs": [],
   "source": []
  },
  {
   "cell_type": "markdown",
   "metadata": {},
   "source": [
    "3. 머신러닝 학습 방법의 종류에 대해 나열하고, 설명하시오 <br>\n",
    "<img src =\"https://user-images.githubusercontent.com/50861901/61111146-daec2d80-a4c3-11e9-9041-f7fa2d3526d8.png\" width=\"50%\"> <br>\n",
    "    1. 지도 학습 Supervised Learning <br>\n",
    "    label이 붙어있는 학습 데이터를 바탕으로 모델을 만들고 그것을 바탕으로 새로운 데이터의 label을 추정하는 방법이다. 제대로된 학습 결과를 얻으려면 데이터에 따라 알맞은 알고리즘 선정과 많은 학습 데이터가 필요하다. <br>\n",
    "        * 분류 Classfication <br> \n",
    "        Binary Classification/ Multi-label Calssification <br>\n",
    "        MNIST/ 스팸메인과 정상 메일/ 공부 시간에 따른 전공 학점 <br>\n",
    "        * 회귀 Regression <br>\n",
    "        연속된 값을 예측 <br>\n",
    "        공부 시간에 따른 시험 점수 <br><br>\n",
    "    2. 비지도 학습 Un-supervised Learning <br>\n",
    "    학습 데이터에 대한 기대값이 붙어 있지 않다. 때문에 학습 알고리즘을 통해 학습 데이터 속의 특정 패턴(숨겨진 특징, 구조)을 찾고 이를 이용해 데이터를 분류하는 방법이다. <br>\n",
    "        * Clustering <br><br>\n",
    "    3. 강화 학습 Reinforcement learning <br>\n",
    "    결과값이 좋으면 reward를 그렇지 못하면 punishment를 주며 이를 통해 원하는 방향으로 학습을 하는 방법이다. 이때 보상을 최대화하는 쪽으로 학습이 진행된다."
   ]
  },
  {
   "cell_type": "code",
   "execution_count": null,
   "metadata": {},
   "outputs": [],
   "source": []
  },
  {
   "cell_type": "markdown",
   "metadata": {},
   "source": [
    "4. 그룹화와 관련된 함수 및 형식을 기술하시오.\n",
    "    1. pandas.DataFrame.groupby(), pandas.Series.groupby() <br>\n",
    "        * DataFrame.groupby([기준1, 기준2, ...]) <br>\n",
    "        * Series.groupby([기준1, 기준2, ...]) <br>\n",
    "        기준이 되는 값으로 데이터를 묶은 뒤 그룹화된 각 그룹(이나 그룹화된 그룹의 특정 행)에 groupby methods(mean, std, min, max 등)을 이용하여 분석하거나 agg(), apply(), map() 등의 함수를 사용하여 이미 정의된 함수나 사용자 정의 함수를 정용하여 분석한다.\n",
    "    <br><br>\n",
    "    \n",
    "    반환값은 DataFrameGroupBy나 SeriesGroupBy이다. \n",
    "    \n",
    "    2. pandas.DataFrame.pivot_table <br>\n",
    "    사용할 데이터.pivot_table(values=함수를 적용할 특정 col, index=[indx1, idx2, ...], columns=[col1, col2, ...], aggfunc=적용 함수, fill_value=NaN 대체 값)\n",
    "        * index = 그룹화 1번째 기준. pivot table의 index가 된다\n",
    "        * columns = 그룹화 2번째 기준. pivot table의 col이 된다\n",
    "    "
   ]
  },
  {
   "cell_type": "code",
   "execution_count": null,
   "metadata": {},
   "outputs": [],
   "source": []
  }
 ],
 "metadata": {
  "kernelspec": {
   "display_name": "Python 3",
   "language": "python",
   "name": "python3"
  },
  "language_info": {
   "codemirror_mode": {
    "name": "ipython",
    "version": 3
   },
   "file_extension": ".py",
   "mimetype": "text/x-python",
   "name": "python",
   "nbconvert_exporter": "python",
   "pygments_lexer": "ipython3",
   "version": "3.7.3"
  }
 },
 "nbformat": 4,
 "nbformat_minor": 2
}
